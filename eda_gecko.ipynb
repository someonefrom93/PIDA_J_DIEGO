{
 "cells": [
  {
   "cell_type": "code",
   "execution_count": 1,
   "metadata": {},
   "outputs": [],
   "source": [
    "import pandas as pd\n",
    "import matplotlib.pyplot as plt\n",
    "import numpy as np\n",
    "import requests"
   ]
  },
  {
   "cell_type": "code",
   "execution_count": 182,
   "metadata": {},
   "outputs": [
    {
     "name": "stdout",
     "output_type": "stream",
     "text": [
      "{'gecko_says': '(V3) To the Moon!'}\n"
     ]
    }
   ],
   "source": [
    "endpoint_url = \"https://api.coingecko.com/api/v3/ping\"\n",
    "\n",
    "params = {\n",
    "    \"vs_currency\": \"usd\",\n",
    "    \"order\": \"market_cap_desc\",\n",
    "    \"per_page\": 10,\n",
    "    \"page\": 1\n",
    "}\n",
    "\n",
    "reponse = requests.get(endpoint_url)\n",
    "\n",
    "if reponse.status_code == 200:\n",
    "    print(reponse.json())\n",
    "else:\n",
    "    print(\"Error: \", reponse.status_code)"
   ]
  },
  {
   "cell_type": "markdown",
   "metadata": {},
   "source": [
    "# Having a look at CoinGecko API\n",
    "\n",
    "An API requires an endpoint direcoty and maybe parameters. Tha's not the case for the end point currencies. We just need the available currencies"
   ]
  },
  {
   "cell_type": "markdown",
   "metadata": {},
   "source": [
    "#### Coins\n",
    "\n",
    "\n",
    "Gecko offers literally tons of different coins (10k+)... which is kinda crazy, so let's only focus on the treding to only pick 10 of them.. and let's search what the end point `search/trending` has for us"
   ]
  },
  {
   "cell_type": "code",
   "execution_count": 67,
   "metadata": {},
   "outputs": [
    {
     "data": {
      "text/plain": [
       "{'coins': [{'item': {'id': 'apecoin',\n",
       "    'coin_id': 24383,\n",
       "    'name': 'ApeCoin',\n",
       "    'symbol': 'APE',\n",
       "    'market_cap_rank': 64,\n",
       "    'thumb': 'https://assets.coingecko.com/coins/images/24383/thumb/apecoin.jpg?1647476455',\n",
       "    'small': 'https://assets.coingecko.com/coins/images/24383/small/apecoin.jpg?1647476455',\n",
       "    'large': 'https://assets.coingecko.com/coins/images/24383/large/apecoin.jpg?1647476455',\n",
       "    'slug': 'apecoin',\n",
       "    'price_btc': 5.8467774987416256e-05,\n",
       "    'score': 0}},\n",
       "  {'item': {'id': 'sei-network',\n",
       "    'coin_id': 28205,\n",
       "    'name': 'Sei',\n",
       "    'symbol': 'SEI',\n",
       "    'market_cap_rank': 108,\n",
       "    'thumb': 'https://assets.coingecko.com/coins/images/28205/thumb/TKmaTqMv_400x400.jpeg?1668395911',\n",
       "    'small': 'https://assets.coingecko.com/coins/images/28205/small/TKmaTqMv_400x400.jpeg?1668395911',\n",
       "    'large': 'https://assets.coingecko.com/coins/images/28205/large/TKmaTqMv_400x400.jpeg?1668395911',\n",
       "    'slug': 'sei',\n",
       "    'price_btc': 6.345468091720208e-06,\n",
       "    'score': 1}},\n",
       "  {'item': {'id': 'arbitrum',\n",
       "    'coin_id': 16547,\n",
       "    'name': 'Arbitrum',\n",
       "    'symbol': 'ARB',\n",
       "    'market_cap_rank': 39,\n",
       "    'thumb': 'https://assets.coingecko.com/coins/images/16547/thumb/photo_2023-03-29_21.47.00.jpeg?1680097630',\n",
       "    'small': 'https://assets.coingecko.com/coins/images/16547/small/photo_2023-03-29_21.47.00.jpeg?1680097630',\n",
       "    'large': 'https://assets.coingecko.com/coins/images/16547/large/photo_2023-03-29_21.47.00.jpeg?1680097630',\n",
       "    'slug': 'arbitrum',\n",
       "    'price_btc': 3.622889748882967e-05,\n",
       "    'score': 2}},\n",
       "  {'item': {'id': 'harrypotterobamapacman8inu',\n",
       "    'coin_id': 31241,\n",
       "    'name': 'HarryPotterObamaPacMan8Inu',\n",
       "    'symbol': 'XRP',\n",
       "    'market_cap_rank': 476,\n",
       "    'thumb': 'https://assets.coingecko.com/coins/images/31241/thumb/Pacman_Logo200x200.png?1691717643',\n",
       "    'small': 'https://assets.coingecko.com/coins/images/31241/small/Pacman_Logo200x200.png?1691717643',\n",
       "    'large': 'https://assets.coingecko.com/coins/images/31241/large/Pacman_Logo200x200.png?1691717643',\n",
       "    'slug': 'harrypotterobamapacman8inu',\n",
       "    'price_btc': 1.3473443448513024e-05,\n",
       "    'score': 3}},\n",
       "  {'item': {'id': 'unibot',\n",
       "    'coin_id': 30462,\n",
       "    'name': 'Unibot',\n",
       "    'symbol': 'UNIBOT',\n",
       "    'market_cap_rank': 175,\n",
       "    'thumb': 'https://assets.coingecko.com/coins/images/30462/thumb/logonoline_%281%29.png?1687510315',\n",
       "    'small': 'https://assets.coingecko.com/coins/images/30462/small/logonoline_%281%29.png?1687510315',\n",
       "    'large': 'https://assets.coingecko.com/coins/images/30462/large/logonoline_%281%29.png?1687510315',\n",
       "    'slug': 'unibot',\n",
       "    'price_btc': 0.006418356370565101,\n",
       "    'score': 4}},\n",
       "  {'item': {'id': 'arc',\n",
       "    'coin_id': 24235,\n",
       "    'name': 'Arc',\n",
       "    'symbol': 'ARC',\n",
       "    'market_cap_rank': 704,\n",
       "    'thumb': 'https://assets.coingecko.com/coins/images/24235/thumb/arc.png?1647694270',\n",
       "    'small': 'https://assets.coingecko.com/coins/images/24235/small/arc.png?1647694270',\n",
       "    'large': 'https://assets.coingecko.com/coins/images/24235/large/arc.png?1647694270',\n",
       "    'slug': 'arc',\n",
       "    'price_btc': 9.129403231135903e-07,\n",
       "    'score': 5}},\n",
       "  {'item': {'id': 'shiba-inu',\n",
       "    'coin_id': 11939,\n",
       "    'name': 'Shiba Inu',\n",
       "    'symbol': 'SHIB',\n",
       "    'market_cap_rank': 14,\n",
       "    'thumb': 'https://assets.coingecko.com/coins/images/11939/thumb/shiba.png?1622619446',\n",
       "    'small': 'https://assets.coingecko.com/coins/images/11939/small/shiba.png?1622619446',\n",
       "    'large': 'https://assets.coingecko.com/coins/images/11939/large/shiba.png?1622619446',\n",
       "    'slug': 'shiba-inu',\n",
       "    'price_btc': 2.995026403963271e-10,\n",
       "    'score': 6}},\n",
       "  {'item': {'id': 'worldcoin-wld',\n",
       "    'coin_id': 31069,\n",
       "    'name': 'Worldcoin',\n",
       "    'symbol': 'WLD',\n",
       "    'market_cap_rank': 169,\n",
       "    'thumb': 'https://assets.coingecko.com/coins/images/31069/thumb/worldcoin.jpeg?1690182386',\n",
       "    'small': 'https://assets.coingecko.com/coins/images/31069/small/worldcoin.jpeg?1690182386',\n",
       "    'large': 'https://assets.coingecko.com/coins/images/31069/large/worldcoin.jpeg?1690182386',\n",
       "    'slug': 'worldcoin',\n",
       "    'price_btc': 5.034525305290958e-05,\n",
       "    'score': 7}}],\n",
       " 'nfts': [{'id': 'cryptocubes',\n",
       "   'name': 'CryptoCubes',\n",
       "   'symbol': 'CC',\n",
       "   'thumb': 'https://assets.coingecko.com/nft_contracts/images/1108/small/cryptocubes.png?1658079643',\n",
       "   'nft_contract_id': 1108,\n",
       "   'native_currency_symbol': 'eth',\n",
       "   'floor_price_in_native_currency': 12.5,\n",
       "   'floor_price_24h_percentage_change': 222.765434286178},\n",
       "  {'id': 'y00ts',\n",
       "   'name': 'y00ts',\n",
       "   'symbol': 'y00t',\n",
       "   'thumb': 'https://assets.coingecko.com/nft_contracts/images/3143/small/y00ts1.jpg?1680064806',\n",
       "   'nft_contract_id': 3143,\n",
       "   'native_currency_symbol': 'eth',\n",
       "   'floor_price_in_native_currency': 0.95,\n",
       "   'floor_price_24h_percentage_change': 6.36664557704676},\n",
       "  {'id': 'degods',\n",
       "   'name': 'DeGods',\n",
       "   'symbol': 'DEGODS',\n",
       "   'thumb': 'https://assets.coingecko.com/nft_contracts/images/3145/small/degods.png?1680194340',\n",
       "   'nft_contract_id': 3145,\n",
       "   'native_currency_symbol': 'eth',\n",
       "   'floor_price_in_native_currency': 4.5,\n",
       "   'floor_price_24h_percentage_change': 0.598148054631952},\n",
       "  {'id': 'solcasinoio',\n",
       "   'name': 'Solcasino.io',\n",
       "   'symbol': 'SOLCASINOIO',\n",
       "   'thumb': 'https://assets.coingecko.com/nft_contracts/images/3430/small/solcasino-io.png?1692171194',\n",
       "   'nft_contract_id': 3430,\n",
       "   'native_currency_symbol': 'sol',\n",
       "   'floor_price_in_native_currency': 70.35168051429909,\n",
       "   'floor_price_24h_percentage_change': -1.44149443091281},\n",
       "  {'id': 'bitcoin-frogs',\n",
       "   'name': 'Bitcoin Frogs',\n",
       "   'symbol': 'BITCOIN-FROGS',\n",
       "   'thumb': 'https://assets.coingecko.com/nft_contracts/images/3262/small/bitcoin-frogs.png?1689838695',\n",
       "   'nft_contract_id': 3262,\n",
       "   'native_currency_symbol': 'btc',\n",
       "   'floor_price_in_native_currency': 0.0284,\n",
       "   'floor_price_24h_percentage_change': -3.84807488964617}],\n",
       " 'exchanges': []}"
      ]
     },
     "execution_count": 67,
     "metadata": {},
     "output_type": "execute_result"
    }
   ],
   "source": [
    "coingecko = \"https://api.coingecko.com/api/v3/\"\n",
    "trend_coins_ep = \"search/trending\"\n",
    "\n",
    "trend_coins = requests.get(coingecko + trend_coins_ep).json()\n",
    "trend_coins"
   ]
  },
  {
   "cell_type": "markdown",
   "metadata": {},
   "source": [
    "ok.. when I run into this messy view structures.. I just zoom into each level that compose the object. The throws a simple dictionary.. and let's just get the keys and see what we've got"
   ]
  },
  {
   "cell_type": "code",
   "execution_count": 68,
   "metadata": {},
   "outputs": [
    {
     "data": {
      "text/plain": [
       "dict_keys(['coins', 'nfts', 'exchanges'])"
      ]
     },
     "execution_count": 68,
     "metadata": {},
     "output_type": "execute_result"
    }
   ],
   "source": [
    "trend_coins.keys()"
   ]
  },
  {
   "cell_type": "code",
   "execution_count": 69,
   "metadata": {},
   "outputs": [
    {
     "data": {
      "text/plain": [
       "(8, 5, 0)"
      ]
     },
     "execution_count": 69,
     "metadata": {},
     "output_type": "execute_result"
    }
   ],
   "source": [
    "len(trend_coins[\"coins\"]), len(trend_coins[\"nfts\"]), len(trend_coins[\"exchanges\"])"
   ]
  },
  {
   "cell_type": "code",
   "execution_count": 70,
   "metadata": {},
   "outputs": [
    {
     "data": {
      "text/plain": [
       "(dict,\n",
       " {'id': 'apecoin',\n",
       "  'coin_id': 24383,\n",
       "  'name': 'ApeCoin',\n",
       "  'symbol': 'APE',\n",
       "  'market_cap_rank': 64,\n",
       "  'thumb': 'https://assets.coingecko.com/coins/images/24383/thumb/apecoin.jpg?1647476455',\n",
       "  'small': 'https://assets.coingecko.com/coins/images/24383/small/apecoin.jpg?1647476455',\n",
       "  'large': 'https://assets.coingecko.com/coins/images/24383/large/apecoin.jpg?1647476455',\n",
       "  'slug': 'apecoin',\n",
       "  'price_btc': 5.8467774987416256e-05,\n",
       "  'score': 0})"
      ]
     },
     "execution_count": 70,
     "metadata": {},
     "output_type": "execute_result"
    }
   ],
   "source": [
    "coin_list_df = pd.DataFrame(trend_coins[\"coins\"]).rename(columns={\"item\": \"coin_information\"})\n",
    "# Only for checkking the appropiate object --> dict, that's ok\n",
    "type(coin_list_df[\"coin_information\"][0]), coin_list_df[\"coin_information\"][0]"
   ]
  },
  {
   "cell_type": "code",
   "execution_count": 72,
   "metadata": {},
   "outputs": [
    {
     "data": {
      "text/html": [
       "<div>\n",
       "<style scoped>\n",
       "    .dataframe tbody tr th:only-of-type {\n",
       "        vertical-align: middle;\n",
       "    }\n",
       "\n",
       "    .dataframe tbody tr th {\n",
       "        vertical-align: top;\n",
       "    }\n",
       "\n",
       "    .dataframe thead th {\n",
       "        text-align: right;\n",
       "    }\n",
       "</style>\n",
       "<table border=\"1\" class=\"dataframe\">\n",
       "  <thead>\n",
       "    <tr style=\"text-align: right;\">\n",
       "      <th></th>\n",
       "      <th>coin_information</th>\n",
       "    </tr>\n",
       "  </thead>\n",
       "  <tbody>\n",
       "    <tr>\n",
       "      <th>0</th>\n",
       "      <td>{'id': 'apecoin', 'coin_id': 24383, 'name': 'A...</td>\n",
       "    </tr>\n",
       "    <tr>\n",
       "      <th>1</th>\n",
       "      <td>{'id': 'sei-network', 'coin_id': 28205, 'name'...</td>\n",
       "    </tr>\n",
       "    <tr>\n",
       "      <th>2</th>\n",
       "      <td>{'id': 'arbitrum', 'coin_id': 16547, 'name': '...</td>\n",
       "    </tr>\n",
       "    <tr>\n",
       "      <th>3</th>\n",
       "      <td>{'id': 'harrypotterobamapacman8inu', 'coin_id'...</td>\n",
       "    </tr>\n",
       "    <tr>\n",
       "      <th>4</th>\n",
       "      <td>{'id': 'unibot', 'coin_id': 30462, 'name': 'Un...</td>\n",
       "    </tr>\n",
       "    <tr>\n",
       "      <th>5</th>\n",
       "      <td>{'id': 'arc', 'coin_id': 24235, 'name': 'Arc',...</td>\n",
       "    </tr>\n",
       "    <tr>\n",
       "      <th>6</th>\n",
       "      <td>{'id': 'shiba-inu', 'coin_id': 11939, 'name': ...</td>\n",
       "    </tr>\n",
       "    <tr>\n",
       "      <th>7</th>\n",
       "      <td>{'id': 'worldcoin-wld', 'coin_id': 31069, 'nam...</td>\n",
       "    </tr>\n",
       "  </tbody>\n",
       "</table>\n",
       "</div>"
      ],
      "text/plain": [
       "                                    coin_information\n",
       "0  {'id': 'apecoin', 'coin_id': 24383, 'name': 'A...\n",
       "1  {'id': 'sei-network', 'coin_id': 28205, 'name'...\n",
       "2  {'id': 'arbitrum', 'coin_id': 16547, 'name': '...\n",
       "3  {'id': 'harrypotterobamapacman8inu', 'coin_id'...\n",
       "4  {'id': 'unibot', 'coin_id': 30462, 'name': 'Un...\n",
       "5  {'id': 'arc', 'coin_id': 24235, 'name': 'Arc',...\n",
       "6  {'id': 'shiba-inu', 'coin_id': 11939, 'name': ...\n",
       "7  {'id': 'worldcoin-wld', 'coin_id': 31069, 'nam..."
      ]
     },
     "execution_count": 72,
     "metadata": {},
     "output_type": "execute_result"
    }
   ],
   "source": [
    "coin_list_df # -> We've got a dataframe with dictionaries. Then.. how coul I get those key and arrange them as columns? by creating the columns"
   ]
  },
  {
   "cell_type": "code",
   "execution_count": 73,
   "metadata": {},
   "outputs": [],
   "source": [
    "# This simple iterator is for building the dataframe by extracting the keys and assigng them as column name.\n",
    "for key, value in coin_list_df[\"coin_information\"][0].items():\n",
    "    coin_list_df[key] = coin_list_df[\"coin_information\"].apply(lambda coin: coin[key])\n",
    "\n",
    "\n",
    "coin_list_df.drop(columns=\"coin_information\", inplace=True)"
   ]
  },
  {
   "cell_type": "code",
   "execution_count": 74,
   "metadata": {},
   "outputs": [
    {
     "data": {
      "text/plain": [
       "'https://assets.coingecko.com/coins/images/24383/thumb/apecoin.jpg?1647476455'"
      ]
     },
     "execution_count": 74,
     "metadata": {},
     "output_type": "execute_result"
    }
   ],
   "source": [
    "coin_list_df[\"thumb\"][0]"
   ]
  },
  {
   "cell_type": "code",
   "execution_count": 75,
   "metadata": {},
   "outputs": [],
   "source": [
    "coin_list_df.drop(columns=[\"thumb\", \"small\", \"large\"], inplace=True)"
   ]
  },
  {
   "cell_type": "code",
   "execution_count": 76,
   "metadata": {},
   "outputs": [
    {
     "data": {
      "text/html": [
       "<div>\n",
       "<style scoped>\n",
       "    .dataframe tbody tr th:only-of-type {\n",
       "        vertical-align: middle;\n",
       "    }\n",
       "\n",
       "    .dataframe tbody tr th {\n",
       "        vertical-align: top;\n",
       "    }\n",
       "\n",
       "    .dataframe thead th {\n",
       "        text-align: right;\n",
       "    }\n",
       "</style>\n",
       "<table border=\"1\" class=\"dataframe\">\n",
       "  <thead>\n",
       "    <tr style=\"text-align: right;\">\n",
       "      <th></th>\n",
       "      <th>id</th>\n",
       "      <th>coin_id</th>\n",
       "      <th>name</th>\n",
       "      <th>symbol</th>\n",
       "      <th>market_cap_rank</th>\n",
       "      <th>slug</th>\n",
       "      <th>price_btc</th>\n",
       "      <th>score</th>\n",
       "    </tr>\n",
       "  </thead>\n",
       "  <tbody>\n",
       "    <tr>\n",
       "      <th>0</th>\n",
       "      <td>apecoin</td>\n",
       "      <td>24383</td>\n",
       "      <td>ApeCoin</td>\n",
       "      <td>APE</td>\n",
       "      <td>64</td>\n",
       "      <td>apecoin</td>\n",
       "      <td>5.846777e-05</td>\n",
       "      <td>0</td>\n",
       "    </tr>\n",
       "    <tr>\n",
       "      <th>1</th>\n",
       "      <td>sei-network</td>\n",
       "      <td>28205</td>\n",
       "      <td>Sei</td>\n",
       "      <td>SEI</td>\n",
       "      <td>108</td>\n",
       "      <td>sei</td>\n",
       "      <td>6.345468e-06</td>\n",
       "      <td>1</td>\n",
       "    </tr>\n",
       "    <tr>\n",
       "      <th>2</th>\n",
       "      <td>arbitrum</td>\n",
       "      <td>16547</td>\n",
       "      <td>Arbitrum</td>\n",
       "      <td>ARB</td>\n",
       "      <td>39</td>\n",
       "      <td>arbitrum</td>\n",
       "      <td>3.622890e-05</td>\n",
       "      <td>2</td>\n",
       "    </tr>\n",
       "    <tr>\n",
       "      <th>3</th>\n",
       "      <td>harrypotterobamapacman8inu</td>\n",
       "      <td>31241</td>\n",
       "      <td>HarryPotterObamaPacMan8Inu</td>\n",
       "      <td>XRP</td>\n",
       "      <td>476</td>\n",
       "      <td>harrypotterobamapacman8inu</td>\n",
       "      <td>1.347344e-05</td>\n",
       "      <td>3</td>\n",
       "    </tr>\n",
       "    <tr>\n",
       "      <th>4</th>\n",
       "      <td>unibot</td>\n",
       "      <td>30462</td>\n",
       "      <td>Unibot</td>\n",
       "      <td>UNIBOT</td>\n",
       "      <td>175</td>\n",
       "      <td>unibot</td>\n",
       "      <td>6.418356e-03</td>\n",
       "      <td>4</td>\n",
       "    </tr>\n",
       "    <tr>\n",
       "      <th>5</th>\n",
       "      <td>arc</td>\n",
       "      <td>24235</td>\n",
       "      <td>Arc</td>\n",
       "      <td>ARC</td>\n",
       "      <td>704</td>\n",
       "      <td>arc</td>\n",
       "      <td>9.129403e-07</td>\n",
       "      <td>5</td>\n",
       "    </tr>\n",
       "    <tr>\n",
       "      <th>6</th>\n",
       "      <td>shiba-inu</td>\n",
       "      <td>11939</td>\n",
       "      <td>Shiba Inu</td>\n",
       "      <td>SHIB</td>\n",
       "      <td>14</td>\n",
       "      <td>shiba-inu</td>\n",
       "      <td>2.995026e-10</td>\n",
       "      <td>6</td>\n",
       "    </tr>\n",
       "    <tr>\n",
       "      <th>7</th>\n",
       "      <td>worldcoin-wld</td>\n",
       "      <td>31069</td>\n",
       "      <td>Worldcoin</td>\n",
       "      <td>WLD</td>\n",
       "      <td>169</td>\n",
       "      <td>worldcoin</td>\n",
       "      <td>5.034525e-05</td>\n",
       "      <td>7</td>\n",
       "    </tr>\n",
       "  </tbody>\n",
       "</table>\n",
       "</div>"
      ],
      "text/plain": [
       "                           id  coin_id                        name  symbol  \\\n",
       "0                     apecoin    24383                     ApeCoin     APE   \n",
       "1                 sei-network    28205                         Sei     SEI   \n",
       "2                    arbitrum    16547                    Arbitrum     ARB   \n",
       "3  harrypotterobamapacman8inu    31241  HarryPotterObamaPacMan8Inu     XRP   \n",
       "4                      unibot    30462                      Unibot  UNIBOT   \n",
       "5                         arc    24235                         Arc     ARC   \n",
       "6                   shiba-inu    11939                   Shiba Inu    SHIB   \n",
       "7               worldcoin-wld    31069                   Worldcoin     WLD   \n",
       "\n",
       "   market_cap_rank                        slug     price_btc  score  \n",
       "0               64                     apecoin  5.846777e-05      0  \n",
       "1              108                         sei  6.345468e-06      1  \n",
       "2               39                    arbitrum  3.622890e-05      2  \n",
       "3              476  harrypotterobamapacman8inu  1.347344e-05      3  \n",
       "4              175                      unibot  6.418356e-03      4  \n",
       "5              704                         arc  9.129403e-07      5  \n",
       "6               14                   shiba-inu  2.995026e-10      6  \n",
       "7              169                   worldcoin  5.034525e-05      7  "
      ]
     },
     "execution_count": 76,
     "metadata": {},
     "output_type": "execute_result"
    }
   ],
   "source": [
    "coin_list_df"
   ]
  },
  {
   "cell_type": "code",
   "execution_count": 77,
   "metadata": {},
   "outputs": [
    {
     "data": {
      "text/plain": [
       "'apecoin,sei-network,arbitrum,harrypotterobamapacman8inu,unibot,arc,shiba-inu,worldcoin-wld'"
      ]
     },
     "execution_count": 77,
     "metadata": {},
     "output_type": "execute_result"
    }
   ],
   "source": [
    "\",\".join(coin_list_df[\"id\"].tolist())"
   ]
  },
  {
   "cell_type": "code",
   "execution_count": 78,
   "metadata": {},
   "outputs": [
    {
     "data": {
      "text/plain": [
       "{'id': 'localcoinswap',\n",
       " 'name': 'LocalCoinSwap',\n",
       " 'api_symbol': 'localcoinswap',\n",
       " 'symbol': 'LCS',\n",
       " 'market_cap_rank': 1289,\n",
       " 'thumb': 'https://assets.coingecko.com/coins/images/3998/thumb/LocalCoinSwap.png',\n",
       " 'large': 'https://assets.coingecko.com/coins/images/3998/large/LocalCoinSwap.png'}"
      ]
     },
     "execution_count": 78,
     "metadata": {},
     "output_type": "execute_result"
    }
   ],
   "source": [
    "search_coin_ep = \"search\"\n",
    "\n",
    "search_coin_parameters = {\n",
    "    \"query\": \"coins\"\n",
    "}\n",
    "\n",
    "requests.get(coingecko + search_coin_ep, params=search_coin_parameters).json()[\"coins\"][0]"
   ]
  },
  {
   "cell_type": "markdown",
   "metadata": {},
   "source": [
    "#### Getting currencies\n",
    "\n",
    "`/simple/supported_vs_currencies` end point"
   ]
  },
  {
   "cell_type": "code",
   "execution_count": 79,
   "metadata": {},
   "outputs": [],
   "source": [
    "supported_currencies_ep = \"simple/supported_vs_currencies\"\n",
    "\n",
    "# No parameters requiered\n",
    "\n",
    "currencies_df = pd.DataFrame(requests.get(coingecko + supported_currencies_ep).json()).rename(columns={0: \"currencies\"})"
   ]
  },
  {
   "cell_type": "code",
   "execution_count": 80,
   "metadata": {},
   "outputs": [
    {
     "data": {
      "text/html": [
       "<div>\n",
       "<style scoped>\n",
       "    .dataframe tbody tr th:only-of-type {\n",
       "        vertical-align: middle;\n",
       "    }\n",
       "\n",
       "    .dataframe tbody tr th {\n",
       "        vertical-align: top;\n",
       "    }\n",
       "\n",
       "    .dataframe thead th {\n",
       "        text-align: right;\n",
       "    }\n",
       "</style>\n",
       "<table border=\"1\" class=\"dataframe\">\n",
       "  <thead>\n",
       "    <tr style=\"text-align: right;\">\n",
       "      <th></th>\n",
       "      <th>currencies</th>\n",
       "    </tr>\n",
       "  </thead>\n",
       "  <tbody>\n",
       "    <tr>\n",
       "      <th>7</th>\n",
       "      <td>xlm</td>\n",
       "    </tr>\n",
       "    <tr>\n",
       "      <th>17</th>\n",
       "      <td>bmd</td>\n",
       "    </tr>\n",
       "    <tr>\n",
       "      <th>36</th>\n",
       "      <td>mmk</td>\n",
       "    </tr>\n",
       "    <tr>\n",
       "      <th>37</th>\n",
       "      <td>mxn</td>\n",
       "    </tr>\n",
       "    <tr>\n",
       "      <th>38</th>\n",
       "      <td>myr</td>\n",
       "    </tr>\n",
       "  </tbody>\n",
       "</table>\n",
       "</div>"
      ],
      "text/plain": [
       "   currencies\n",
       "7         xlm\n",
       "17        bmd\n",
       "36        mmk\n",
       "37        mxn\n",
       "38        myr"
      ]
     },
     "execution_count": 80,
     "metadata": {},
     "output_type": "execute_result"
    }
   ],
   "source": [
    "currencies_df[currencies_df[\"currencies\"].str.contains(\"mx*\")]"
   ]
  },
  {
   "cell_type": "markdown",
   "metadata": {},
   "source": [
    "#### Get Data by ID or Contract\n",
    "\n",
    "* Get the current coin's price"
   ]
  },
  {
   "cell_type": "code",
   "execution_count": 81,
   "metadata": {},
   "outputs": [
    {
     "data": {
      "text/plain": [
       "'apecoin,sei-network,arbitrum,harrypotterobamapacman8inu,unibot,arc,shiba-inu,worldcoin-wld'"
      ]
     },
     "execution_count": 81,
     "metadata": {},
     "output_type": "execute_result"
    }
   ],
   "source": [
    "\",\".join(coin_list_df[\"id\"].tolist())\n"
   ]
  },
  {
   "cell_type": "code",
   "execution_count": 82,
   "metadata": {},
   "outputs": [],
   "source": [
    "simple_price_ep = \"simple/price\"\n",
    "\n",
    "coin_ids = \",\".join(coin_list_df[\"id\"].tolist())\n",
    "\n",
    "simple_price_parameters = {\n",
    "    \"ids\": coin_ids,\n",
    "    \"vs_currencies\": \"usd\",\n",
    "    \"include_market_cap\": \"true\",\n",
    "    \"include_24hr_vol\": \"true\",\n",
    "    \"include_24hr_change\": \"true\",\n",
    "    \"include_last_updated_at\": \"true\",\n",
    "    \"precision\": \"4\"\n",
    "}\n",
    "\n",
    "simple_price_of_coins_df = pd.DataFrame(requests.get(coingecko + simple_price_ep, params=simple_price_parameters).json()).T"
   ]
  },
  {
   "cell_type": "code",
   "execution_count": 83,
   "metadata": {},
   "outputs": [
    {
     "data": {
      "text/html": [
       "<div>\n",
       "<style scoped>\n",
       "    .dataframe tbody tr th:only-of-type {\n",
       "        vertical-align: middle;\n",
       "    }\n",
       "\n",
       "    .dataframe tbody tr th {\n",
       "        vertical-align: top;\n",
       "    }\n",
       "\n",
       "    .dataframe thead th {\n",
       "        text-align: right;\n",
       "    }\n",
       "</style>\n",
       "<table border=\"1\" class=\"dataframe\">\n",
       "  <thead>\n",
       "    <tr style=\"text-align: right;\">\n",
       "      <th></th>\n",
       "      <th>usd</th>\n",
       "      <th>usd_market_cap</th>\n",
       "      <th>usd_24h_vol</th>\n",
       "      <th>usd_24h_change</th>\n",
       "      <th>last_updated_at</th>\n",
       "    </tr>\n",
       "  </thead>\n",
       "  <tbody>\n",
       "    <tr>\n",
       "      <th>apecoin</th>\n",
       "      <td>1.5336</td>\n",
       "      <td>5.648653e+08</td>\n",
       "      <td>1.760068e+08</td>\n",
       "      <td>-10.175890</td>\n",
       "      <td>1.692311e+09</td>\n",
       "    </tr>\n",
       "    <tr>\n",
       "      <th>arbitrum</th>\n",
       "      <td>0.9600</td>\n",
       "      <td>1.220676e+09</td>\n",
       "      <td>2.409838e+08</td>\n",
       "      <td>-7.951236</td>\n",
       "      <td>1.692311e+09</td>\n",
       "    </tr>\n",
       "    <tr>\n",
       "      <th>arc</th>\n",
       "      <td>0.0239</td>\n",
       "      <td>1.717852e+07</td>\n",
       "      <td>2.356964e+06</td>\n",
       "      <td>22.755001</td>\n",
       "      <td>1.692311e+09</td>\n",
       "    </tr>\n",
       "    <tr>\n",
       "      <th>harrypotterobamapacman8inu</th>\n",
       "      <td>0.3796</td>\n",
       "      <td>2.984026e+07</td>\n",
       "      <td>2.500399e+06</td>\n",
       "      <td>110.518790</td>\n",
       "      <td>1.692311e+09</td>\n",
       "    </tr>\n",
       "    <tr>\n",
       "      <th>sei-network</th>\n",
       "      <td>0.1686</td>\n",
       "      <td>2.991740e+08</td>\n",
       "      <td>5.364072e+08</td>\n",
       "      <td>-11.534265</td>\n",
       "      <td>1.692311e+09</td>\n",
       "    </tr>\n",
       "    <tr>\n",
       "      <th>shiba-inu</th>\n",
       "      <td>0.0000</td>\n",
       "      <td>4.621419e+09</td>\n",
       "      <td>4.678565e+08</td>\n",
       "      <td>-15.221279</td>\n",
       "      <td>1.692311e+09</td>\n",
       "    </tr>\n",
       "    <tr>\n",
       "      <th>unibot</th>\n",
       "      <td>169.9168</td>\n",
       "      <td>1.680921e+08</td>\n",
       "      <td>9.376655e+06</td>\n",
       "      <td>-7.073205</td>\n",
       "      <td>1.692311e+09</td>\n",
       "    </tr>\n",
       "    <tr>\n",
       "      <th>worldcoin-wld</th>\n",
       "      <td>1.3275</td>\n",
       "      <td>1.669997e+08</td>\n",
       "      <td>5.557794e+07</td>\n",
       "      <td>-10.633783</td>\n",
       "      <td>1.692311e+09</td>\n",
       "    </tr>\n",
       "  </tbody>\n",
       "</table>\n",
       "</div>"
      ],
      "text/plain": [
       "                                 usd  usd_market_cap   usd_24h_vol  \\\n",
       "apecoin                       1.5336    5.648653e+08  1.760068e+08   \n",
       "arbitrum                      0.9600    1.220676e+09  2.409838e+08   \n",
       "arc                           0.0239    1.717852e+07  2.356964e+06   \n",
       "harrypotterobamapacman8inu    0.3796    2.984026e+07  2.500399e+06   \n",
       "sei-network                   0.1686    2.991740e+08  5.364072e+08   \n",
       "shiba-inu                     0.0000    4.621419e+09  4.678565e+08   \n",
       "unibot                      169.9168    1.680921e+08  9.376655e+06   \n",
       "worldcoin-wld                 1.3275    1.669997e+08  5.557794e+07   \n",
       "\n",
       "                            usd_24h_change  last_updated_at  \n",
       "apecoin                         -10.175890     1.692311e+09  \n",
       "arbitrum                         -7.951236     1.692311e+09  \n",
       "arc                              22.755001     1.692311e+09  \n",
       "harrypotterobamapacman8inu      110.518790     1.692311e+09  \n",
       "sei-network                     -11.534265     1.692311e+09  \n",
       "shiba-inu                       -15.221279     1.692311e+09  \n",
       "unibot                           -7.073205     1.692311e+09  \n",
       "worldcoin-wld                   -10.633783     1.692311e+09  "
      ]
     },
     "execution_count": 83,
     "metadata": {},
     "output_type": "execute_result"
    }
   ],
   "source": [
    "pd.DataFrame(requests.get(coingecko + simple_price_ep, params=simple_price_parameters).json()).T"
   ]
  },
  {
   "cell_type": "code",
   "execution_count": 84,
   "metadata": {},
   "outputs": [
    {
     "data": {
      "text/html": [
       "<div>\n",
       "<style scoped>\n",
       "    .dataframe tbody tr th:only-of-type {\n",
       "        vertical-align: middle;\n",
       "    }\n",
       "\n",
       "    .dataframe tbody tr th {\n",
       "        vertical-align: top;\n",
       "    }\n",
       "\n",
       "    .dataframe thead th {\n",
       "        text-align: right;\n",
       "    }\n",
       "</style>\n",
       "<table border=\"1\" class=\"dataframe\">\n",
       "  <thead>\n",
       "    <tr style=\"text-align: right;\">\n",
       "      <th></th>\n",
       "      <th>usd</th>\n",
       "      <th>usd_market_cap</th>\n",
       "      <th>usd_24h_vol</th>\n",
       "      <th>usd_24h_change</th>\n",
       "      <th>last_updated_at</th>\n",
       "    </tr>\n",
       "  </thead>\n",
       "  <tbody>\n",
       "    <tr>\n",
       "      <th>apecoin</th>\n",
       "      <td>1.5336</td>\n",
       "      <td>5.648653e+08</td>\n",
       "      <td>1.760068e+08</td>\n",
       "      <td>-10.175890</td>\n",
       "      <td>1.692311e+09</td>\n",
       "    </tr>\n",
       "    <tr>\n",
       "      <th>arbitrum</th>\n",
       "      <td>0.9600</td>\n",
       "      <td>1.220676e+09</td>\n",
       "      <td>2.409838e+08</td>\n",
       "      <td>-7.951236</td>\n",
       "      <td>1.692311e+09</td>\n",
       "    </tr>\n",
       "    <tr>\n",
       "      <th>arc</th>\n",
       "      <td>0.0239</td>\n",
       "      <td>1.717852e+07</td>\n",
       "      <td>2.356964e+06</td>\n",
       "      <td>22.755001</td>\n",
       "      <td>1.692311e+09</td>\n",
       "    </tr>\n",
       "    <tr>\n",
       "      <th>harrypotterobamapacman8inu</th>\n",
       "      <td>0.3796</td>\n",
       "      <td>2.984026e+07</td>\n",
       "      <td>2.500399e+06</td>\n",
       "      <td>110.518790</td>\n",
       "      <td>1.692311e+09</td>\n",
       "    </tr>\n",
       "    <tr>\n",
       "      <th>sei-network</th>\n",
       "      <td>0.1686</td>\n",
       "      <td>2.991740e+08</td>\n",
       "      <td>5.364072e+08</td>\n",
       "      <td>-11.534265</td>\n",
       "      <td>1.692311e+09</td>\n",
       "    </tr>\n",
       "    <tr>\n",
       "      <th>shiba-inu</th>\n",
       "      <td>0.0000</td>\n",
       "      <td>4.621419e+09</td>\n",
       "      <td>4.678565e+08</td>\n",
       "      <td>-15.221279</td>\n",
       "      <td>1.692311e+09</td>\n",
       "    </tr>\n",
       "    <tr>\n",
       "      <th>unibot</th>\n",
       "      <td>169.9168</td>\n",
       "      <td>1.680921e+08</td>\n",
       "      <td>9.376655e+06</td>\n",
       "      <td>-7.073205</td>\n",
       "      <td>1.692311e+09</td>\n",
       "    </tr>\n",
       "    <tr>\n",
       "      <th>worldcoin-wld</th>\n",
       "      <td>1.3275</td>\n",
       "      <td>1.669997e+08</td>\n",
       "      <td>5.557794e+07</td>\n",
       "      <td>-10.633783</td>\n",
       "      <td>1.692311e+09</td>\n",
       "    </tr>\n",
       "  </tbody>\n",
       "</table>\n",
       "</div>"
      ],
      "text/plain": [
       "                                 usd  usd_market_cap   usd_24h_vol  \\\n",
       "apecoin                       1.5336    5.648653e+08  1.760068e+08   \n",
       "arbitrum                      0.9600    1.220676e+09  2.409838e+08   \n",
       "arc                           0.0239    1.717852e+07  2.356964e+06   \n",
       "harrypotterobamapacman8inu    0.3796    2.984026e+07  2.500399e+06   \n",
       "sei-network                   0.1686    2.991740e+08  5.364072e+08   \n",
       "shiba-inu                     0.0000    4.621419e+09  4.678565e+08   \n",
       "unibot                      169.9168    1.680921e+08  9.376655e+06   \n",
       "worldcoin-wld                 1.3275    1.669997e+08  5.557794e+07   \n",
       "\n",
       "                            usd_24h_change  last_updated_at  \n",
       "apecoin                         -10.175890     1.692311e+09  \n",
       "arbitrum                         -7.951236     1.692311e+09  \n",
       "arc                              22.755001     1.692311e+09  \n",
       "harrypotterobamapacman8inu      110.518790     1.692311e+09  \n",
       "sei-network                     -11.534265     1.692311e+09  \n",
       "shiba-inu                       -15.221279     1.692311e+09  \n",
       "unibot                           -7.073205     1.692311e+09  \n",
       "worldcoin-wld                   -10.633783     1.692311e+09  "
      ]
     },
     "execution_count": 84,
     "metadata": {},
     "output_type": "execute_result"
    }
   ],
   "source": [
    "simple_price_of_coins_df"
   ]
  },
  {
   "cell_type": "markdown",
   "metadata": {},
   "source": [
    "#### Historical Data\n",
    "\n",
    "These 4 last years has been kind of abnormal since the pandemia took place at the end of 2019.. So let's Explore those years\n",
    "\n",
    "The end points used are:\n",
    "\n",
    "`/coin/...` \n",
    "\n",
    "        `/coins/{id}/market_chart`"
   ]
  },
  {
   "cell_type": "code",
   "execution_count": 98,
   "metadata": {},
   "outputs": [
    {
     "data": {
      "text/plain": [
       "'some texts hello here'"
      ]
     },
     "execution_count": 98,
     "metadata": {},
     "output_type": "execute_result"
    }
   ],
   "source": [
    "var = \"hello\"\n",
    "f\"some texts {var} here\""
   ]
  },
  {
   "cell_type": "markdown",
   "metadata": {},
   "source": [
    "Let's run a simple attempt to get a historical data from any coin.. later, this will be run through all coins"
   ]
  },
  {
   "cell_type": "code",
   "execution_count": 106,
   "metadata": {},
   "outputs": [],
   "source": [
    "# Trying out this single coin to see what we get\n",
    "coin_id = \"apecoin\"\n",
    "\n",
    "market_chart_ep = f\"coins/{coin_id}/market_chart\" # -> create our endpoint string\n",
    "\n",
    "\n",
    "# The parameters\n",
    "market_chart_parameters = {\n",
    "    \"vs_currency\": \"usd\",\n",
    "    # days parameters give us how many days.. here I will set it up as max to find out what is the biggest range provided\n",
    "    \"days\": \"max\", \n",
    "    \"interval\": \"daily\",\n",
    "    \"precision\": \"4\"\n",
    "}\n",
    "\n",
    "market_chart_coin_df = pd.DataFrame(requests.get(coingecko + market_chart_ep, params=market_chart_parameters).json())\n"
   ]
  },
  {
   "cell_type": "code",
   "execution_count": 111,
   "metadata": {},
   "outputs": [
    {
     "data": {
      "text/html": [
       "<div>\n",
       "<style scoped>\n",
       "    .dataframe tbody tr th:only-of-type {\n",
       "        vertical-align: middle;\n",
       "    }\n",
       "\n",
       "    .dataframe tbody tr th {\n",
       "        vertical-align: top;\n",
       "    }\n",
       "\n",
       "    .dataframe thead th {\n",
       "        text-align: right;\n",
       "    }\n",
       "</style>\n",
       "<table border=\"1\" class=\"dataframe\">\n",
       "  <thead>\n",
       "    <tr style=\"text-align: right;\">\n",
       "      <th></th>\n",
       "      <th>prices</th>\n",
       "      <th>market_caps</th>\n",
       "      <th>total_volumes</th>\n",
       "    </tr>\n",
       "  </thead>\n",
       "  <tbody>\n",
       "    <tr>\n",
       "      <th>0</th>\n",
       "      <td>[1647475200000, 8.5368]</td>\n",
       "      <td>[1647475200000, 946081401.9243534]</td>\n",
       "      <td>[1647475200000, 1455626533.6918294]</td>\n",
       "    </tr>\n",
       "    <tr>\n",
       "      <th>1</th>\n",
       "      <td>[1647561600000, 8.5368]</td>\n",
       "      <td>[1647561600000, 946081401.9243534]</td>\n",
       "      <td>[1647561600000, 1455626533.6918294]</td>\n",
       "    </tr>\n",
       "    <tr>\n",
       "      <th>2</th>\n",
       "      <td>[1647648000000, 12.9887]</td>\n",
       "      <td>[1647648000000, 1740629590.0400217]</td>\n",
       "      <td>[1647648000000, 5214126303.852453]</td>\n",
       "    </tr>\n",
       "    <tr>\n",
       "      <th>3</th>\n",
       "      <td>[1647734400000, 11.5352]</td>\n",
       "      <td>[1647734400000, 1542254655.9177086]</td>\n",
       "      <td>[1647734400000, 1816679748.2748725]</td>\n",
       "    </tr>\n",
       "    <tr>\n",
       "      <th>4</th>\n",
       "      <td>[1647820800000, 9.6182]</td>\n",
       "      <td>[1647820800000, 1261482818.2726943]</td>\n",
       "      <td>[1647820800000, 1381888008.2736359]</td>\n",
       "    </tr>\n",
       "    <tr>\n",
       "      <th>...</th>\n",
       "      <td>...</td>\n",
       "      <td>...</td>\n",
       "      <td>...</td>\n",
       "    </tr>\n",
       "    <tr>\n",
       "      <th>515</th>\n",
       "      <td>[1691971200000, 2.003]</td>\n",
       "      <td>[1691971200000, 735512264.9558252]</td>\n",
       "      <td>[1691971200000, 107841022.50986096]</td>\n",
       "    </tr>\n",
       "    <tr>\n",
       "      <th>516</th>\n",
       "      <td>[1692057600000, 2.0577]</td>\n",
       "      <td>[1692057600000, 759791210.4290547]</td>\n",
       "      <td>[1692057600000, 128609570.57890883]</td>\n",
       "    </tr>\n",
       "    <tr>\n",
       "      <th>517</th>\n",
       "      <td>[1692144000000, 1.8437]</td>\n",
       "      <td>[1692144000000, 679107753.6536336]</td>\n",
       "      <td>[1692144000000, 105204639.42863622]</td>\n",
       "    </tr>\n",
       "    <tr>\n",
       "      <th>518</th>\n",
       "      <td>[1692230400000, 1.7271]</td>\n",
       "      <td>[1692230400000, 638397627.6743878]</td>\n",
       "      <td>[1692230400000, 92594422.39837572]</td>\n",
       "    </tr>\n",
       "    <tr>\n",
       "      <th>519</th>\n",
       "      <td>[1692311230000, 1.5505]</td>\n",
       "      <td>[1692311230000, 564865265.1563976]</td>\n",
       "      <td>[1692311230000, 181552676.6041975]</td>\n",
       "    </tr>\n",
       "  </tbody>\n",
       "</table>\n",
       "<p>520 rows × 3 columns</p>\n",
       "</div>"
      ],
      "text/plain": [
       "                       prices                          market_caps  \\\n",
       "0     [1647475200000, 8.5368]   [1647475200000, 946081401.9243534]   \n",
       "1     [1647561600000, 8.5368]   [1647561600000, 946081401.9243534]   \n",
       "2    [1647648000000, 12.9887]  [1647648000000, 1740629590.0400217]   \n",
       "3    [1647734400000, 11.5352]  [1647734400000, 1542254655.9177086]   \n",
       "4     [1647820800000, 9.6182]  [1647820800000, 1261482818.2726943]   \n",
       "..                        ...                                  ...   \n",
       "515    [1691971200000, 2.003]   [1691971200000, 735512264.9558252]   \n",
       "516   [1692057600000, 2.0577]   [1692057600000, 759791210.4290547]   \n",
       "517   [1692144000000, 1.8437]   [1692144000000, 679107753.6536336]   \n",
       "518   [1692230400000, 1.7271]   [1692230400000, 638397627.6743878]   \n",
       "519   [1692311230000, 1.5505]   [1692311230000, 564865265.1563976]   \n",
       "\n",
       "                           total_volumes  \n",
       "0    [1647475200000, 1455626533.6918294]  \n",
       "1    [1647561600000, 1455626533.6918294]  \n",
       "2     [1647648000000, 5214126303.852453]  \n",
       "3    [1647734400000, 1816679748.2748725]  \n",
       "4    [1647820800000, 1381888008.2736359]  \n",
       "..                                   ...  \n",
       "515  [1691971200000, 107841022.50986096]  \n",
       "516  [1692057600000, 128609570.57890883]  \n",
       "517  [1692144000000, 105204639.42863622]  \n",
       "518   [1692230400000, 92594422.39837572]  \n",
       "519   [1692311230000, 181552676.6041975]  \n",
       "\n",
       "[520 rows x 3 columns]"
      ]
     },
     "execution_count": 111,
     "metadata": {},
     "output_type": "execute_result"
    }
   ],
   "source": [
    "market_chart_coin_df # -> Each column has its own UNIX imestamp. We ought to re shape and convert, but first, I want to check the date range the end point could throws at the most"
   ]
  },
  {
   "cell_type": "markdown",
   "metadata": {},
   "source": [
    "It seems each column has its own timestamp, this timestamp is in UNIX.. so that we have to reshape this in order to get the dataframe ready for time series visualization"
   ]
  },
  {
   "cell_type": "code",
   "execution_count": 112,
   "metadata": {},
   "outputs": [
    {
     "data": {
      "text/plain": [
       "Timestamp('2023-05-19 00:00:00')"
      ]
     },
     "execution_count": 112,
     "metadata": {},
     "output_type": "execute_result"
    }
   ],
   "source": [
    "pd.to_datetime(1684454400000, unit=\"ms\") # it worked"
   ]
  },
  {
   "cell_type": "code",
   "execution_count": 113,
   "metadata": {},
   "outputs": [
    {
     "data": {
      "text/plain": [
       "0     2022-03-17 00:00:00\n",
       "1     2022-03-18 00:00:00\n",
       "2     2022-03-19 00:00:00\n",
       "3     2022-03-20 00:00:00\n",
       "4     2022-03-21 00:00:00\n",
       "              ...        \n",
       "515   2023-08-14 00:00:00\n",
       "516   2023-08-15 00:00:00\n",
       "517   2023-08-16 00:00:00\n",
       "518   2023-08-17 00:00:00\n",
       "519   2023-08-17 22:27:10\n",
       "Name: prices, Length: 520, dtype: datetime64[ns]"
      ]
     },
     "execution_count": 113,
     "metadata": {},
     "output_type": "execute_result"
    }
   ],
   "source": [
    "# Let's try this out.. \n",
    "pd.to_datetime(market_chart_coin_df[\"prices\"].apply(lambda price: price[0]), unit=\"ms\") "
   ]
  },
  {
   "cell_type": "markdown",
   "metadata": {},
   "source": [
    "Know that it is known how to convert UNIX dates, Let's see the date range the end point could give us"
   ]
  },
  {
   "cell_type": "code",
   "execution_count": 107,
   "metadata": {},
   "outputs": [
    {
     "data": {
      "text/plain": [
       "(Timestamp('2022-03-17 00:00:00'), Timestamp('2023-08-17 22:27:10'))"
      ]
     },
     "execution_count": 107,
     "metadata": {},
     "output_type": "execute_result"
    }
   ],
   "source": [
    "pd.to_datetime(market_chart_coin_df[\"prices\"].apply(lambda prices: prices[0]), unit=\"ms\").min(), pd.to_datetime(market_chart_coin_df[\"prices\"].apply(lambda prices: prices[0]), unit=\"ms\").max()"
   ]
  },
  {
   "cell_type": "code",
   "execution_count": 109,
   "metadata": {},
   "outputs": [
    {
     "data": {
      "text/plain": [
       "Timedelta('518 days 22:27:10')"
      ]
     },
     "execution_count": 109,
     "metadata": {},
     "output_type": "execute_result"
    }
   ],
   "source": [
    "pd.to_datetime(market_chart_coin_df[\"prices\"].apply(lambda prices: prices[0]), unit=\"ms\").max() - pd.to_datetime(market_chart_coin_df[\"prices\"].apply(lambda prices: prices[0]), unit=\"ms\").min()"
   ]
  },
  {
   "cell_type": "markdown",
   "metadata": {},
   "source": [
    "The endpoint throws only 518 days and 22:27.. ok.. one option is to split into date ranges, make multiple requests, and append all the data into one dataframe.\n",
    "\n",
    "* Getting UNIX dates:\n",
    "        Translate them\n",
    "\n",
    "* Multiple request on `coins/{coin_id}/market_chart/range` end point\n",
    "\n",
    "* Stack the whole data into only single dataframe"
   ]
  },
  {
   "cell_type": "code",
   "execution_count": 175,
   "metadata": {},
   "outputs": [
    {
     "name": "stdout",
     "output_type": "stream",
     "text": [
      "Year 2018: First Day UNIX Timestamp: 1514786400, Last Day UNIX Timestamp: 1546322399\n",
      "Year 2019: First Day UNIX Timestamp: 1546322400, Last Day UNIX Timestamp: 1577858399\n",
      "Year 2020: First Day UNIX Timestamp: 1577858400, Last Day UNIX Timestamp: 1609480799\n",
      "Year 2021: First Day UNIX Timestamp: 1609480800, Last Day UNIX Timestamp: 1641016799\n",
      "Year 2022: First Day UNIX Timestamp: 1641016800, Last Day UNIX Timestamp: 1672552799\n",
      "Year 2023: First Day UNIX Timestamp: 1672552800, Last Day UNIX Timestamp: 1692316693\n"
     ]
    }
   ],
   "source": [
    "import time\n",
    "from datetime import datetime\n",
    "\n",
    "current_year = datetime.now().year\n",
    "start_year = 2018\n",
    "\n",
    "years_ranges = []\n",
    "\n",
    "for year in range(start_year, current_year + 1):\n",
    "    first_day = datetime(year, 1, 1)\n",
    "    last_day = datetime.now() if year == current_year else datetime(year, 12, 31, 23, 59, 59)\n",
    "    \n",
    "    first_day_unix = int(time.mktime(first_day.timetuple()))\n",
    "    last_day_unix = int(time.mktime(last_day.timetuple()))\n",
    "\n",
    "    years_ranges.append((first_day_unix, last_day_unix))\n",
    "    \n",
    "    print(f\"Year {year}: First Day UNIX Timestamp: {first_day_unix}, Last Day UNIX Timestamp: {last_day_unix}\")\n",
    "\n"
   ]
  },
  {
   "cell_type": "code",
   "execution_count": 176,
   "metadata": {},
   "outputs": [
    {
     "data": {
      "text/plain": [
       "[(1514786400, 1546322399),\n",
       " (1546322400, 1577858399),\n",
       " (1577858400, 1609480799),\n",
       " (1609480800, 1641016799),\n",
       " (1641016800, 1672552799),\n",
       " (1672552800, 1692316693)]"
      ]
     },
     "execution_count": 176,
     "metadata": {},
     "output_type": "execute_result"
    }
   ],
   "source": [
    "years_ranges"
   ]
  },
  {
   "cell_type": "code",
   "execution_count": 162,
   "metadata": {},
   "outputs": [
    {
     "data": {
      "text/plain": [
       "(Timestamp('2022-01-01 06:00:00'), Timestamp('2022-01-01 05:59:59'))"
      ]
     },
     "execution_count": 162,
     "metadata": {},
     "output_type": "execute_result"
    }
   ],
   "source": [
    "pd.to_datetime(1641016800, unit=\"s\"), pd.to_datetime(1641016799, unit=\"s\") "
   ]
  },
  {
   "cell_type": "code",
   "execution_count": 177,
   "metadata": {},
   "outputs": [
    {
     "data": {
      "text/plain": [
       "(1641016800, 1672552799)"
      ]
     },
     "execution_count": 177,
     "metadata": {},
     "output_type": "execute_result"
    }
   ],
   "source": [
    "years_ranges[4]"
   ]
  },
  {
   "cell_type": "code",
   "execution_count": 174,
   "metadata": {},
   "outputs": [
    {
     "data": {
      "text/html": [
       "<div>\n",
       "<style scoped>\n",
       "    .dataframe tbody tr th:only-of-type {\n",
       "        vertical-align: middle;\n",
       "    }\n",
       "\n",
       "    .dataframe tbody tr th {\n",
       "        vertical-align: top;\n",
       "    }\n",
       "\n",
       "    .dataframe thead th {\n",
       "        text-align: right;\n",
       "    }\n",
       "</style>\n",
       "<table border=\"1\" class=\"dataframe\">\n",
       "  <thead>\n",
       "    <tr style=\"text-align: right;\">\n",
       "      <th></th>\n",
       "      <th>prices</th>\n",
       "      <th>market_caps</th>\n",
       "      <th>total_volumes</th>\n",
       "    </tr>\n",
       "  </thead>\n",
       "  <tbody>\n",
       "    <tr>\n",
       "      <th>0</th>\n",
       "      <td>[1514851200000, 1.00392]</td>\n",
       "      <td>[1514851200000, 1373452749.16104]</td>\n",
       "      <td>[1514851200000, 2632020000.0]</td>\n",
       "    </tr>\n",
       "    <tr>\n",
       "      <th>1</th>\n",
       "      <td>[1514937600000, 1.01578]</td>\n",
       "      <td>[1514937600000, 1389678294.62786]</td>\n",
       "      <td>[1514937600000, 2461680000.0]</td>\n",
       "    </tr>\n",
       "    <tr>\n",
       "      <th>2</th>\n",
       "      <td>[1515024000000, 1.00274]</td>\n",
       "      <td>[1515024000000, 1472112403.15338]</td>\n",
       "      <td>[1515024000000, 3203460000.0]</td>\n",
       "    </tr>\n",
       "    <tr>\n",
       "      <th>3</th>\n",
       "      <td>[1515110400000, 0.999695]</td>\n",
       "      <td>[1515110400000, 1467642069.599715]</td>\n",
       "      <td>[1515110400000, 3096040000.0]</td>\n",
       "    </tr>\n",
       "    <tr>\n",
       "      <th>4</th>\n",
       "      <td>[1515196800000, 1.00853]</td>\n",
       "      <td>[1515196800000, 1480612643.30961]</td>\n",
       "      <td>[1515196800000, 2622980000.0]</td>\n",
       "    </tr>\n",
       "    <tr>\n",
       "      <th>...</th>\n",
       "      <td>...</td>\n",
       "      <td>...</td>\n",
       "      <td>...</td>\n",
       "    </tr>\n",
       "    <tr>\n",
       "      <th>360</th>\n",
       "      <td>[1545955200000, 0.9960712758722144]</td>\n",
       "      <td>[1545955200000, 2056263837.5365794]</td>\n",
       "      <td>[1545955200000, 119495547.69858119]</td>\n",
       "    </tr>\n",
       "    <tr>\n",
       "      <th>361</th>\n",
       "      <td>[1546041600000, 1.0035451583660302]</td>\n",
       "      <td>[1546041600000, 2064938691.1037617]</td>\n",
       "      <td>[1546041600000, 134285162.42261878]</td>\n",
       "    </tr>\n",
       "    <tr>\n",
       "      <th>362</th>\n",
       "      <td>[1546128000000, 0.9940035724621251]</td>\n",
       "      <td>[1546128000000, 2048421031.6895096]</td>\n",
       "      <td>[1546128000000, 73987954.84032907]</td>\n",
       "    </tr>\n",
       "    <tr>\n",
       "      <th>363</th>\n",
       "      <td>[1546214400000, 1.0060620406920209]</td>\n",
       "      <td>[1546214400000, 2071214917.0616748]</td>\n",
       "      <td>[1546214400000, 88135480.17617014]</td>\n",
       "    </tr>\n",
       "    <tr>\n",
       "      <th>364</th>\n",
       "      <td>[1546300800000, 1.0040016343064047]</td>\n",
       "      <td>[1546300800000, 2064549306.778545]</td>\n",
       "      <td>[1546300800000, 107660509.90219206]</td>\n",
       "    </tr>\n",
       "  </tbody>\n",
       "</table>\n",
       "<p>365 rows × 3 columns</p>\n",
       "</div>"
      ],
      "text/plain": [
       "                                  prices                          market_caps  \\\n",
       "0               [1514851200000, 1.00392]    [1514851200000, 1373452749.16104]   \n",
       "1               [1514937600000, 1.01578]    [1514937600000, 1389678294.62786]   \n",
       "2               [1515024000000, 1.00274]    [1515024000000, 1472112403.15338]   \n",
       "3              [1515110400000, 0.999695]   [1515110400000, 1467642069.599715]   \n",
       "4               [1515196800000, 1.00853]    [1515196800000, 1480612643.30961]   \n",
       "..                                   ...                                  ...   \n",
       "360  [1545955200000, 0.9960712758722144]  [1545955200000, 2056263837.5365794]   \n",
       "361  [1546041600000, 1.0035451583660302]  [1546041600000, 2064938691.1037617]   \n",
       "362  [1546128000000, 0.9940035724621251]  [1546128000000, 2048421031.6895096]   \n",
       "363  [1546214400000, 1.0060620406920209]  [1546214400000, 2071214917.0616748]   \n",
       "364  [1546300800000, 1.0040016343064047]   [1546300800000, 2064549306.778545]   \n",
       "\n",
       "                           total_volumes  \n",
       "0          [1514851200000, 2632020000.0]  \n",
       "1          [1514937600000, 2461680000.0]  \n",
       "2          [1515024000000, 3203460000.0]  \n",
       "3          [1515110400000, 3096040000.0]  \n",
       "4          [1515196800000, 2622980000.0]  \n",
       "..                                   ...  \n",
       "360  [1545955200000, 119495547.69858119]  \n",
       "361  [1546041600000, 134285162.42261878]  \n",
       "362   [1546128000000, 73987954.84032907]  \n",
       "363   [1546214400000, 88135480.17617014]  \n",
       "364  [1546300800000, 107660509.90219206]  \n",
       "\n",
       "[365 rows x 3 columns]"
      ]
     },
     "execution_count": 174,
     "metadata": {},
     "output_type": "execute_result"
    }
   ],
   "source": [
    "# Trying out the range end point\n",
    "# From list of years, grabbing manually each tuple and pass them into the arguments of the parameters dictionary will allow to check data thrown from the end point\n",
    "\n",
    "coin_id = \"tether\"\n",
    "\n",
    "market_chart_coin_range = f\"coins/{coin_id}/market_chart/range\"\n",
    "\n",
    "market_chart_coin_range_parameters = {\n",
    "    \"vs_currency\": \"usd\",\n",
    "    \"from\": str(years_ranges[0][0]),\n",
    "    \"to\": str(years_ranges[0][1])\n",
    "}\n",
    "\n",
    "pd.DataFrame(requests.get(coingecko + market_chart_coin_range, params=market_chart_coin_range_parameters).json()) # -> ok.. only data thrown since 2022 for ape coin."
   ]
  },
  {
   "cell_type": "markdown",
   "metadata": {},
   "source": [
    "The above code would be good to be encapsulate into a function in order to request by year range"
   ]
  },
  {
   "cell_type": "code",
   "execution_count": 183,
   "metadata": {},
   "outputs": [],
   "source": [
    "def df_from_market_chart_range(coin_id:str, from_year:int, to_year:int):\n",
    "\n",
    "    market_chart_coin_range = f\"coins/{coin_id}/market_chart/range\"\n",
    "\n",
    "    market_chart_coin_range_parameters = {\n",
    "        \"vs_currency\": \"usd\",\n",
    "        \"from\": str(from_year),\n",
    "        \"to\": str(to_year)\n",
    "    }\n",
    "\n",
    "    return pd.DataFrame(requests.get(coingecko + market_chart_coin_range, params=market_chart_coin_range_parameters).json())"
   ]
  },
  {
   "cell_type": "code",
   "execution_count": 188,
   "metadata": {},
   "outputs": [],
   "source": [
    "data_frames = []\n",
    "\n",
    "for year_range in years_ranges:\n",
    "\n",
    "    data_frames.append(df_from_market_chart_range(coin_id=\"tether\", from_year=year_range[0], to_year=year_range[1]))\n",
    "\n",
    "coin_market_chart = pd.concat(data_frames, axis=0, ignore_index=True)"
   ]
  },
  {
   "cell_type": "code",
   "execution_count": 201,
   "metadata": {},
   "outputs": [
    {
     "data": {
      "text/plain": [
       "(Timestamp('2018-01-02 00:00:00'), Timestamp('2023-08-17 00:00:00'))"
      ]
     },
     "execution_count": 201,
     "metadata": {},
     "output_type": "execute_result"
    }
   ],
   "source": [
    "pd.to_datetime(coin_market_chart[\"prices\"].apply(lambda prices: prices[0]), unit=\"ms\").min(), pd.to_datetime(coin_market_chart[\"prices\"].apply(lambda prices: prices[0]), unit=\"ms\").max()"
   ]
  },
  {
   "cell_type": "code",
   "execution_count": null,
   "metadata": {},
   "outputs": [],
   "source": []
  },
  {
   "cell_type": "code",
   "execution_count": null,
   "metadata": {},
   "outputs": [],
   "source": []
  },
  {
   "cell_type": "markdown",
   "metadata": {},
   "source": [
    "It is shown that it is not good idea to use the trend coins for selection of the coins to be analyzed... this throws any trending coin, regardless of its maturity."
   ]
  },
  {
   "cell_type": "markdown",
   "metadata": {},
   "source": [
    "#### Searching for Other coins"
   ]
  },
  {
   "cell_type": "code",
   "execution_count": 165,
   "metadata": {},
   "outputs": [],
   "source": [
    "import requests\n",
    "\n",
    "url = \"https://api.coingecko.com/api/v3/coins/markets\"\n",
    "params = {\n",
    "    \"vs_currency\": \"usd\",   # You can change this to your preferred currency\n",
    "    \"order\": \"market_cap_desc\",  # Order by market cap in descending order\n",
    "    \"per_page\": 100,   # Adjust the number of coins per page as needed\n",
    "    \"page\": 1  # Page number\n",
    "}\n",
    "\n",
    "response = requests.get(url, params=params)\n",
    "data = response.json()"
   ]
  },
  {
   "cell_type": "code",
   "execution_count": 170,
   "metadata": {},
   "outputs": [
    {
     "data": {
      "text/plain": [
       "Index(['id', 'symbol', 'name', 'image', 'current_price', 'market_cap',\n",
       "       'market_cap_rank', 'fully_diluted_valuation', 'total_volume',\n",
       "       'high_24h', 'low_24h', 'price_change_24h',\n",
       "       'price_change_percentage_24h', 'market_cap_change_24h',\n",
       "       'market_cap_change_percentage_24h', 'circulating_supply',\n",
       "       'total_supply', 'max_supply', 'ath', 'ath_change_percentage',\n",
       "       'ath_date', 'atl', 'atl_change_percentage', 'atl_date', 'roi',\n",
       "       'last_updated'],\n",
       "      dtype='object')"
      ]
     },
     "execution_count": 170,
     "metadata": {},
     "output_type": "execute_result"
    }
   ],
   "source": [
    "# And I do not know what data is thrown in this endpoint. Let's extract columns and find its description\n",
    "pd.DataFrame(data).columns"
   ]
  },
  {
   "cell_type": "markdown",
   "metadata": {},
   "source": [
    "#### Columns Description of `coins/markets` endpoint\n",
    "\n",
    "1. `id`: The unique identifier of the cryptocurrency.\n",
    "2. `symbol`: The symbol or ticker of the cryptocurrency.\n",
    "3. `name`: The name of the cryptocurrency.\n",
    "4. `image`: The URL of an image representing the cryptocurrency.\n",
    "5. `current_price`: The current price of the cryptocurrency.\n",
    "6. `market_cap`: The market capitalization of the cryptocurrency.\n",
    "7. `market_cap_rank`: The ranking of the cryptocurrency based on its market capitalization.\n",
    "8. `fully_diluted_valuation`: The valuation of the cryptocurrency if all coins are in circulation.\n",
    "9. `total_volume`: The total trading volume of the cryptocurrency.\n",
    "10. `high_24h`: The highest price recorded in the last 24 hours.\n",
    "11. `low_24h`: The lowest price recorded in the last 24 hours.\n",
    "12. `price_change_24h`: The price change of the cryptocurrency in the last 24 hours.\n",
    "13. `price_change_percentage_24h`: The percentage price change of the cryptocurrency in the last 24 hours.\n",
    "14. `market_cap_change_24h`: The market capitalization change of the cryptocurrency in the last 24 hours.\n",
    "15. `market_cap_change_percentage_24h`: The percentage market capitalization change of the cryptocurrency in the last 24 hours.\n",
    "16. `circulating_supply`: The amount of cryptocurrency currently in circulation.\n",
    "17. `total_supply`: The total supply of the cryptocurrency.\n",
    "18. `max_supply`: The maximum supply of the cryptocurrency.\n",
    "19. `ath`: The all-time high price of the cryptocurrency.\n",
    "20. `ath_change_percentage`: The percentage change from the all-time high price.\n",
    "21. `ath_date`: The date when the all-time high price was reached.\n",
    "22. `atl`: The all-time low price of the cryptocurrency.\n",
    "23. `atl_change_percentage`: The percentage change from the all-time low price.\n",
    "24. `atl_date`: The date when the all-time low price was reached.\n",
    "25. `roi`: Return on investment data for the cryptocurrency.\n",
    "26. `last_updated`: The timestamp of when the data was last updated.\n"
   ]
  },
  {
   "cell_type": "code",
   "execution_count": 172,
   "metadata": {},
   "outputs": [
    {
     "data": {
      "text/html": [
       "<div>\n",
       "<style scoped>\n",
       "    .dataframe tbody tr th:only-of-type {\n",
       "        vertical-align: middle;\n",
       "    }\n",
       "\n",
       "    .dataframe tbody tr th {\n",
       "        vertical-align: top;\n",
       "    }\n",
       "\n",
       "    .dataframe thead th {\n",
       "        text-align: right;\n",
       "    }\n",
       "</style>\n",
       "<table border=\"1\" class=\"dataframe\">\n",
       "  <thead>\n",
       "    <tr style=\"text-align: right;\">\n",
       "      <th></th>\n",
       "      <th>id</th>\n",
       "      <th>symbol</th>\n",
       "      <th>name</th>\n",
       "      <th>image</th>\n",
       "      <th>current_price</th>\n",
       "      <th>market_cap</th>\n",
       "      <th>market_cap_rank</th>\n",
       "      <th>fully_diluted_valuation</th>\n",
       "      <th>total_volume</th>\n",
       "      <th>high_24h</th>\n",
       "      <th>...</th>\n",
       "      <th>total_supply</th>\n",
       "      <th>max_supply</th>\n",
       "      <th>ath</th>\n",
       "      <th>ath_change_percentage</th>\n",
       "      <th>ath_date</th>\n",
       "      <th>atl</th>\n",
       "      <th>atl_change_percentage</th>\n",
       "      <th>atl_date</th>\n",
       "      <th>roi</th>\n",
       "      <th>last_updated</th>\n",
       "    </tr>\n",
       "  </thead>\n",
       "  <tbody>\n",
       "    <tr>\n",
       "      <th>0</th>\n",
       "      <td>bitcoin</td>\n",
       "      <td>btc</td>\n",
       "      <td>Bitcoin</td>\n",
       "      <td>https://assets.coingecko.com/coins/images/1/la...</td>\n",
       "      <td>26720.000000</td>\n",
       "      <td>519584642006</td>\n",
       "      <td>1</td>\n",
       "      <td>5.606874e+11</td>\n",
       "      <td>2.535270e+10</td>\n",
       "      <td>28827.00000</td>\n",
       "      <td>...</td>\n",
       "      <td>2.100000e+07</td>\n",
       "      <td>2.100000e+07</td>\n",
       "      <td>69045.00</td>\n",
       "      <td>-61.17710</td>\n",
       "      <td>2021-11-10T14:24:11.849Z</td>\n",
       "      <td>67.810000</td>\n",
       "      <td>39430.41847</td>\n",
       "      <td>2013-07-06T00:00:00.000Z</td>\n",
       "      <td>None</td>\n",
       "      <td>2023-08-17T23:32:24.550Z</td>\n",
       "    </tr>\n",
       "    <tr>\n",
       "      <th>1</th>\n",
       "      <td>ethereum</td>\n",
       "      <td>eth</td>\n",
       "      <td>Ethereum</td>\n",
       "      <td>https://assets.coingecko.com/coins/images/279/...</td>\n",
       "      <td>1697.990000</td>\n",
       "      <td>203890102061</td>\n",
       "      <td>2</td>\n",
       "      <td>2.038901e+11</td>\n",
       "      <td>1.742025e+10</td>\n",
       "      <td>1809.46000</td>\n",
       "      <td>...</td>\n",
       "      <td>1.201359e+08</td>\n",
       "      <td>NaN</td>\n",
       "      <td>4878.26</td>\n",
       "      <td>-65.04560</td>\n",
       "      <td>2021-11-10T14:24:19.604Z</td>\n",
       "      <td>0.432979</td>\n",
       "      <td>393722.15173</td>\n",
       "      <td>2015-10-20T00:00:00.000Z</td>\n",
       "      <td>{'times': 83.96784023071945, 'currency': 'btc'...</td>\n",
       "      <td>2023-08-17T23:32:20.977Z</td>\n",
       "    </tr>\n",
       "    <tr>\n",
       "      <th>2</th>\n",
       "      <td>tether</td>\n",
       "      <td>usdt</td>\n",
       "      <td>Tether</td>\n",
       "      <td>https://assets.coingecko.com/coins/images/325/...</td>\n",
       "      <td>1.001000</td>\n",
       "      <td>82906264886</td>\n",
       "      <td>3</td>\n",
       "      <td>8.308131e+10</td>\n",
       "      <td>4.688261e+10</td>\n",
       "      <td>1.02200</td>\n",
       "      <td>...</td>\n",
       "      <td>8.301725e+10</td>\n",
       "      <td>NaN</td>\n",
       "      <td>1.32</td>\n",
       "      <td>-24.50066</td>\n",
       "      <td>2018-07-24T00:00:00.000Z</td>\n",
       "      <td>0.572521</td>\n",
       "      <td>74.47887</td>\n",
       "      <td>2015-03-02T00:00:00.000Z</td>\n",
       "      <td>None</td>\n",
       "      <td>2023-08-17T23:30:00.629Z</td>\n",
       "    </tr>\n",
       "    <tr>\n",
       "      <th>3</th>\n",
       "      <td>binancecoin</td>\n",
       "      <td>bnb</td>\n",
       "      <td>BNB</td>\n",
       "      <td>https://assets.coingecko.com/coins/images/825/...</td>\n",
       "      <td>220.470000</td>\n",
       "      <td>33878653135</td>\n",
       "      <td>4</td>\n",
       "      <td>4.403939e+10</td>\n",
       "      <td>9.115891e+08</td>\n",
       "      <td>232.17000</td>\n",
       "      <td>...</td>\n",
       "      <td>1.538562e+08</td>\n",
       "      <td>2.000000e+08</td>\n",
       "      <td>686.31</td>\n",
       "      <td>-67.74186</td>\n",
       "      <td>2021-05-10T07:24:17.097Z</td>\n",
       "      <td>0.039818</td>\n",
       "      <td>555908.35417</td>\n",
       "      <td>2017-10-19T00:00:00.000Z</td>\n",
       "      <td>None</td>\n",
       "      <td>2023-08-17T23:32:18.597Z</td>\n",
       "    </tr>\n",
       "    <tr>\n",
       "      <th>4</th>\n",
       "      <td>ripple</td>\n",
       "      <td>xrp</td>\n",
       "      <td>XRP</td>\n",
       "      <td>https://assets.coingecko.com/coins/images/44/l...</td>\n",
       "      <td>0.509925</td>\n",
       "      <td>26934596940</td>\n",
       "      <td>5</td>\n",
       "      <td>5.097208e+10</td>\n",
       "      <td>2.180772e+09</td>\n",
       "      <td>0.59325</td>\n",
       "      <td>...</td>\n",
       "      <td>9.998850e+10</td>\n",
       "      <td>1.000000e+11</td>\n",
       "      <td>3.40</td>\n",
       "      <td>-84.89252</td>\n",
       "      <td>2018-01-07T00:00:00.000Z</td>\n",
       "      <td>0.002686</td>\n",
       "      <td>19013.20291</td>\n",
       "      <td>2014-05-22T00:00:00.000Z</td>\n",
       "      <td>None</td>\n",
       "      <td>2023-08-17T23:32:18.646Z</td>\n",
       "    </tr>\n",
       "  </tbody>\n",
       "</table>\n",
       "<p>5 rows × 26 columns</p>\n",
       "</div>"
      ],
      "text/plain": [
       "            id symbol      name  \\\n",
       "0      bitcoin    btc   Bitcoin   \n",
       "1     ethereum    eth  Ethereum   \n",
       "2       tether   usdt    Tether   \n",
       "3  binancecoin    bnb       BNB   \n",
       "4       ripple    xrp       XRP   \n",
       "\n",
       "                                               image  current_price  \\\n",
       "0  https://assets.coingecko.com/coins/images/1/la...   26720.000000   \n",
       "1  https://assets.coingecko.com/coins/images/279/...    1697.990000   \n",
       "2  https://assets.coingecko.com/coins/images/325/...       1.001000   \n",
       "3  https://assets.coingecko.com/coins/images/825/...     220.470000   \n",
       "4  https://assets.coingecko.com/coins/images/44/l...       0.509925   \n",
       "\n",
       "     market_cap  market_cap_rank  fully_diluted_valuation  total_volume  \\\n",
       "0  519584642006                1             5.606874e+11  2.535270e+10   \n",
       "1  203890102061                2             2.038901e+11  1.742025e+10   \n",
       "2   82906264886                3             8.308131e+10  4.688261e+10   \n",
       "3   33878653135                4             4.403939e+10  9.115891e+08   \n",
       "4   26934596940                5             5.097208e+10  2.180772e+09   \n",
       "\n",
       "      high_24h  ...  total_supply    max_supply       ath  \\\n",
       "0  28827.00000  ...  2.100000e+07  2.100000e+07  69045.00   \n",
       "1   1809.46000  ...  1.201359e+08           NaN   4878.26   \n",
       "2      1.02200  ...  8.301725e+10           NaN      1.32   \n",
       "3    232.17000  ...  1.538562e+08  2.000000e+08    686.31   \n",
       "4      0.59325  ...  9.998850e+10  1.000000e+11      3.40   \n",
       "\n",
       "   ath_change_percentage                  ath_date        atl  \\\n",
       "0              -61.17710  2021-11-10T14:24:11.849Z  67.810000   \n",
       "1              -65.04560  2021-11-10T14:24:19.604Z   0.432979   \n",
       "2              -24.50066  2018-07-24T00:00:00.000Z   0.572521   \n",
       "3              -67.74186  2021-05-10T07:24:17.097Z   0.039818   \n",
       "4              -84.89252  2018-01-07T00:00:00.000Z   0.002686   \n",
       "\n",
       "   atl_change_percentage                  atl_date  \\\n",
       "0            39430.41847  2013-07-06T00:00:00.000Z   \n",
       "1           393722.15173  2015-10-20T00:00:00.000Z   \n",
       "2               74.47887  2015-03-02T00:00:00.000Z   \n",
       "3           555908.35417  2017-10-19T00:00:00.000Z   \n",
       "4            19013.20291  2014-05-22T00:00:00.000Z   \n",
       "\n",
       "                                                 roi              last_updated  \n",
       "0                                               None  2023-08-17T23:32:24.550Z  \n",
       "1  {'times': 83.96784023071945, 'currency': 'btc'...  2023-08-17T23:32:20.977Z  \n",
       "2                                               None  2023-08-17T23:30:00.629Z  \n",
       "3                                               None  2023-08-17T23:32:18.597Z  \n",
       "4                                               None  2023-08-17T23:32:18.646Z  \n",
       "\n",
       "[5 rows x 26 columns]"
      ]
     },
     "execution_count": 172,
     "metadata": {},
     "output_type": "execute_result"
    }
   ],
   "source": [
    "pd.DataFrame(data).head()"
   ]
  },
  {
   "cell_type": "code",
   "execution_count": null,
   "metadata": {},
   "outputs": [],
   "source": []
  },
  {
   "cell_type": "code",
   "execution_count": 90,
   "metadata": {},
   "outputs": [],
   "source": [
    "market_chart_coin_df[\"date\"] = pd.to_datetime(market_chart_coin_df[\"prices\"].apply(lambda price: price[0]), unit=\"ms\")"
   ]
  },
  {
   "cell_type": "code",
   "execution_count": 92,
   "metadata": {},
   "outputs": [],
   "source": [
    "market_chart_coin_df[\"prices\"] = market_chart_coin_df[\"prices\"].apply(lambda price: price[1])\n",
    "market_chart_coin_df[\"market_caps\"] = market_chart_coin_df[\"market_caps\"].apply(lambda market: market[1])\n",
    "market_chart_coin_df[\"total_volumes\"] = market_chart_coin_df[\"total_volumes\"].apply(lambda vol: vol[1])"
   ]
  },
  {
   "cell_type": "code",
   "execution_count": 93,
   "metadata": {},
   "outputs": [
    {
     "data": {
      "text/plain": [
       "prices                  float64\n",
       "market_caps             float64\n",
       "total_volumes           float64\n",
       "date             datetime64[ns]\n",
       "dtype: object"
      ]
     },
     "execution_count": 93,
     "metadata": {},
     "output_type": "execute_result"
    }
   ],
   "source": [
    "market_chart_coin_df.dtypes"
   ]
  },
  {
   "cell_type": "code",
   "execution_count": 94,
   "metadata": {},
   "outputs": [],
   "source": [
    "market_chart_coin_df.set_index(\"date\", drop=True, inplace=True)"
   ]
  },
  {
   "cell_type": "code",
   "execution_count": 95,
   "metadata": {},
   "outputs": [
    {
     "data": {
      "image/png": "[encoded data removed]",
      "text/plain": [
       "<Figure size 1000x600 with 1 Axes>"
      ]
     },
     "metadata": {},
     "output_type": "display_data"
    }
   ],
   "source": [
    "\n",
    "\n",
    "plt.figure(figsize=(10, 6), )\n",
    "plt.plot(market_chart_coin_df.index, market_chart_coin_df[\"prices\"], label=\"Prices\")\n",
    "# plt.plot(market_chart_coin_df.index, market_chart_coin_df[\"market_caps\"], label=\"Market Caps\")\n",
    "# plt.plot(market_chart_coin_df.index, market_chart_coin_df[\"total_volumes\"], label=\"Total Volumes\")\n",
    "\n",
    "plt.xlabel('Date')\n",
    "plt.ylabel('Price')\n",
    "plt.title('Time Series Plot')\n",
    "plt.legend()\n",
    "plt.show()\n",
    "\n"
   ]
  },
  {
   "cell_type": "code",
   "execution_count": 96,
   "metadata": {},
   "outputs": [
    {
     "data": {
      "image/png": "[encoded data removed]",
      "text/plain": [
       "<Figure size 1000x600 with 1 Axes>"
      ]
     },
     "metadata": {},
     "output_type": "display_data"
    }
   ],
   "source": [
    "plt.figure(figsize=(10, 6), )\n",
    "#plt.plot(market_chart_coin_df.index, market_chart_coin_df[\"prices\"], label=\"Prices\")\n",
    "plt.plot(market_chart_coin_df.index, market_chart_coin_df[\"market_caps\"], label=\"Market Caps\")\n",
    "plt.plot(market_chart_coin_df.index, market_chart_coin_df[\"total_volumes\"], label=\"Total Volumes\")\n",
    "\n",
    "plt.xlabel('Date')\n",
    "plt.ylabel('Values')\n",
    "plt.title('Time Series Plot')\n",
    "plt.legend()\n",
    "plt.show()"
   ]
  },
  {
   "cell_type": "code",
   "execution_count": null,
   "metadata": {},
   "outputs": [],
   "source": []
  },
  {
   "cell_type": "code",
   "execution_count": null,
   "metadata": {},
   "outputs": [],
   "source": []
  },
  {
   "cell_type": "code",
   "execution_count": null,
   "metadata": {},
   "outputs": [],
   "source": []
  }
 ],
 "metadata": {
  "kernelspec": {
   "display_name": ".pida_venv",
   "language": "python",
   "name": "python3"
  },
  "language_info": {
   "codemirror_mode": {
    "name": "ipython",
    "version": 3
   },
   "file_extension": ".py",
   "mimetype": "text/x-python",
   "name": "python",
   "nbconvert_exporter": "python",
   "pygments_lexer": "ipython3",
   "version": "3.10.11"
  },
  "orig_nbformat": 4
 },
 "nbformat": 4,
 "nbformat_minor": 2
}
