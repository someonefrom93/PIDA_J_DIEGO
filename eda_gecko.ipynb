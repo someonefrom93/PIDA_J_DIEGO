{
 "cells": [
  {
   "cell_type": "code",
   "execution_count": 275,
   "metadata": {},
   "outputs": [],
   "source": [
    "import pandas as pd\n",
    "import matplotlib.pyplot as plt\n",
    "import numpy as np\n",
    "import requests"
   ]
  },
  {
   "cell_type": "code",
   "execution_count": 2,
   "metadata": {},
   "outputs": [
    {
     "name": "stdout",
     "output_type": "stream",
     "text": [
      "{'gecko_says': '(V3) To the Moon!'}\n"
     ]
    }
   ],
   "source": [
    "endpoint_url = \"https://api.coingecko.com/api/v3/ping\"\n",
    "\n",
    "params = {\n",
    "    \"vs_currency\": \"usd\",\n",
    "    \"order\": \"market_cap_desc\",\n",
    "    \"per_page\": 10,\n",
    "    \"page\": 1\n",
    "}\n",
    "\n",
    "reponse = requests.get(endpoint_url)\n",
    "\n",
    "if reponse.status_code == 200:\n",
    "    print(reponse.json())\n",
    "else:\n",
    "    print(\"Error: \", reponse.status_code)"
   ]
  },
  {
   "cell_type": "markdown",
   "metadata": {},
   "source": [
    "# Having a look at CoinGecko API\n",
    "\n",
    "An API requires an endpoint direcoty and maybe parameters. Tha's not the case for the end point currencies. We just need the available currencies"
   ]
  },
  {
   "cell_type": "markdown",
   "metadata": {},
   "source": [
    "#### Coins\n",
    "\n",
    "\n",
    "Gecko offers literally tons of different coins (10k+)... which is kinda crazy, so let's only focus on the treding to only pick 10 of them.. and let's search what the end point `search/trending` has for us"
   ]
  },
  {
   "cell_type": "code",
   "execution_count": 285,
   "metadata": {},
   "outputs": [
    {
     "data": {
      "text/plain": [
       "{'coins': [{'item': {'id': 'sei-network',\n",
       "    'coin_id': 28205,\n",
       "    'name': 'Sei',\n",
       "    'symbol': 'SEI',\n",
       "    'market_cap_rank': 99,\n",
       "    'thumb': 'https://assets.coingecko.com/coins/images/28205/thumb/TKmaTqMv_400x400.jpeg?1668395911',\n",
       "    'small': 'https://assets.coingecko.com/coins/images/28205/small/TKmaTqMv_400x400.jpeg?1668395911',\n",
       "    'large': 'https://assets.coingecko.com/coins/images/28205/large/TKmaTqMv_400x400.jpeg?1668395911',\n",
       "    'slug': 'sei',\n",
       "    'price_btc': 8.176064445323926e-06,\n",
       "    'score': 0}},\n",
       "  {'item': {'id': 'cyberconnect',\n",
       "    'coin_id': 31274,\n",
       "    'name': 'Cyberconnect',\n",
       "    'symbol': 'CYBER',\n",
       "    'market_cap_rank': 378,\n",
       "    'thumb': 'https://assets.coingecko.com/coins/images/31274/thumb/cyberconnect.png?1692101771',\n",
       "    'small': 'https://assets.coingecko.com/coins/images/31274/small/cyberconnect.png?1692101771',\n",
       "    'large': 'https://assets.coingecko.com/coins/images/31274/large/cyberconnect.png?1692101771',\n",
       "    'slug': 'cyberconnect',\n",
       "    'price_btc': 0.0001761062452920349,\n",
       "    'score': 1}},\n",
       "  {'item': {'id': 'thorchain',\n",
       "    'coin_id': 6595,\n",
       "    'name': 'THORChain',\n",
       "    'symbol': 'RUNE',\n",
       "    'market_cap_rank': 84,\n",
       "    'thumb': 'https://assets.coingecko.com/coins/images/6595/thumb/Rune200x200.png?1671179394',\n",
       "    'small': 'https://assets.coingecko.com/coins/images/6595/small/Rune200x200.png?1671179394',\n",
       "    'large': 'https://assets.coingecko.com/coins/images/6595/large/Rune200x200.png?1671179394',\n",
       "    'slug': 'thorchain',\n",
       "    'price_btc': 5.5449736653441775e-05,\n",
       "    'score': 2}},\n",
       "  {'item': {'id': 'apecoin',\n",
       "    'coin_id': 24383,\n",
       "    'name': 'ApeCoin',\n",
       "    'symbol': 'APE',\n",
       "    'market_cap_rank': 62,\n",
       "    'thumb': 'https://assets.coingecko.com/coins/images/24383/thumb/apecoin.jpg?1647476455',\n",
       "    'small': 'https://assets.coingecko.com/coins/images/24383/small/apecoin.jpg?1647476455',\n",
       "    'large': 'https://assets.coingecko.com/coins/images/24383/large/apecoin.jpg?1647476455',\n",
       "    'slug': 'apecoin',\n",
       "    'price_btc': 6.261766720719684e-05,\n",
       "    'score': 3}},\n",
       "  {'item': {'id': 'lybra-finance',\n",
       "    'coin_id': 29958,\n",
       "    'name': 'Lybra Finance',\n",
       "    'symbol': 'LBR',\n",
       "    'market_cap_rank': 537,\n",
       "    'thumb': 'https://assets.coingecko.com/coins/images/29958/thumb/Lybra_Finance.png?1682485104',\n",
       "    'small': 'https://assets.coingecko.com/coins/images/29958/small/Lybra_Finance.png?1682485104',\n",
       "    'large': 'https://assets.coingecko.com/coins/images/29958/large/Lybra_Finance.png?1682485104',\n",
       "    'slug': 'lybra-finance',\n",
       "    'price_btc': 7.660616616615471e-05,\n",
       "    'score': 4}},\n",
       "  {'item': {'id': 'harrypotterobamasonic10in',\n",
       "    'coin_id': 30323,\n",
       "    'name': 'HarryPotterObamaSonic10Inu (ETH)',\n",
       "    'symbol': 'BITCOIN',\n",
       "    'market_cap_rank': 183,\n",
       "    'thumb': 'https://assets.coingecko.com/coins/images/30323/thumb/hpos10i_logo_casino_night-dexview.png?1684117567',\n",
       "    'small': 'https://assets.coingecko.com/coins/images/30323/small/hpos10i_logo_casino_night-dexview.png?1684117567',\n",
       "    'large': 'https://assets.coingecko.com/coins/images/30323/large/hpos10i_logo_casino_night-dexview.png?1684117567',\n",
       "    'slug': 'harrypotterobamasonic10inu-eth',\n",
       "    'price_btc': 6.080610029541921e-06,\n",
       "    'score': 5}},\n",
       "  {'item': {'id': 'worldcoin-wld',\n",
       "    'coin_id': 31069,\n",
       "    'name': 'Worldcoin',\n",
       "    'symbol': 'WLD',\n",
       "    'market_cap_rank': 159,\n",
       "    'thumb': 'https://assets.coingecko.com/coins/images/31069/thumb/worldcoin.jpeg?1690182386',\n",
       "    'small': 'https://assets.coingecko.com/coins/images/31069/small/worldcoin.jpeg?1690182386',\n",
       "    'large': 'https://assets.coingecko.com/coins/images/31069/large/worldcoin.jpeg?1690182386',\n",
       "    'slug': 'worldcoin',\n",
       "    'price_btc': 5.4451378578700795e-05,\n",
       "    'score': 6}}],\n",
       " 'nfts': [{'id': 'nina-s-super-cool-world',\n",
       "   'name': \"Nina's Super Cool World\",\n",
       "   'symbol': 'COOL',\n",
       "   'thumb': 'https://assets.coingecko.com/nft_contracts/images/795/small/nina-s-super-cool-world.png?1657780164',\n",
       "   'nft_contract_id': 795,\n",
       "   'native_currency_symbol': 'eth',\n",
       "   'floor_price_in_native_currency': 0.6175,\n",
       "   'floor_price_24h_percentage_change': 22.7958013426671},\n",
       "  {'id': 'the-shiboshis',\n",
       "   'name': 'THE SHIBOSHIS',\n",
       "   'symbol': 'SBSH',\n",
       "   'thumb': 'https://assets.coingecko.com/nft_contracts/images/529/small/the-shiboshis.jpg?1657693059',\n",
       "   'nft_contract_id': 529,\n",
       "   'native_currency_symbol': 'eth',\n",
       "   'floor_price_in_native_currency': 0.519,\n",
       "   'floor_price_24h_percentage_change': 22.9401626588628},\n",
       "  {'id': 'sproto-gremlins',\n",
       "   'name': 'Sproto Gremlins',\n",
       "   'symbol': 'SPROTO',\n",
       "   'thumb': 'https://assets.coingecko.com/nft_contracts/images/3241/small/sproto.png?1690512377',\n",
       "   'nft_contract_id': 3241,\n",
       "   'native_currency_symbol': 'eth',\n",
       "   'floor_price_in_native_currency': 1.91,\n",
       "   'floor_price_24h_percentage_change': 20.3551311215634},\n",
       "  {'id': 'my-pet-hooligan',\n",
       "   'name': 'My Pet Hooligan',\n",
       "   'symbol': 'MPH',\n",
       "   'thumb': 'https://assets.coingecko.com/nft_contracts/images/494/small/my-pet-hooligan.gif?1657690622',\n",
       "   'nft_contract_id': 494,\n",
       "   'native_currency_symbol': 'eth',\n",
       "   'floor_price_in_native_currency': 0.6798,\n",
       "   'floor_price_24h_percentage_change': 10.5898217199425},\n",
       "  {'id': 'loudpunx',\n",
       "   'name': 'LoudPunx',\n",
       "   'symbol': 'LOUD',\n",
       "   'thumb': 'https://assets.coingecko.com/nft_contracts/images/2897/small/loudpunx.png?1675682057',\n",
       "   'nft_contract_id': 2897,\n",
       "   'native_currency_symbol': 'eth',\n",
       "   'floor_price_in_native_currency': 1.22,\n",
       "   'floor_price_24h_percentage_change': 9.05077864203365}],\n",
       " 'exchanges': []}"
      ]
     },
     "execution_count": 285,
     "metadata": {},
     "output_type": "execute_result"
    }
   ],
   "source": [
    "coingecko = \"https://api.coingecko.com/api/v3/\"\n",
    "trend_coins_ep = \"search/trending\"\n",
    "\n",
    "trend_coins = requests.get(coingecko + trend_coins_ep).json()\n",
    "trend_coins"
   ]
  },
  {
   "cell_type": "markdown",
   "metadata": {},
   "source": [
    "ok.. when I run into this messy view structures.. I just zoom into each level that compose the object. The throws a simple dictionary.. and let's just get the keys and see what we've got"
   ]
  },
  {
   "cell_type": "code",
   "execution_count": 286,
   "metadata": {},
   "outputs": [
    {
     "data": {
      "text/plain": [
       "dict_keys(['coins', 'nfts', 'exchanges'])"
      ]
     },
     "execution_count": 286,
     "metadata": {},
     "output_type": "execute_result"
    }
   ],
   "source": [
    "trend_coins.keys()"
   ]
  },
  {
   "cell_type": "code",
   "execution_count": 287,
   "metadata": {},
   "outputs": [
    {
     "data": {
      "text/plain": [
       "(7, 5, 0)"
      ]
     },
     "execution_count": 287,
     "metadata": {},
     "output_type": "execute_result"
    }
   ],
   "source": [
    "len(trend_coins[\"coins\"]), len(trend_coins[\"nfts\"]), len(trend_coins[\"exchanges\"])"
   ]
  },
  {
   "cell_type": "code",
   "execution_count": 288,
   "metadata": {},
   "outputs": [
    {
     "data": {
      "text/plain": [
       "(dict,\n",
       " {'id': 'sei-network',\n",
       "  'coin_id': 28205,\n",
       "  'name': 'Sei',\n",
       "  'symbol': 'SEI',\n",
       "  'market_cap_rank': 99,\n",
       "  'thumb': 'https://assets.coingecko.com/coins/images/28205/thumb/TKmaTqMv_400x400.jpeg?1668395911',\n",
       "  'small': 'https://assets.coingecko.com/coins/images/28205/small/TKmaTqMv_400x400.jpeg?1668395911',\n",
       "  'large': 'https://assets.coingecko.com/coins/images/28205/large/TKmaTqMv_400x400.jpeg?1668395911',\n",
       "  'slug': 'sei',\n",
       "  'price_btc': 8.176064445323926e-06,\n",
       "  'score': 0})"
      ]
     },
     "execution_count": 288,
     "metadata": {},
     "output_type": "execute_result"
    }
   ],
   "source": [
    "coin_list_df = pd.DataFrame(trend_coins[\"coins\"]).rename(columns={\"item\": \"coin_information\"})\n",
    "# Only for checkking the appropiate object --> dict, that's ok\n",
    "type(coin_list_df[\"coin_information\"][0]), coin_list_df[\"coin_information\"][0]"
   ]
  },
  {
   "cell_type": "code",
   "execution_count": 289,
   "metadata": {},
   "outputs": [],
   "source": [
    "for key, value in coin_list_df[\"coin_information\"][0].items():\n",
    "    coin_list_df[key] = coin_list_df[\"coin_information\"].apply(lambda coin: coin[key])\n",
    "\n",
    "\n",
    "coin_list_df.drop(columns=\"coin_information\", inplace=True)"
   ]
  },
  {
   "cell_type": "code",
   "execution_count": 290,
   "metadata": {},
   "outputs": [
    {
     "data": {
      "text/plain": [
       "'https://assets.coingecko.com/coins/images/28205/thumb/TKmaTqMv_400x400.jpeg?1668395911'"
      ]
     },
     "execution_count": 290,
     "metadata": {},
     "output_type": "execute_result"
    }
   ],
   "source": [
    "coin_list_df[\"thumb\"][0]"
   ]
  },
  {
   "cell_type": "code",
   "execution_count": 291,
   "metadata": {},
   "outputs": [],
   "source": [
    "coin_list_df.drop(columns=[\"thumb\", \"small\", \"large\"], inplace=True)"
   ]
  },
  {
   "cell_type": "code",
   "execution_count": 292,
   "metadata": {},
   "outputs": [
    {
     "data": {
      "text/html": [
       "<div>\n",
       "<style scoped>\n",
       "    .dataframe tbody tr th:only-of-type {\n",
       "        vertical-align: middle;\n",
       "    }\n",
       "\n",
       "    .dataframe tbody tr th {\n",
       "        vertical-align: top;\n",
       "    }\n",
       "\n",
       "    .dataframe thead th {\n",
       "        text-align: right;\n",
       "    }\n",
       "</style>\n",
       "<table border=\"1\" class=\"dataframe\">\n",
       "  <thead>\n",
       "    <tr style=\"text-align: right;\">\n",
       "      <th></th>\n",
       "      <th>id</th>\n",
       "      <th>coin_id</th>\n",
       "      <th>name</th>\n",
       "      <th>symbol</th>\n",
       "      <th>market_cap_rank</th>\n",
       "      <th>slug</th>\n",
       "      <th>price_btc</th>\n",
       "      <th>score</th>\n",
       "    </tr>\n",
       "  </thead>\n",
       "  <tbody>\n",
       "    <tr>\n",
       "      <th>0</th>\n",
       "      <td>sei-network</td>\n",
       "      <td>28205</td>\n",
       "      <td>Sei</td>\n",
       "      <td>SEI</td>\n",
       "      <td>99</td>\n",
       "      <td>sei</td>\n",
       "      <td>0.000008</td>\n",
       "      <td>0</td>\n",
       "    </tr>\n",
       "    <tr>\n",
       "      <th>1</th>\n",
       "      <td>cyberconnect</td>\n",
       "      <td>31274</td>\n",
       "      <td>Cyberconnect</td>\n",
       "      <td>CYBER</td>\n",
       "      <td>378</td>\n",
       "      <td>cyberconnect</td>\n",
       "      <td>0.000176</td>\n",
       "      <td>1</td>\n",
       "    </tr>\n",
       "    <tr>\n",
       "      <th>2</th>\n",
       "      <td>thorchain</td>\n",
       "      <td>6595</td>\n",
       "      <td>THORChain</td>\n",
       "      <td>RUNE</td>\n",
       "      <td>84</td>\n",
       "      <td>thorchain</td>\n",
       "      <td>0.000055</td>\n",
       "      <td>2</td>\n",
       "    </tr>\n",
       "    <tr>\n",
       "      <th>3</th>\n",
       "      <td>apecoin</td>\n",
       "      <td>24383</td>\n",
       "      <td>ApeCoin</td>\n",
       "      <td>APE</td>\n",
       "      <td>62</td>\n",
       "      <td>apecoin</td>\n",
       "      <td>0.000063</td>\n",
       "      <td>3</td>\n",
       "    </tr>\n",
       "    <tr>\n",
       "      <th>4</th>\n",
       "      <td>lybra-finance</td>\n",
       "      <td>29958</td>\n",
       "      <td>Lybra Finance</td>\n",
       "      <td>LBR</td>\n",
       "      <td>537</td>\n",
       "      <td>lybra-finance</td>\n",
       "      <td>0.000077</td>\n",
       "      <td>4</td>\n",
       "    </tr>\n",
       "    <tr>\n",
       "      <th>5</th>\n",
       "      <td>harrypotterobamasonic10in</td>\n",
       "      <td>30323</td>\n",
       "      <td>HarryPotterObamaSonic10Inu (ETH)</td>\n",
       "      <td>BITCOIN</td>\n",
       "      <td>183</td>\n",
       "      <td>harrypotterobamasonic10inu-eth</td>\n",
       "      <td>0.000006</td>\n",
       "      <td>5</td>\n",
       "    </tr>\n",
       "    <tr>\n",
       "      <th>6</th>\n",
       "      <td>worldcoin-wld</td>\n",
       "      <td>31069</td>\n",
       "      <td>Worldcoin</td>\n",
       "      <td>WLD</td>\n",
       "      <td>159</td>\n",
       "      <td>worldcoin</td>\n",
       "      <td>0.000054</td>\n",
       "      <td>6</td>\n",
       "    </tr>\n",
       "  </tbody>\n",
       "</table>\n",
       "</div>"
      ],
      "text/plain": [
       "                          id  coin_id                              name  \\\n",
       "0                sei-network    28205                               Sei   \n",
       "1               cyberconnect    31274                      Cyberconnect   \n",
       "2                  thorchain     6595                         THORChain   \n",
       "3                    apecoin    24383                           ApeCoin   \n",
       "4              lybra-finance    29958                     Lybra Finance   \n",
       "5  harrypotterobamasonic10in    30323  HarryPotterObamaSonic10Inu (ETH)   \n",
       "6              worldcoin-wld    31069                         Worldcoin   \n",
       "\n",
       "    symbol  market_cap_rank                            slug  price_btc  score  \n",
       "0      SEI               99                             sei   0.000008      0  \n",
       "1    CYBER              378                    cyberconnect   0.000176      1  \n",
       "2     RUNE               84                       thorchain   0.000055      2  \n",
       "3      APE               62                         apecoin   0.000063      3  \n",
       "4      LBR              537                   lybra-finance   0.000077      4  \n",
       "5  BITCOIN              183  harrypotterobamasonic10inu-eth   0.000006      5  \n",
       "6      WLD              159                       worldcoin   0.000054      6  "
      ]
     },
     "execution_count": 292,
     "metadata": {},
     "output_type": "execute_result"
    }
   ],
   "source": [
    "coin_list_df"
   ]
  },
  {
   "cell_type": "code",
   "execution_count": 293,
   "metadata": {},
   "outputs": [
    {
     "data": {
      "text/plain": [
       "'sei-network,cyberconnect,thorchain,apecoin,lybra-finance,harrypotterobamasonic10in,worldcoin-wld'"
      ]
     },
     "execution_count": 293,
     "metadata": {},
     "output_type": "execute_result"
    }
   ],
   "source": [
    "\",\".join(coin_list_df[\"id\"].tolist())"
   ]
  },
  {
   "cell_type": "code",
   "execution_count": 294,
   "metadata": {},
   "outputs": [
    {
     "data": {
      "text/plain": [
       "{'id': 'localcoinswap',\n",
       " 'name': 'LocalCoinSwap',\n",
       " 'api_symbol': 'localcoinswap',\n",
       " 'symbol': 'LCS',\n",
       " 'market_cap_rank': 1321,\n",
       " 'thumb': 'https://assets.coingecko.com/coins/images/3998/thumb/LocalCoinSwap.png',\n",
       " 'large': 'https://assets.coingecko.com/coins/images/3998/large/LocalCoinSwap.png'}"
      ]
     },
     "execution_count": 294,
     "metadata": {},
     "output_type": "execute_result"
    }
   ],
   "source": [
    "search_coin_ep = \"search\"\n",
    "\n",
    "search_coin_parameters = {\n",
    "    \"query\": \"coins\"\n",
    "}\n",
    "\n",
    "requests.get(coingecko + search_coin_ep, params=search_coin_parameters).json()[\"coins\"][0]"
   ]
  },
  {
   "cell_type": "markdown",
   "metadata": {},
   "source": [
    "#### Getting currencies\n",
    "\n",
    "`/simple/supported_vs_currencies` end point"
   ]
  },
  {
   "cell_type": "code",
   "execution_count": 295,
   "metadata": {},
   "outputs": [],
   "source": [
    "supported_currencies_ep = \"simple/supported_vs_currencies\"\n",
    "\n",
    "# No parameters requiered\n",
    "\n",
    "currencies_df = pd.DataFrame(requests.get(coingecko + supported_currencies_ep).json()).rename(columns={0: \"currencies\"})"
   ]
  },
  {
   "cell_type": "code",
   "execution_count": 296,
   "metadata": {},
   "outputs": [
    {
     "data": {
      "text/html": [
       "<div>\n",
       "<style scoped>\n",
       "    .dataframe tbody tr th:only-of-type {\n",
       "        vertical-align: middle;\n",
       "    }\n",
       "\n",
       "    .dataframe tbody tr th {\n",
       "        vertical-align: top;\n",
       "    }\n",
       "\n",
       "    .dataframe thead th {\n",
       "        text-align: right;\n",
       "    }\n",
       "</style>\n",
       "<table border=\"1\" class=\"dataframe\">\n",
       "  <thead>\n",
       "    <tr style=\"text-align: right;\">\n",
       "      <th></th>\n",
       "      <th>currencies</th>\n",
       "    </tr>\n",
       "  </thead>\n",
       "  <tbody>\n",
       "    <tr>\n",
       "      <th>7</th>\n",
       "      <td>xlm</td>\n",
       "    </tr>\n",
       "    <tr>\n",
       "      <th>17</th>\n",
       "      <td>bmd</td>\n",
       "    </tr>\n",
       "    <tr>\n",
       "      <th>36</th>\n",
       "      <td>mmk</td>\n",
       "    </tr>\n",
       "    <tr>\n",
       "      <th>37</th>\n",
       "      <td>mxn</td>\n",
       "    </tr>\n",
       "    <tr>\n",
       "      <th>38</th>\n",
       "      <td>myr</td>\n",
       "    </tr>\n",
       "  </tbody>\n",
       "</table>\n",
       "</div>"
      ],
      "text/plain": [
       "   currencies\n",
       "7         xlm\n",
       "17        bmd\n",
       "36        mmk\n",
       "37        mxn\n",
       "38        myr"
      ]
     },
     "execution_count": 296,
     "metadata": {},
     "output_type": "execute_result"
    }
   ],
   "source": [
    "currencies_df[currencies_df[\"currencies\"].str.contains(\"mx*\")]"
   ]
  },
  {
   "cell_type": "markdown",
   "metadata": {},
   "source": [
    "#### Get Data by ID or Contract\n",
    "\n",
    "* Get the current coin's price"
   ]
  },
  {
   "cell_type": "code",
   "execution_count": 297,
   "metadata": {},
   "outputs": [],
   "source": [
    "simple_price_ep = \"simple/price\"\n",
    "\n",
    "coin_ids = \",\".join(coin_list_df[\"id\"].tolist())\n",
    "\n",
    "simple_price_parameters = {\n",
    "    \"ids\": coin_ids,\n",
    "    \"vs_currencies\": \"usd\",\n",
    "    \"include_market_cap\": \"true\",\n",
    "    \"include_24hr_vol\": \"true\",\n",
    "    \"include_24hr_change\": \"true\",\n",
    "    \"include_last_updated_at\": \"true\",\n",
    "    \"precision\": \"4\"\n",
    "}\n",
    "\n",
    "simple_price_of_coins_df = pd.DataFrame(requests.get(coingecko + simple_price_ep, params=simple_price_parameters).json()).T"
   ]
  },
  {
   "cell_type": "code",
   "execution_count": 298,
   "metadata": {},
   "outputs": [
    {
     "data": {
      "text/html": [
       "<div>\n",
       "<style scoped>\n",
       "    .dataframe tbody tr th:only-of-type {\n",
       "        vertical-align: middle;\n",
       "    }\n",
       "\n",
       "    .dataframe tbody tr th {\n",
       "        vertical-align: top;\n",
       "    }\n",
       "\n",
       "    .dataframe thead th {\n",
       "        text-align: right;\n",
       "    }\n",
       "</style>\n",
       "<table border=\"1\" class=\"dataframe\">\n",
       "  <thead>\n",
       "    <tr style=\"text-align: right;\">\n",
       "      <th></th>\n",
       "      <th>usd</th>\n",
       "      <th>usd_market_cap</th>\n",
       "      <th>usd_24h_vol</th>\n",
       "      <th>usd_24h_change</th>\n",
       "      <th>last_updated_at</th>\n",
       "    </tr>\n",
       "  </thead>\n",
       "  <tbody>\n",
       "    <tr>\n",
       "      <th>apecoin</th>\n",
       "      <td>1.8315</td>\n",
       "      <td>6.743951e+08</td>\n",
       "      <td>1.076327e+08</td>\n",
       "      <td>-11.149230</td>\n",
       "      <td>1.692159e+09</td>\n",
       "    </tr>\n",
       "    <tr>\n",
       "      <th>cyberconnect</th>\n",
       "      <td>5.1745</td>\n",
       "      <td>5.714613e+07</td>\n",
       "      <td>1.152565e+08</td>\n",
       "      <td>-25.929567</td>\n",
       "      <td>1.692159e+09</td>\n",
       "    </tr>\n",
       "    <tr>\n",
       "      <th>harrypotterobamasonic10in</th>\n",
       "      <td>0.1747</td>\n",
       "      <td>1.759519e+08</td>\n",
       "      <td>1.134303e+07</td>\n",
       "      <td>12.774902</td>\n",
       "      <td>1.692159e+09</td>\n",
       "    </tr>\n",
       "    <tr>\n",
       "      <th>lybra-finance</th>\n",
       "      <td>2.2350</td>\n",
       "      <td>3.003692e+07</td>\n",
       "      <td>6.033030e+06</td>\n",
       "      <td>6.696455</td>\n",
       "      <td>1.692159e+09</td>\n",
       "    </tr>\n",
       "    <tr>\n",
       "      <th>sei-network</th>\n",
       "      <td>0.2465</td>\n",
       "      <td>4.408975e+08</td>\n",
       "      <td>3.011364e+08</td>\n",
       "      <td>24.437057</td>\n",
       "      <td>1.692159e+09</td>\n",
       "    </tr>\n",
       "    <tr>\n",
       "      <th>thorchain</th>\n",
       "      <td>1.6058</td>\n",
       "      <td>4.841066e+08</td>\n",
       "      <td>3.154982e+08</td>\n",
       "      <td>3.311657</td>\n",
       "      <td>1.692159e+09</td>\n",
       "    </tr>\n",
       "    <tr>\n",
       "      <th>worldcoin-wld</th>\n",
       "      <td>1.5867</td>\n",
       "      <td>2.002757e+08</td>\n",
       "      <td>4.691704e+07</td>\n",
       "      <td>-11.086433</td>\n",
       "      <td>1.692159e+09</td>\n",
       "    </tr>\n",
       "  </tbody>\n",
       "</table>\n",
       "</div>"
      ],
      "text/plain": [
       "                              usd  usd_market_cap   usd_24h_vol  \\\n",
       "apecoin                    1.8315    6.743951e+08  1.076327e+08   \n",
       "cyberconnect               5.1745    5.714613e+07  1.152565e+08   \n",
       "harrypotterobamasonic10in  0.1747    1.759519e+08  1.134303e+07   \n",
       "lybra-finance              2.2350    3.003692e+07  6.033030e+06   \n",
       "sei-network                0.2465    4.408975e+08  3.011364e+08   \n",
       "thorchain                  1.6058    4.841066e+08  3.154982e+08   \n",
       "worldcoin-wld              1.5867    2.002757e+08  4.691704e+07   \n",
       "\n",
       "                           usd_24h_change  last_updated_at  \n",
       "apecoin                        -11.149230     1.692159e+09  \n",
       "cyberconnect                   -25.929567     1.692159e+09  \n",
       "harrypotterobamasonic10in       12.774902     1.692159e+09  \n",
       "lybra-finance                    6.696455     1.692159e+09  \n",
       "sei-network                     24.437057     1.692159e+09  \n",
       "thorchain                        3.311657     1.692159e+09  \n",
       "worldcoin-wld                  -11.086433     1.692159e+09  "
      ]
     },
     "execution_count": 298,
     "metadata": {},
     "output_type": "execute_result"
    }
   ],
   "source": [
    "simple_price_of_coins_df"
   ]
  },
  {
   "cell_type": "markdown",
   "metadata": {},
   "source": [
    "#### Historical Data\n",
    "\n",
    "`/coin/...` end points\n",
    "\n",
    "        `/coins/{id}/history`"
   ]
  },
  {
   "cell_type": "code",
   "execution_count": 300,
   "metadata": {},
   "outputs": [
    {
     "data": {
      "text/plain": [
       "'some texts hello here'"
      ]
     },
     "execution_count": 300,
     "metadata": {},
     "output_type": "execute_result"
    }
   ],
   "source": [
    "var = \"hello\"\n",
    "f\"some texts {var} here\""
   ]
  },
  {
   "cell_type": "markdown",
   "metadata": {},
   "source": [
    "Let's run a simple attempt to get a historical data from aby coin.. later, this will be run through all coins"
   ]
  },
  {
   "cell_type": "code",
   "execution_count": 323,
   "metadata": {},
   "outputs": [],
   "source": [
    "coin_id = \"apecoin\"\n",
    "market_chart_ep = f\"coins/{coin_id}/market_chart\"\n",
    "\n",
    "market_chart_parameters = {\n",
    "    \"vs_currency\": \"usd\",\n",
    "    \"days\": \"90\",\n",
    "    \"interval\": \"daily\",\n",
    "    \"precision\": \"4\"\n",
    "}\n",
    "\n",
    "market_chart_coin_df = pd.DataFrame(requests.get(coingecko + market_chart_ep, params=market_chart_parameters).json())\n"
   ]
  },
  {
   "cell_type": "code",
   "execution_count": 324,
   "metadata": {},
   "outputs": [
    {
     "data": {
      "text/html": [
       "<div>\n",
       "<style scoped>\n",
       "    .dataframe tbody tr th:only-of-type {\n",
       "        vertical-align: middle;\n",
       "    }\n",
       "\n",
       "    .dataframe tbody tr th {\n",
       "        vertical-align: top;\n",
       "    }\n",
       "\n",
       "    .dataframe thead th {\n",
       "        text-align: right;\n",
       "    }\n",
       "</style>\n",
       "<table border=\"1\" class=\"dataframe\">\n",
       "  <thead>\n",
       "    <tr style=\"text-align: right;\">\n",
       "      <th></th>\n",
       "      <th>prices</th>\n",
       "      <th>market_caps</th>\n",
       "      <th>total_volumes</th>\n",
       "    </tr>\n",
       "  </thead>\n",
       "  <tbody>\n",
       "    <tr>\n",
       "      <th>0</th>\n",
       "      <td>[1684454400000, 3.3936]</td>\n",
       "      <td>[1684454400000, 1254051281.632525]</td>\n",
       "      <td>[1684454400000, 63729409.5808864]</td>\n",
       "    </tr>\n",
       "    <tr>\n",
       "      <th>1</th>\n",
       "      <td>[1684540800000, 3.4277]</td>\n",
       "      <td>[1684540800000, 1264859478.5641994]</td>\n",
       "      <td>[1684540800000, 49338082.112148724]</td>\n",
       "    </tr>\n",
       "    <tr>\n",
       "      <th>2</th>\n",
       "      <td>[1684627200000, 3.4444]</td>\n",
       "      <td>[1684627200000, 1269807769.3137863]</td>\n",
       "      <td>[1684627200000, 31133846.791591607]</td>\n",
       "    </tr>\n",
       "    <tr>\n",
       "      <th>3</th>\n",
       "      <td>[1684713600000, 3.4689]</td>\n",
       "      <td>[1684713600000, 1280253491.5564191]</td>\n",
       "      <td>[1684713600000, 54356186.896674365]</td>\n",
       "    </tr>\n",
       "    <tr>\n",
       "      <th>4</th>\n",
       "      <td>[1684800000000, 3.4331]</td>\n",
       "      <td>[1684800000000, 1265003219.9816499]</td>\n",
       "      <td>[1684800000000, 44440052.502822876]</td>\n",
       "    </tr>\n",
       "    <tr>\n",
       "      <th>...</th>\n",
       "      <td>...</td>\n",
       "      <td>...</td>\n",
       "      <td>...</td>\n",
       "    </tr>\n",
       "    <tr>\n",
       "      <th>86</th>\n",
       "      <td>[1691884800000, 2.0137]</td>\n",
       "      <td>[1691884800000, 740804194.9886361]</td>\n",
       "      <td>[1691884800000, 155449659.48348713]</td>\n",
       "    </tr>\n",
       "    <tr>\n",
       "      <th>87</th>\n",
       "      <td>[1691971200000, 2.003]</td>\n",
       "      <td>[1691971200000, 735512264.9558252]</td>\n",
       "      <td>[1691971200000, 107841022.50986096]</td>\n",
       "    </tr>\n",
       "    <tr>\n",
       "      <th>88</th>\n",
       "      <td>[1692057600000, 2.0577]</td>\n",
       "      <td>[1692057600000, 759791210.4290547]</td>\n",
       "      <td>[1692057600000, 128609570.57890883]</td>\n",
       "    </tr>\n",
       "    <tr>\n",
       "      <th>89</th>\n",
       "      <td>[1692144000000, 1.8437]</td>\n",
       "      <td>[1692144000000, 679107753.6536336]</td>\n",
       "      <td>[1692144000000, 105204639.42863622]</td>\n",
       "    </tr>\n",
       "    <tr>\n",
       "      <th>90</th>\n",
       "      <td>[1692160266000, 1.8418]</td>\n",
       "      <td>[1692160266000, 676526120.0426258]</td>\n",
       "      <td>[1692160266000, 107890696.5006168]</td>\n",
       "    </tr>\n",
       "  </tbody>\n",
       "</table>\n",
       "<p>91 rows × 3 columns</p>\n",
       "</div>"
      ],
      "text/plain": [
       "                     prices                          market_caps  \\\n",
       "0   [1684454400000, 3.3936]   [1684454400000, 1254051281.632525]   \n",
       "1   [1684540800000, 3.4277]  [1684540800000, 1264859478.5641994]   \n",
       "2   [1684627200000, 3.4444]  [1684627200000, 1269807769.3137863]   \n",
       "3   [1684713600000, 3.4689]  [1684713600000, 1280253491.5564191]   \n",
       "4   [1684800000000, 3.4331]  [1684800000000, 1265003219.9816499]   \n",
       "..                      ...                                  ...   \n",
       "86  [1691884800000, 2.0137]   [1691884800000, 740804194.9886361]   \n",
       "87   [1691971200000, 2.003]   [1691971200000, 735512264.9558252]   \n",
       "88  [1692057600000, 2.0577]   [1692057600000, 759791210.4290547]   \n",
       "89  [1692144000000, 1.8437]   [1692144000000, 679107753.6536336]   \n",
       "90  [1692160266000, 1.8418]   [1692160266000, 676526120.0426258]   \n",
       "\n",
       "                          total_volumes  \n",
       "0     [1684454400000, 63729409.5808864]  \n",
       "1   [1684540800000, 49338082.112148724]  \n",
       "2   [1684627200000, 31133846.791591607]  \n",
       "3   [1684713600000, 54356186.896674365]  \n",
       "4   [1684800000000, 44440052.502822876]  \n",
       "..                                  ...  \n",
       "86  [1691884800000, 155449659.48348713]  \n",
       "87  [1691971200000, 107841022.50986096]  \n",
       "88  [1692057600000, 128609570.57890883]  \n",
       "89  [1692144000000, 105204639.42863622]  \n",
       "90   [1692160266000, 107890696.5006168]  \n",
       "\n",
       "[91 rows x 3 columns]"
      ]
     },
     "execution_count": 324,
     "metadata": {},
     "output_type": "execute_result"
    }
   ],
   "source": [
    "market_chart_coin_df"
   ]
  },
  {
   "cell_type": "markdown",
   "metadata": {},
   "source": [
    "It seems each column has its own timestamp, this timestamp is in UNIX.. so that we have to reshape this in order to get the dataframe ready for time series visualization"
   ]
  },
  {
   "cell_type": "code",
   "execution_count": 325,
   "metadata": {},
   "outputs": [
    {
     "data": {
      "text/plain": [
       "Timestamp('2023-05-19 00:00:00')"
      ]
     },
     "execution_count": 325,
     "metadata": {},
     "output_type": "execute_result"
    }
   ],
   "source": [
    "pd.to_datetime(1684454400000, unit=\"ms\") # it worked"
   ]
  },
  {
   "cell_type": "code",
   "execution_count": 329,
   "metadata": {},
   "outputs": [
    {
     "data": {
      "text/plain": [
       "0    2023-05-19 00:00:00\n",
       "1    2023-05-20 00:00:00\n",
       "2    2023-05-21 00:00:00\n",
       "3    2023-05-22 00:00:00\n",
       "4    2023-05-23 00:00:00\n",
       "             ...        \n",
       "86   2023-08-13 00:00:00\n",
       "87   2023-08-14 00:00:00\n",
       "88   2023-08-15 00:00:00\n",
       "89   2023-08-16 00:00:00\n",
       "90   2023-08-16 04:31:06\n",
       "Name: prices, Length: 91, dtype: datetime64[ns]"
      ]
     },
     "execution_count": 329,
     "metadata": {},
     "output_type": "execute_result"
    }
   ],
   "source": [
    "# Let's try this out.. \n",
    "pd.to_datetime(market_chart_coin_df[\"prices\"].apply(lambda price: price[0]), unit=\"ms\") "
   ]
  },
  {
   "cell_type": "code",
   "execution_count": 330,
   "metadata": {},
   "outputs": [],
   "source": [
    "dates = pd.to_datetime(market_chart_coin_df[\"prices\"].apply(lambda price: price[0]), unit=\"ms\")"
   ]
  },
  {
   "cell_type": "code",
   "execution_count": 331,
   "metadata": {},
   "outputs": [
    {
     "data": {
      "text/html": [
       "<div>\n",
       "<style scoped>\n",
       "    .dataframe tbody tr th:only-of-type {\n",
       "        vertical-align: middle;\n",
       "    }\n",
       "\n",
       "    .dataframe tbody tr th {\n",
       "        vertical-align: top;\n",
       "    }\n",
       "\n",
       "    .dataframe thead th {\n",
       "        text-align: right;\n",
       "    }\n",
       "</style>\n",
       "<table border=\"1\" class=\"dataframe\">\n",
       "  <thead>\n",
       "    <tr style=\"text-align: right;\">\n",
       "      <th></th>\n",
       "      <th>prices</th>\n",
       "      <th>market_caps</th>\n",
       "      <th>total_volumes</th>\n",
       "    </tr>\n",
       "    <tr>\n",
       "      <th>prices</th>\n",
       "      <th></th>\n",
       "      <th></th>\n",
       "      <th></th>\n",
       "    </tr>\n",
       "  </thead>\n",
       "  <tbody>\n",
       "    <tr>\n",
       "      <th>2023-05-19 00:00:00</th>\n",
       "      <td>[1684454400000, 3.3936]</td>\n",
       "      <td>[1684454400000, 1254051281.632525]</td>\n",
       "      <td>[1684454400000, 63729409.5808864]</td>\n",
       "    </tr>\n",
       "    <tr>\n",
       "      <th>2023-05-20 00:00:00</th>\n",
       "      <td>[1684540800000, 3.4277]</td>\n",
       "      <td>[1684540800000, 1264859478.5641994]</td>\n",
       "      <td>[1684540800000, 49338082.112148724]</td>\n",
       "    </tr>\n",
       "    <tr>\n",
       "      <th>2023-05-21 00:00:00</th>\n",
       "      <td>[1684627200000, 3.4444]</td>\n",
       "      <td>[1684627200000, 1269807769.3137863]</td>\n",
       "      <td>[1684627200000, 31133846.791591607]</td>\n",
       "    </tr>\n",
       "    <tr>\n",
       "      <th>2023-05-22 00:00:00</th>\n",
       "      <td>[1684713600000, 3.4689]</td>\n",
       "      <td>[1684713600000, 1280253491.5564191]</td>\n",
       "      <td>[1684713600000, 54356186.896674365]</td>\n",
       "    </tr>\n",
       "    <tr>\n",
       "      <th>2023-05-23 00:00:00</th>\n",
       "      <td>[1684800000000, 3.4331]</td>\n",
       "      <td>[1684800000000, 1265003219.9816499]</td>\n",
       "      <td>[1684800000000, 44440052.502822876]</td>\n",
       "    </tr>\n",
       "    <tr>\n",
       "      <th>...</th>\n",
       "      <td>...</td>\n",
       "      <td>...</td>\n",
       "      <td>...</td>\n",
       "    </tr>\n",
       "    <tr>\n",
       "      <th>2023-08-13 00:00:00</th>\n",
       "      <td>[1691884800000, 2.0137]</td>\n",
       "      <td>[1691884800000, 740804194.9886361]</td>\n",
       "      <td>[1691884800000, 155449659.48348713]</td>\n",
       "    </tr>\n",
       "    <tr>\n",
       "      <th>2023-08-14 00:00:00</th>\n",
       "      <td>[1691971200000, 2.003]</td>\n",
       "      <td>[1691971200000, 735512264.9558252]</td>\n",
       "      <td>[1691971200000, 107841022.50986096]</td>\n",
       "    </tr>\n",
       "    <tr>\n",
       "      <th>2023-08-15 00:00:00</th>\n",
       "      <td>[1692057600000, 2.0577]</td>\n",
       "      <td>[1692057600000, 759791210.4290547]</td>\n",
       "      <td>[1692057600000, 128609570.57890883]</td>\n",
       "    </tr>\n",
       "    <tr>\n",
       "      <th>2023-08-16 00:00:00</th>\n",
       "      <td>[1692144000000, 1.8437]</td>\n",
       "      <td>[1692144000000, 679107753.6536336]</td>\n",
       "      <td>[1692144000000, 105204639.42863622]</td>\n",
       "    </tr>\n",
       "    <tr>\n",
       "      <th>2023-08-16 04:31:06</th>\n",
       "      <td>[1692160266000, 1.8418]</td>\n",
       "      <td>[1692160266000, 676526120.0426258]</td>\n",
       "      <td>[1692160266000, 107890696.5006168]</td>\n",
       "    </tr>\n",
       "  </tbody>\n",
       "</table>\n",
       "<p>91 rows × 3 columns</p>\n",
       "</div>"
      ],
      "text/plain": [
       "                                      prices  \\\n",
       "prices                                         \n",
       "2023-05-19 00:00:00  [1684454400000, 3.3936]   \n",
       "2023-05-20 00:00:00  [1684540800000, 3.4277]   \n",
       "2023-05-21 00:00:00  [1684627200000, 3.4444]   \n",
       "2023-05-22 00:00:00  [1684713600000, 3.4689]   \n",
       "2023-05-23 00:00:00  [1684800000000, 3.4331]   \n",
       "...                                      ...   \n",
       "2023-08-13 00:00:00  [1691884800000, 2.0137]   \n",
       "2023-08-14 00:00:00   [1691971200000, 2.003]   \n",
       "2023-08-15 00:00:00  [1692057600000, 2.0577]   \n",
       "2023-08-16 00:00:00  [1692144000000, 1.8437]   \n",
       "2023-08-16 04:31:06  [1692160266000, 1.8418]   \n",
       "\n",
       "                                             market_caps  \\\n",
       "prices                                                     \n",
       "2023-05-19 00:00:00   [1684454400000, 1254051281.632525]   \n",
       "2023-05-20 00:00:00  [1684540800000, 1264859478.5641994]   \n",
       "2023-05-21 00:00:00  [1684627200000, 1269807769.3137863]   \n",
       "2023-05-22 00:00:00  [1684713600000, 1280253491.5564191]   \n",
       "2023-05-23 00:00:00  [1684800000000, 1265003219.9816499]   \n",
       "...                                                  ...   \n",
       "2023-08-13 00:00:00   [1691884800000, 740804194.9886361]   \n",
       "2023-08-14 00:00:00   [1691971200000, 735512264.9558252]   \n",
       "2023-08-15 00:00:00   [1692057600000, 759791210.4290547]   \n",
       "2023-08-16 00:00:00   [1692144000000, 679107753.6536336]   \n",
       "2023-08-16 04:31:06   [1692160266000, 676526120.0426258]   \n",
       "\n",
       "                                           total_volumes  \n",
       "prices                                                    \n",
       "2023-05-19 00:00:00    [1684454400000, 63729409.5808864]  \n",
       "2023-05-20 00:00:00  [1684540800000, 49338082.112148724]  \n",
       "2023-05-21 00:00:00  [1684627200000, 31133846.791591607]  \n",
       "2023-05-22 00:00:00  [1684713600000, 54356186.896674365]  \n",
       "2023-05-23 00:00:00  [1684800000000, 44440052.502822876]  \n",
       "...                                                  ...  \n",
       "2023-08-13 00:00:00  [1691884800000, 155449659.48348713]  \n",
       "2023-08-14 00:00:00  [1691971200000, 107841022.50986096]  \n",
       "2023-08-15 00:00:00  [1692057600000, 128609570.57890883]  \n",
       "2023-08-16 00:00:00  [1692144000000, 105204639.42863622]  \n",
       "2023-08-16 04:31:06   [1692160266000, 107890696.5006168]  \n",
       "\n",
       "[91 rows x 3 columns]"
      ]
     },
     "execution_count": 331,
     "metadata": {},
     "output_type": "execute_result"
    }
   ],
   "source": [
    "market_chart_coin_df.set_index(dates)"
   ]
  },
  {
   "cell_type": "code",
   "execution_count": null,
   "metadata": {},
   "outputs": [],
   "source": []
  }
 ],
 "metadata": {
  "kernelspec": {
   "display_name": ".pida_venv",
   "language": "python",
   "name": "python3"
  },
  "language_info": {
   "codemirror_mode": {
    "name": "ipython",
    "version": 3
   },
   "file_extension": ".py",
   "mimetype": "text/x-python",
   "name": "python",
   "nbconvert_exporter": "python",
   "pygments_lexer": "ipython3",
   "version": "3.10.11"
  },
  "orig_nbformat": 4
 },
 "nbformat": 4,
 "nbformat_minor": 2
}
