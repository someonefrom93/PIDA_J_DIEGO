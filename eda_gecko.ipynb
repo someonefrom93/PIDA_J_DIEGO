{
 "cells": [
  {
   "cell_type": "code",
   "execution_count": 1,
   "metadata": {},
   "outputs": [],
   "source": [
    "import pandas as pd\n",
    "import matplotlib.pyplot as plt\n",
    "import numpy as np\n",
    "import requests"
   ]
  },
  {
   "cell_type": "code",
   "execution_count": 2,
   "metadata": {},
   "outputs": [
    {
     "name": "stdout",
     "output_type": "stream",
     "text": [
      "{'gecko_says': '(V3) To the Moon!'}\n"
     ]
    }
   ],
   "source": [
    "endpoint_url = \"https://api.coingecko.com/api/v3/ping\"\n",
    "\n",
    "params = {\n",
    "    \"vs_currency\": \"usd\",\n",
    "    \"order\": \"market_cap_desc\",\n",
    "    \"per_page\": 10,\n",
    "    \"page\": 1\n",
    "}\n",
    "\n",
    "reponse = requests.get(endpoint_url)\n",
    "\n",
    "if reponse.status_code == 200:\n",
    "    print(reponse.json())\n",
    "else:\n",
    "    print(\"Error: \", reponse.status_code)"
   ]
  },
  {
   "cell_type": "markdown",
   "metadata": {},
   "source": [
    "# Having a look at CoinGecko API\n",
    "\n",
    "An API requires an endpoint direcoty and maybe parameters. Tha's not the case for the end point currencies. We just need the available currencies"
   ]
  },
  {
   "cell_type": "markdown",
   "metadata": {},
   "source": [
    "#### Coins\n",
    "\n",
    "\n",
    "Gecko offers literally tons of different coins (10k+)... which is kinda crazy, so let's only focus on the treding to only pick 10 of them.. and let's search what the end point `search/trending` has for us"
   ]
  },
  {
   "cell_type": "code",
   "execution_count": 3,
   "metadata": {},
   "outputs": [
    {
     "data": {
      "text/plain": [
       "{'coins': [{'item': {'id': 'apecoin',\n",
       "    'coin_id': 24383,\n",
       "    'name': 'ApeCoin',\n",
       "    'symbol': 'APE',\n",
       "    'market_cap_rank': 65,\n",
       "    'thumb': 'https://assets.coingecko.com/coins/images/24383/thumb/apecoin.jpg?1647476455',\n",
       "    'small': 'https://assets.coingecko.com/coins/images/24383/small/apecoin.jpg?1647476455',\n",
       "    'large': 'https://assets.coingecko.com/coins/images/24383/large/apecoin.jpg?1647476455',\n",
       "    'slug': 'apecoin',\n",
       "    'price_btc': 6.20609478272109e-05,\n",
       "    'score': 0}},\n",
       "  {'item': {'id': 'trust-wallet-token',\n",
       "    'coin_id': 11085,\n",
       "    'name': 'Trust Wallet',\n",
       "    'symbol': 'TWT',\n",
       "    'market_cap_rank': 99,\n",
       "    'thumb': 'https://assets.coingecko.com/coins/images/11085/thumb/Trust.png?1588062702',\n",
       "    'small': 'https://assets.coingecko.com/coins/images/11085/small/Trust.png?1588062702',\n",
       "    'large': 'https://assets.coingecko.com/coins/images/11085/large/Trust.png?1588062702',\n",
       "    'slug': 'trust-wallet-token',\n",
       "    'price_btc': 3.385884594658855e-05,\n",
       "    'score': 1}},\n",
       "  {'item': {'id': 'sei-network',\n",
       "    'coin_id': 28205,\n",
       "    'name': 'Sei',\n",
       "    'symbol': 'SEI',\n",
       "    'market_cap_rank': 117,\n",
       "    'thumb': 'https://assets.coingecko.com/coins/images/28205/thumb/TKmaTqMv_400x400.jpeg?1668395911',\n",
       "    'small': 'https://assets.coingecko.com/coins/images/28205/small/TKmaTqMv_400x400.jpeg?1668395911',\n",
       "    'large': 'https://assets.coingecko.com/coins/images/28205/large/TKmaTqMv_400x400.jpeg?1668395911',\n",
       "    'slug': 'sei',\n",
       "    'price_btc': 6.0862760406772545e-06,\n",
       "    'score': 2}},\n",
       "  {'item': {'id': 'harrypotterobamapacman8inu',\n",
       "    'coin_id': 31241,\n",
       "    'name': 'HarryPotterObamaPacMan8Inu',\n",
       "    'symbol': 'XRP',\n",
       "    'market_cap_rank': 296,\n",
       "    'thumb': 'https://assets.coingecko.com/coins/images/31241/thumb/Pacman_Logo200x200.png?1691717643',\n",
       "    'small': 'https://assets.coingecko.com/coins/images/31241/small/Pacman_Logo200x200.png?1691717643',\n",
       "    'large': 'https://assets.coingecko.com/coins/images/31241/large/Pacman_Logo200x200.png?1691717643',\n",
       "    'slug': 'harrypotterobamapacman8inu',\n",
       "    'price_btc': 3.4366239287200144e-05,\n",
       "    'score': 3}},\n",
       "  {'item': {'id': 'sui',\n",
       "    'coin_id': 26375,\n",
       "    'name': 'Sui',\n",
       "    'symbol': 'SUI',\n",
       "    'market_cap_rank': 97,\n",
       "    'thumb': 'https://assets.coingecko.com/coins/images/26375/thumb/sui_asset.jpeg?1683114182',\n",
       "    'small': 'https://assets.coingecko.com/coins/images/26375/small/sui_asset.jpeg?1683114182',\n",
       "    'large': 'https://assets.coingecko.com/coins/images/26375/large/sui_asset.jpeg?1683114182',\n",
       "    'slug': 'sui',\n",
       "    'price_btc': 2.0333980295186165e-05,\n",
       "    'score': 4}},\n",
       "  {'item': {'id': 'akash-network',\n",
       "    'coin_id': 12785,\n",
       "    'name': 'Akash Network',\n",
       "    'symbol': 'AKT',\n",
       "    'market_cap_rank': 105,\n",
       "    'thumb': 'https://assets.coingecko.com/coins/images/12785/thumb/akash-logo.png?1615447676',\n",
       "    'small': 'https://assets.coingecko.com/coins/images/12785/small/akash-logo.png?1615447676',\n",
       "    'large': 'https://assets.coingecko.com/coins/images/12785/large/akash-logo.png?1615447676',\n",
       "    'slug': 'akash-network',\n",
       "    'price_btc': 5.697978915696694e-05,\n",
       "    'score': 5}},\n",
       "  {'item': {'id': 'paal-ai',\n",
       "    'coin_id': 30815,\n",
       "    'name': 'PAAL AI',\n",
       "    'symbol': 'PAAL',\n",
       "    'market_cap_rank': 575,\n",
       "    'thumb': 'https://assets.coingecko.com/coins/images/30815/thumb/PaalX.jpg?1687510326',\n",
       "    'small': 'https://assets.coingecko.com/coins/images/30815/small/PaalX.jpg?1687510326',\n",
       "    'large': 'https://assets.coingecko.com/coins/images/30815/large/PaalX.jpg?1687510326',\n",
       "    'slug': 'paal-ai',\n",
       "    'price_btc': 1.5227953546773696e-06,\n",
       "    'score': 6}},\n",
       "  {'item': {'id': 'worldcoin-wld',\n",
       "    'coin_id': 31069,\n",
       "    'name': 'Worldcoin',\n",
       "    'symbol': 'WLD',\n",
       "    'market_cap_rank': 161,\n",
       "    'thumb': 'https://assets.coingecko.com/coins/images/31069/thumb/worldcoin.jpeg?1690182386',\n",
       "    'small': 'https://assets.coingecko.com/coins/images/31069/small/worldcoin.jpeg?1690182386',\n",
       "    'large': 'https://assets.coingecko.com/coins/images/31069/large/worldcoin.jpeg?1690182386',\n",
       "    'slug': 'worldcoin',\n",
       "    'price_btc': 5.6126185753039473e-05,\n",
       "    'score': 7}}],\n",
       " 'nfts': [{'id': 'parallel-avatars',\n",
       "   'name': 'Parallel Avatars',\n",
       "   'symbol': 'LLPPL',\n",
       "   'thumb': 'https://assets.coingecko.com/nft_contracts/images/3246/small/f77f0f2cc27dd427c69c68e81bfb0b97.gif?1689035313',\n",
       "   'nft_contract_id': 3246,\n",
       "   'native_currency_symbol': 'eth',\n",
       "   'floor_price_in_native_currency': 0.32,\n",
       "   'floor_price_24h_percentage_change': 54.8166200363181},\n",
       "  {'id': 'nina-s-super-cool-world',\n",
       "   'name': \"Nina's Super Cool World\",\n",
       "   'symbol': 'COOL',\n",
       "   'thumb': 'https://assets.coingecko.com/nft_contracts/images/795/small/nina-s-super-cool-world.png?1657780164',\n",
       "   'nft_contract_id': 795,\n",
       "   'native_currency_symbol': 'eth',\n",
       "   'floor_price_in_native_currency': 0.74,\n",
       "   'floor_price_24h_percentage_change': 24.8233789162687},\n",
       "  {'id': 'fluf-world',\n",
       "   'name': 'FLUF World',\n",
       "   'symbol': 'FLUF',\n",
       "   'thumb': 'https://assets.coingecko.com/nft_contracts/images/150/small/FLUF.png?1632471129',\n",
       "   'nft_contract_id': 150,\n",
       "   'native_currency_symbol': 'eth',\n",
       "   'floor_price_in_native_currency': 1.2474,\n",
       "   'floor_price_24h_percentage_change': 18.7918141649677},\n",
       "  {'id': 'mooncats-acclimated',\n",
       "   'name': 'MoonCats - Acclimated',\n",
       "   'symbol': '😺',\n",
       "   'thumb': 'https://assets.coingecko.com/nft_contracts/images/144/small/mooncats.png?1631614088',\n",
       "   'nft_contract_id': 144,\n",
       "   'native_currency_symbol': 'eth',\n",
       "   'floor_price_in_native_currency': 0.2185,\n",
       "   'floor_price_24h_percentage_change': 16.5949225361264},\n",
       "  {'id': '0n1force',\n",
       "   'name': '0N1 Force',\n",
       "   'symbol': '0N1',\n",
       "   'thumb': 'https://assets.coingecko.com/nft_contracts/images/59/small/unnamed_%283%29.png?1629692324',\n",
       "   'nft_contract_id': 59,\n",
       "   'native_currency_symbol': 'eth',\n",
       "   'floor_price_in_native_currency': 0.82,\n",
       "   'floor_price_24h_percentage_change': 15.4685619184421}],\n",
       " 'exchanges': []}"
      ]
     },
     "execution_count": 3,
     "metadata": {},
     "output_type": "execute_result"
    }
   ],
   "source": [
    "coingecko = \"https://api.coingecko.com/api/v3/\"\n",
    "trend_coins_ep = \"search/trending\"\n",
    "\n",
    "trend_coins = requests.get(coingecko + trend_coins_ep).json()\n",
    "trend_coins"
   ]
  },
  {
   "cell_type": "markdown",
   "metadata": {},
   "source": [
    "ok.. when I run into this messy view structures.. I just zoom into each level that compose the object. The throws a simple dictionary.. and let's just get the keys and see what we've got"
   ]
  },
  {
   "cell_type": "code",
   "execution_count": 4,
   "metadata": {},
   "outputs": [
    {
     "data": {
      "text/plain": [
       "dict_keys(['coins', 'nfts', 'exchanges'])"
      ]
     },
     "execution_count": 4,
     "metadata": {},
     "output_type": "execute_result"
    }
   ],
   "source": [
    "trend_coins.keys()"
   ]
  },
  {
   "cell_type": "code",
   "execution_count": 5,
   "metadata": {},
   "outputs": [
    {
     "data": {
      "text/plain": [
       "(8, 5, 0)"
      ]
     },
     "execution_count": 5,
     "metadata": {},
     "output_type": "execute_result"
    }
   ],
   "source": [
    "len(trend_coins[\"coins\"]), len(trend_coins[\"nfts\"]), len(trend_coins[\"exchanges\"])"
   ]
  },
  {
   "cell_type": "code",
   "execution_count": 6,
   "metadata": {},
   "outputs": [
    {
     "data": {
      "text/plain": [
       "(dict,\n",
       " {'id': 'apecoin',\n",
       "  'coin_id': 24383,\n",
       "  'name': 'ApeCoin',\n",
       "  'symbol': 'APE',\n",
       "  'market_cap_rank': 65,\n",
       "  'thumb': 'https://assets.coingecko.com/coins/images/24383/thumb/apecoin.jpg?1647476455',\n",
       "  'small': 'https://assets.coingecko.com/coins/images/24383/small/apecoin.jpg?1647476455',\n",
       "  'large': 'https://assets.coingecko.com/coins/images/24383/large/apecoin.jpg?1647476455',\n",
       "  'slug': 'apecoin',\n",
       "  'price_btc': 6.20609478272109e-05,\n",
       "  'score': 0})"
      ]
     },
     "execution_count": 6,
     "metadata": {},
     "output_type": "execute_result"
    }
   ],
   "source": [
    "coin_list_df = pd.DataFrame(trend_coins[\"coins\"]).rename(columns={\"item\": \"coin_information\"})\n",
    "# Only for checkking the appropiate object --> dict, that's ok\n",
    "type(coin_list_df[\"coin_information\"][0]), coin_list_df[\"coin_information\"][0]"
   ]
  },
  {
   "cell_type": "code",
   "execution_count": 7,
   "metadata": {},
   "outputs": [
    {
     "data": {
      "text/html": [
       "<div>\n",
       "<style scoped>\n",
       "    .dataframe tbody tr th:only-of-type {\n",
       "        vertical-align: middle;\n",
       "    }\n",
       "\n",
       "    .dataframe tbody tr th {\n",
       "        vertical-align: top;\n",
       "    }\n",
       "\n",
       "    .dataframe thead th {\n",
       "        text-align: right;\n",
       "    }\n",
       "</style>\n",
       "<table border=\"1\" class=\"dataframe\">\n",
       "  <thead>\n",
       "    <tr style=\"text-align: right;\">\n",
       "      <th></th>\n",
       "      <th>coin_information</th>\n",
       "    </tr>\n",
       "  </thead>\n",
       "  <tbody>\n",
       "    <tr>\n",
       "      <th>0</th>\n",
       "      <td>{'id': 'apecoin', 'coin_id': 24383, 'name': 'A...</td>\n",
       "    </tr>\n",
       "    <tr>\n",
       "      <th>1</th>\n",
       "      <td>{'id': 'trust-wallet-token', 'coin_id': 11085,...</td>\n",
       "    </tr>\n",
       "    <tr>\n",
       "      <th>2</th>\n",
       "      <td>{'id': 'sei-network', 'coin_id': 28205, 'name'...</td>\n",
       "    </tr>\n",
       "    <tr>\n",
       "      <th>3</th>\n",
       "      <td>{'id': 'harrypotterobamapacman8inu', 'coin_id'...</td>\n",
       "    </tr>\n",
       "    <tr>\n",
       "      <th>4</th>\n",
       "      <td>{'id': 'sui', 'coin_id': 26375, 'name': 'Sui',...</td>\n",
       "    </tr>\n",
       "    <tr>\n",
       "      <th>5</th>\n",
       "      <td>{'id': 'akash-network', 'coin_id': 12785, 'nam...</td>\n",
       "    </tr>\n",
       "    <tr>\n",
       "      <th>6</th>\n",
       "      <td>{'id': 'paal-ai', 'coin_id': 30815, 'name': 'P...</td>\n",
       "    </tr>\n",
       "    <tr>\n",
       "      <th>7</th>\n",
       "      <td>{'id': 'worldcoin-wld', 'coin_id': 31069, 'nam...</td>\n",
       "    </tr>\n",
       "  </tbody>\n",
       "</table>\n",
       "</div>"
      ],
      "text/plain": [
       "                                    coin_information\n",
       "0  {'id': 'apecoin', 'coin_id': 24383, 'name': 'A...\n",
       "1  {'id': 'trust-wallet-token', 'coin_id': 11085,...\n",
       "2  {'id': 'sei-network', 'coin_id': 28205, 'name'...\n",
       "3  {'id': 'harrypotterobamapacman8inu', 'coin_id'...\n",
       "4  {'id': 'sui', 'coin_id': 26375, 'name': 'Sui',...\n",
       "5  {'id': 'akash-network', 'coin_id': 12785, 'nam...\n",
       "6  {'id': 'paal-ai', 'coin_id': 30815, 'name': 'P...\n",
       "7  {'id': 'worldcoin-wld', 'coin_id': 31069, 'nam..."
      ]
     },
     "execution_count": 7,
     "metadata": {},
     "output_type": "execute_result"
    }
   ],
   "source": [
    "coin_list_df # -> We've got a dataframe with dictionaries. Then.. how coul I get those key and arrange them as columns? by creating the columns"
   ]
  },
  {
   "cell_type": "code",
   "execution_count": 8,
   "metadata": {},
   "outputs": [],
   "source": [
    "# This simple iterator is for building the dataframe by extracting the keys and assigng them as column name.\n",
    "for key, value in coin_list_df[\"coin_information\"][0].items():\n",
    "    coin_list_df[key] = coin_list_df[\"coin_information\"].apply(lambda coin: coin[key])\n",
    "\n",
    "\n",
    "coin_list_df.drop(columns=\"coin_information\", inplace=True)"
   ]
  },
  {
   "cell_type": "code",
   "execution_count": 9,
   "metadata": {},
   "outputs": [
    {
     "data": {
      "text/plain": [
       "'https://assets.coingecko.com/coins/images/24383/thumb/apecoin.jpg?1647476455'"
      ]
     },
     "execution_count": 9,
     "metadata": {},
     "output_type": "execute_result"
    }
   ],
   "source": [
    "coin_list_df[\"thumb\"][0]"
   ]
  },
  {
   "cell_type": "code",
   "execution_count": 10,
   "metadata": {},
   "outputs": [],
   "source": [
    "coin_list_df.drop(columns=[\"thumb\", \"small\", \"large\"], inplace=True)"
   ]
  },
  {
   "cell_type": "code",
   "execution_count": 11,
   "metadata": {},
   "outputs": [
    {
     "data": {
      "text/html": [
       "<div>\n",
       "<style scoped>\n",
       "    .dataframe tbody tr th:only-of-type {\n",
       "        vertical-align: middle;\n",
       "    }\n",
       "\n",
       "    .dataframe tbody tr th {\n",
       "        vertical-align: top;\n",
       "    }\n",
       "\n",
       "    .dataframe thead th {\n",
       "        text-align: right;\n",
       "    }\n",
       "</style>\n",
       "<table border=\"1\" class=\"dataframe\">\n",
       "  <thead>\n",
       "    <tr style=\"text-align: right;\">\n",
       "      <th></th>\n",
       "      <th>id</th>\n",
       "      <th>coin_id</th>\n",
       "      <th>name</th>\n",
       "      <th>symbol</th>\n",
       "      <th>market_cap_rank</th>\n",
       "      <th>slug</th>\n",
       "      <th>price_btc</th>\n",
       "      <th>score</th>\n",
       "    </tr>\n",
       "  </thead>\n",
       "  <tbody>\n",
       "    <tr>\n",
       "      <th>0</th>\n",
       "      <td>apecoin</td>\n",
       "      <td>24383</td>\n",
       "      <td>ApeCoin</td>\n",
       "      <td>APE</td>\n",
       "      <td>65</td>\n",
       "      <td>apecoin</td>\n",
       "      <td>0.000062</td>\n",
       "      <td>0</td>\n",
       "    </tr>\n",
       "    <tr>\n",
       "      <th>1</th>\n",
       "      <td>trust-wallet-token</td>\n",
       "      <td>11085</td>\n",
       "      <td>Trust Wallet</td>\n",
       "      <td>TWT</td>\n",
       "      <td>99</td>\n",
       "      <td>trust-wallet-token</td>\n",
       "      <td>0.000034</td>\n",
       "      <td>1</td>\n",
       "    </tr>\n",
       "    <tr>\n",
       "      <th>2</th>\n",
       "      <td>sei-network</td>\n",
       "      <td>28205</td>\n",
       "      <td>Sei</td>\n",
       "      <td>SEI</td>\n",
       "      <td>117</td>\n",
       "      <td>sei</td>\n",
       "      <td>0.000006</td>\n",
       "      <td>2</td>\n",
       "    </tr>\n",
       "    <tr>\n",
       "      <th>3</th>\n",
       "      <td>harrypotterobamapacman8inu</td>\n",
       "      <td>31241</td>\n",
       "      <td>HarryPotterObamaPacMan8Inu</td>\n",
       "      <td>XRP</td>\n",
       "      <td>296</td>\n",
       "      <td>harrypotterobamapacman8inu</td>\n",
       "      <td>0.000034</td>\n",
       "      <td>3</td>\n",
       "    </tr>\n",
       "    <tr>\n",
       "      <th>4</th>\n",
       "      <td>sui</td>\n",
       "      <td>26375</td>\n",
       "      <td>Sui</td>\n",
       "      <td>SUI</td>\n",
       "      <td>97</td>\n",
       "      <td>sui</td>\n",
       "      <td>0.000020</td>\n",
       "      <td>4</td>\n",
       "    </tr>\n",
       "    <tr>\n",
       "      <th>5</th>\n",
       "      <td>akash-network</td>\n",
       "      <td>12785</td>\n",
       "      <td>Akash Network</td>\n",
       "      <td>AKT</td>\n",
       "      <td>105</td>\n",
       "      <td>akash-network</td>\n",
       "      <td>0.000057</td>\n",
       "      <td>5</td>\n",
       "    </tr>\n",
       "    <tr>\n",
       "      <th>6</th>\n",
       "      <td>paal-ai</td>\n",
       "      <td>30815</td>\n",
       "      <td>PAAL AI</td>\n",
       "      <td>PAAL</td>\n",
       "      <td>575</td>\n",
       "      <td>paal-ai</td>\n",
       "      <td>0.000002</td>\n",
       "      <td>6</td>\n",
       "    </tr>\n",
       "    <tr>\n",
       "      <th>7</th>\n",
       "      <td>worldcoin-wld</td>\n",
       "      <td>31069</td>\n",
       "      <td>Worldcoin</td>\n",
       "      <td>WLD</td>\n",
       "      <td>161</td>\n",
       "      <td>worldcoin</td>\n",
       "      <td>0.000056</td>\n",
       "      <td>7</td>\n",
       "    </tr>\n",
       "  </tbody>\n",
       "</table>\n",
       "</div>"
      ],
      "text/plain": [
       "                           id  coin_id                        name symbol  \\\n",
       "0                     apecoin    24383                     ApeCoin    APE   \n",
       "1          trust-wallet-token    11085                Trust Wallet    TWT   \n",
       "2                 sei-network    28205                         Sei    SEI   \n",
       "3  harrypotterobamapacman8inu    31241  HarryPotterObamaPacMan8Inu    XRP   \n",
       "4                         sui    26375                         Sui    SUI   \n",
       "5               akash-network    12785               Akash Network    AKT   \n",
       "6                     paal-ai    30815                     PAAL AI   PAAL   \n",
       "7               worldcoin-wld    31069                   Worldcoin    WLD   \n",
       "\n",
       "   market_cap_rank                        slug  price_btc  score  \n",
       "0               65                     apecoin   0.000062      0  \n",
       "1               99          trust-wallet-token   0.000034      1  \n",
       "2              117                         sei   0.000006      2  \n",
       "3              296  harrypotterobamapacman8inu   0.000034      3  \n",
       "4               97                         sui   0.000020      4  \n",
       "5              105               akash-network   0.000057      5  \n",
       "6              575                     paal-ai   0.000002      6  \n",
       "7              161                   worldcoin   0.000056      7  "
      ]
     },
     "execution_count": 11,
     "metadata": {},
     "output_type": "execute_result"
    }
   ],
   "source": [
    "coin_list_df"
   ]
  },
  {
   "cell_type": "code",
   "execution_count": 12,
   "metadata": {},
   "outputs": [
    {
     "data": {
      "text/plain": [
       "'apecoin,trust-wallet-token,sei-network,harrypotterobamapacman8inu,sui,akash-network,paal-ai,worldcoin-wld'"
      ]
     },
     "execution_count": 12,
     "metadata": {},
     "output_type": "execute_result"
    }
   ],
   "source": [
    "\",\".join(coin_list_df[\"id\"].tolist())"
   ]
  },
  {
   "cell_type": "code",
   "execution_count": 13,
   "metadata": {},
   "outputs": [
    {
     "data": {
      "text/plain": [
       "{'id': 'localcoinswap',\n",
       " 'name': 'LocalCoinSwap',\n",
       " 'api_symbol': 'localcoinswap',\n",
       " 'symbol': 'LCS',\n",
       " 'market_cap_rank': 1307,\n",
       " 'thumb': 'https://assets.coingecko.com/coins/images/3998/thumb/LocalCoinSwap.png',\n",
       " 'large': 'https://assets.coingecko.com/coins/images/3998/large/LocalCoinSwap.png'}"
      ]
     },
     "execution_count": 13,
     "metadata": {},
     "output_type": "execute_result"
    }
   ],
   "source": [
    "search_coin_ep = \"search\"\n",
    "\n",
    "search_coin_parameters = {\n",
    "    \"query\": \"coins\"\n",
    "}\n",
    "\n",
    "requests.get(coingecko + search_coin_ep, params=search_coin_parameters).json()[\"coins\"][0]"
   ]
  },
  {
   "cell_type": "markdown",
   "metadata": {},
   "source": [
    "#### Getting currencies\n",
    "\n",
    "`/simple/supported_vs_currencies` end point"
   ]
  },
  {
   "cell_type": "code",
   "execution_count": 14,
   "metadata": {},
   "outputs": [],
   "source": [
    "supported_currencies_ep = \"simple/supported_vs_currencies\"\n",
    "\n",
    "# No parameters requiered\n",
    "\n",
    "currencies_df = pd.DataFrame(requests.get(coingecko + supported_currencies_ep).json()).rename(columns={0: \"currencies\"})"
   ]
  },
  {
   "cell_type": "code",
   "execution_count": 15,
   "metadata": {},
   "outputs": [
    {
     "data": {
      "text/html": [
       "<div>\n",
       "<style scoped>\n",
       "    .dataframe tbody tr th:only-of-type {\n",
       "        vertical-align: middle;\n",
       "    }\n",
       "\n",
       "    .dataframe tbody tr th {\n",
       "        vertical-align: top;\n",
       "    }\n",
       "\n",
       "    .dataframe thead th {\n",
       "        text-align: right;\n",
       "    }\n",
       "</style>\n",
       "<table border=\"1\" class=\"dataframe\">\n",
       "  <thead>\n",
       "    <tr style=\"text-align: right;\">\n",
       "      <th></th>\n",
       "      <th>currencies</th>\n",
       "    </tr>\n",
       "  </thead>\n",
       "  <tbody>\n",
       "    <tr>\n",
       "      <th>7</th>\n",
       "      <td>xlm</td>\n",
       "    </tr>\n",
       "    <tr>\n",
       "      <th>17</th>\n",
       "      <td>bmd</td>\n",
       "    </tr>\n",
       "    <tr>\n",
       "      <th>36</th>\n",
       "      <td>mmk</td>\n",
       "    </tr>\n",
       "    <tr>\n",
       "      <th>37</th>\n",
       "      <td>mxn</td>\n",
       "    </tr>\n",
       "    <tr>\n",
       "      <th>38</th>\n",
       "      <td>myr</td>\n",
       "    </tr>\n",
       "  </tbody>\n",
       "</table>\n",
       "</div>"
      ],
      "text/plain": [
       "   currencies\n",
       "7         xlm\n",
       "17        bmd\n",
       "36        mmk\n",
       "37        mxn\n",
       "38        myr"
      ]
     },
     "execution_count": 15,
     "metadata": {},
     "output_type": "execute_result"
    }
   ],
   "source": [
    "currencies_df[currencies_df[\"currencies\"].str.contains(\"mx*\")]"
   ]
  },
  {
   "cell_type": "markdown",
   "metadata": {},
   "source": [
    "#### Get Data by ID or Contract\n",
    "\n",
    "* Get the current coin's price"
   ]
  },
  {
   "cell_type": "code",
   "execution_count": 16,
   "metadata": {},
   "outputs": [
    {
     "data": {
      "text/plain": [
       "'apecoin,trust-wallet-token,sei-network,harrypotterobamapacman8inu,sui,akash-network,paal-ai,worldcoin-wld'"
      ]
     },
     "execution_count": 16,
     "metadata": {},
     "output_type": "execute_result"
    }
   ],
   "source": [
    "\",\".join(coin_list_df[\"id\"].tolist())\n"
   ]
  },
  {
   "cell_type": "code",
   "execution_count": 17,
   "metadata": {},
   "outputs": [],
   "source": [
    "simple_price_ep = \"simple/price\"\n",
    "\n",
    "coin_ids = \",\".join(coin_list_df[\"id\"].tolist())\n",
    "\n",
    "simple_price_parameters = {\n",
    "    \"ids\": coin_ids,\n",
    "    \"vs_currencies\": \"usd\",\n",
    "    \"include_market_cap\": \"true\",\n",
    "    \"include_24hr_vol\": \"true\",\n",
    "    \"include_24hr_change\": \"true\",\n",
    "    \"include_last_updated_at\": \"true\",\n",
    "    \"precision\": \"4\"\n",
    "}\n",
    "\n",
    "simple_price_of_coins_df = pd.DataFrame(requests.get(coingecko + simple_price_ep, params=simple_price_parameters).json()).T"
   ]
  },
  {
   "cell_type": "code",
   "execution_count": 18,
   "metadata": {},
   "outputs": [
    {
     "data": {
      "text/html": [
       "<div>\n",
       "<style scoped>\n",
       "    .dataframe tbody tr th:only-of-type {\n",
       "        vertical-align: middle;\n",
       "    }\n",
       "\n",
       "    .dataframe tbody tr th {\n",
       "        vertical-align: top;\n",
       "    }\n",
       "\n",
       "    .dataframe thead th {\n",
       "        text-align: right;\n",
       "    }\n",
       "</style>\n",
       "<table border=\"1\" class=\"dataframe\">\n",
       "  <thead>\n",
       "    <tr style=\"text-align: right;\">\n",
       "      <th></th>\n",
       "      <th>usd</th>\n",
       "      <th>usd_market_cap</th>\n",
       "      <th>usd_24h_vol</th>\n",
       "      <th>usd_24h_change</th>\n",
       "      <th>last_updated_at</th>\n",
       "    </tr>\n",
       "  </thead>\n",
       "  <tbody>\n",
       "    <tr>\n",
       "      <th>akash-network</th>\n",
       "      <td>1.4842</td>\n",
       "      <td>3.226165e+08</td>\n",
       "      <td>5.323267e+06</td>\n",
       "      <td>12.722472</td>\n",
       "      <td>1.692469e+09</td>\n",
       "    </tr>\n",
       "    <tr>\n",
       "      <th>apecoin</th>\n",
       "      <td>1.6148</td>\n",
       "      <td>5.962206e+08</td>\n",
       "      <td>5.375883e+07</td>\n",
       "      <td>3.005190</td>\n",
       "      <td>1.692469e+09</td>\n",
       "    </tr>\n",
       "    <tr>\n",
       "      <th>harrypotterobamapacman8inu</th>\n",
       "      <td>0.8851</td>\n",
       "      <td>7.343265e+07</td>\n",
       "      <td>2.745845e+06</td>\n",
       "      <td>34.307484</td>\n",
       "      <td>1.692469e+09</td>\n",
       "    </tr>\n",
       "    <tr>\n",
       "      <th>paal-ai</th>\n",
       "      <td>0.0396</td>\n",
       "      <td>2.565269e+07</td>\n",
       "      <td>1.211669e+06</td>\n",
       "      <td>12.128823</td>\n",
       "      <td>1.692469e+09</td>\n",
       "    </tr>\n",
       "    <tr>\n",
       "      <th>sei-network</th>\n",
       "      <td>0.1585</td>\n",
       "      <td>2.855506e+08</td>\n",
       "      <td>1.573139e+08</td>\n",
       "      <td>-0.525874</td>\n",
       "      <td>1.692469e+09</td>\n",
       "    </tr>\n",
       "    <tr>\n",
       "      <th>sui</th>\n",
       "      <td>0.5298</td>\n",
       "      <td>3.830835e+08</td>\n",
       "      <td>8.873657e+07</td>\n",
       "      <td>11.352852</td>\n",
       "      <td>1.692469e+09</td>\n",
       "    </tr>\n",
       "    <tr>\n",
       "      <th>trust-wallet-token</th>\n",
       "      <td>0.8819</td>\n",
       "      <td>3.674374e+08</td>\n",
       "      <td>7.910229e+06</td>\n",
       "      <td>3.586251</td>\n",
       "      <td>1.692469e+09</td>\n",
       "    </tr>\n",
       "    <tr>\n",
       "      <th>worldcoin-wld</th>\n",
       "      <td>1.4622</td>\n",
       "      <td>1.851716e+08</td>\n",
       "      <td>4.440387e+07</td>\n",
       "      <td>-2.417262</td>\n",
       "      <td>1.692469e+09</td>\n",
       "    </tr>\n",
       "  </tbody>\n",
       "</table>\n",
       "</div>"
      ],
      "text/plain": [
       "                               usd  usd_market_cap   usd_24h_vol  \\\n",
       "akash-network               1.4842    3.226165e+08  5.323267e+06   \n",
       "apecoin                     1.6148    5.962206e+08  5.375883e+07   \n",
       "harrypotterobamapacman8inu  0.8851    7.343265e+07  2.745845e+06   \n",
       "paal-ai                     0.0396    2.565269e+07  1.211669e+06   \n",
       "sei-network                 0.1585    2.855506e+08  1.573139e+08   \n",
       "sui                         0.5298    3.830835e+08  8.873657e+07   \n",
       "trust-wallet-token          0.8819    3.674374e+08  7.910229e+06   \n",
       "worldcoin-wld               1.4622    1.851716e+08  4.440387e+07   \n",
       "\n",
       "                            usd_24h_change  last_updated_at  \n",
       "akash-network                    12.722472     1.692469e+09  \n",
       "apecoin                           3.005190     1.692469e+09  \n",
       "harrypotterobamapacman8inu       34.307484     1.692469e+09  \n",
       "paal-ai                          12.128823     1.692469e+09  \n",
       "sei-network                      -0.525874     1.692469e+09  \n",
       "sui                              11.352852     1.692469e+09  \n",
       "trust-wallet-token                3.586251     1.692469e+09  \n",
       "worldcoin-wld                    -2.417262     1.692469e+09  "
      ]
     },
     "execution_count": 18,
     "metadata": {},
     "output_type": "execute_result"
    }
   ],
   "source": [
    "pd.DataFrame(requests.get(coingecko + simple_price_ep, params=simple_price_parameters).json()).T"
   ]
  },
  {
   "cell_type": "code",
   "execution_count": 19,
   "metadata": {},
   "outputs": [
    {
     "data": {
      "text/html": [
       "<div>\n",
       "<style scoped>\n",
       "    .dataframe tbody tr th:only-of-type {\n",
       "        vertical-align: middle;\n",
       "    }\n",
       "\n",
       "    .dataframe tbody tr th {\n",
       "        vertical-align: top;\n",
       "    }\n",
       "\n",
       "    .dataframe thead th {\n",
       "        text-align: right;\n",
       "    }\n",
       "</style>\n",
       "<table border=\"1\" class=\"dataframe\">\n",
       "  <thead>\n",
       "    <tr style=\"text-align: right;\">\n",
       "      <th></th>\n",
       "      <th>usd</th>\n",
       "      <th>usd_market_cap</th>\n",
       "      <th>usd_24h_vol</th>\n",
       "      <th>usd_24h_change</th>\n",
       "      <th>last_updated_at</th>\n",
       "    </tr>\n",
       "  </thead>\n",
       "  <tbody>\n",
       "    <tr>\n",
       "      <th>akash-network</th>\n",
       "      <td>1.4842</td>\n",
       "      <td>3.226165e+08</td>\n",
       "      <td>5.323267e+06</td>\n",
       "      <td>12.722472</td>\n",
       "      <td>1.692469e+09</td>\n",
       "    </tr>\n",
       "    <tr>\n",
       "      <th>apecoin</th>\n",
       "      <td>1.6148</td>\n",
       "      <td>5.962206e+08</td>\n",
       "      <td>5.375883e+07</td>\n",
       "      <td>3.005190</td>\n",
       "      <td>1.692469e+09</td>\n",
       "    </tr>\n",
       "    <tr>\n",
       "      <th>harrypotterobamapacman8inu</th>\n",
       "      <td>0.8851</td>\n",
       "      <td>7.343265e+07</td>\n",
       "      <td>2.745845e+06</td>\n",
       "      <td>34.307484</td>\n",
       "      <td>1.692469e+09</td>\n",
       "    </tr>\n",
       "    <tr>\n",
       "      <th>paal-ai</th>\n",
       "      <td>0.0396</td>\n",
       "      <td>2.565269e+07</td>\n",
       "      <td>1.211669e+06</td>\n",
       "      <td>12.128823</td>\n",
       "      <td>1.692469e+09</td>\n",
       "    </tr>\n",
       "    <tr>\n",
       "      <th>sei-network</th>\n",
       "      <td>0.1585</td>\n",
       "      <td>2.855506e+08</td>\n",
       "      <td>1.573139e+08</td>\n",
       "      <td>-0.525874</td>\n",
       "      <td>1.692469e+09</td>\n",
       "    </tr>\n",
       "    <tr>\n",
       "      <th>sui</th>\n",
       "      <td>0.5298</td>\n",
       "      <td>3.830835e+08</td>\n",
       "      <td>8.873657e+07</td>\n",
       "      <td>11.352852</td>\n",
       "      <td>1.692469e+09</td>\n",
       "    </tr>\n",
       "    <tr>\n",
       "      <th>trust-wallet-token</th>\n",
       "      <td>0.8819</td>\n",
       "      <td>3.674374e+08</td>\n",
       "      <td>7.910229e+06</td>\n",
       "      <td>3.586251</td>\n",
       "      <td>1.692469e+09</td>\n",
       "    </tr>\n",
       "    <tr>\n",
       "      <th>worldcoin-wld</th>\n",
       "      <td>1.4622</td>\n",
       "      <td>1.851716e+08</td>\n",
       "      <td>4.440387e+07</td>\n",
       "      <td>-2.417262</td>\n",
       "      <td>1.692469e+09</td>\n",
       "    </tr>\n",
       "  </tbody>\n",
       "</table>\n",
       "</div>"
      ],
      "text/plain": [
       "                               usd  usd_market_cap   usd_24h_vol  \\\n",
       "akash-network               1.4842    3.226165e+08  5.323267e+06   \n",
       "apecoin                     1.6148    5.962206e+08  5.375883e+07   \n",
       "harrypotterobamapacman8inu  0.8851    7.343265e+07  2.745845e+06   \n",
       "paal-ai                     0.0396    2.565269e+07  1.211669e+06   \n",
       "sei-network                 0.1585    2.855506e+08  1.573139e+08   \n",
       "sui                         0.5298    3.830835e+08  8.873657e+07   \n",
       "trust-wallet-token          0.8819    3.674374e+08  7.910229e+06   \n",
       "worldcoin-wld               1.4622    1.851716e+08  4.440387e+07   \n",
       "\n",
       "                            usd_24h_change  last_updated_at  \n",
       "akash-network                    12.722472     1.692469e+09  \n",
       "apecoin                           3.005190     1.692469e+09  \n",
       "harrypotterobamapacman8inu       34.307484     1.692469e+09  \n",
       "paal-ai                          12.128823     1.692469e+09  \n",
       "sei-network                      -0.525874     1.692469e+09  \n",
       "sui                              11.352852     1.692469e+09  \n",
       "trust-wallet-token                3.586251     1.692469e+09  \n",
       "worldcoin-wld                    -2.417262     1.692469e+09  "
      ]
     },
     "execution_count": 19,
     "metadata": {},
     "output_type": "execute_result"
    }
   ],
   "source": [
    "simple_price_of_coins_df"
   ]
  },
  {
   "cell_type": "markdown",
   "metadata": {},
   "source": [
    "#### Historical Data\n",
    "\n",
    "These 4 last years has been kind of abnormal since the pandemia took place at the end of 2019.. So let's Explore those years\n",
    "\n",
    "The end points used are:\n",
    "\n",
    "`/coin/...` \n",
    "\n",
    "        `/coins/{id}/market_chart`"
   ]
  },
  {
   "cell_type": "code",
   "execution_count": 20,
   "metadata": {},
   "outputs": [
    {
     "data": {
      "text/plain": [
       "'some texts hello here'"
      ]
     },
     "execution_count": 20,
     "metadata": {},
     "output_type": "execute_result"
    }
   ],
   "source": [
    "var = \"hello\"\n",
    "f\"some texts {var} here\""
   ]
  },
  {
   "cell_type": "markdown",
   "metadata": {},
   "source": [
    "Let's run a simple attempt to get a historical data from any coin.. later, this will be run through all coins"
   ]
  },
  {
   "cell_type": "code",
   "execution_count": 21,
   "metadata": {},
   "outputs": [],
   "source": [
    "# Trying out this single coin to see what we get\n",
    "coin_id = \"apecoin\"\n",
    "\n",
    "market_chart_ep = f\"coins/{coin_id}/market_chart\" # -> create our endpoint string\n",
    "\n",
    "\n",
    "# The parameters\n",
    "market_chart_parameters = {\n",
    "    \"vs_currency\": \"usd\",\n",
    "    # days parameters give us how many days.. here I will set it up as max to find out what is the biggest range provided\n",
    "    \"days\": \"max\", \n",
    "    \"interval\": \"daily\",\n",
    "    \"precision\": \"4\"\n",
    "}\n",
    "\n",
    "market_chart_coin_df = pd.DataFrame(requests.get(coingecko + market_chart_ep, params=market_chart_parameters).json())\n"
   ]
  },
  {
   "cell_type": "code",
   "execution_count": 22,
   "metadata": {},
   "outputs": [
    {
     "data": {
      "text/html": [
       "<div>\n",
       "<style scoped>\n",
       "    .dataframe tbody tr th:only-of-type {\n",
       "        vertical-align: middle;\n",
       "    }\n",
       "\n",
       "    .dataframe tbody tr th {\n",
       "        vertical-align: top;\n",
       "    }\n",
       "\n",
       "    .dataframe thead th {\n",
       "        text-align: right;\n",
       "    }\n",
       "</style>\n",
       "<table border=\"1\" class=\"dataframe\">\n",
       "  <thead>\n",
       "    <tr style=\"text-align: right;\">\n",
       "      <th></th>\n",
       "      <th>prices</th>\n",
       "      <th>market_caps</th>\n",
       "      <th>total_volumes</th>\n",
       "    </tr>\n",
       "  </thead>\n",
       "  <tbody>\n",
       "    <tr>\n",
       "      <th>0</th>\n",
       "      <td>[1647475200000, 8.5368]</td>\n",
       "      <td>[1647475200000, 946081401.9243534]</td>\n",
       "      <td>[1647475200000, 1455626533.6918294]</td>\n",
       "    </tr>\n",
       "    <tr>\n",
       "      <th>1</th>\n",
       "      <td>[1647561600000, 8.5368]</td>\n",
       "      <td>[1647561600000, 946081401.9243534]</td>\n",
       "      <td>[1647561600000, 1455626533.6918294]</td>\n",
       "    </tr>\n",
       "    <tr>\n",
       "      <th>2</th>\n",
       "      <td>[1647648000000, 12.9887]</td>\n",
       "      <td>[1647648000000, 1740629590.0400217]</td>\n",
       "      <td>[1647648000000, 5214126303.852453]</td>\n",
       "    </tr>\n",
       "    <tr>\n",
       "      <th>3</th>\n",
       "      <td>[1647734400000, 11.5352]</td>\n",
       "      <td>[1647734400000, 1542254655.9177086]</td>\n",
       "      <td>[1647734400000, 1816679748.2748725]</td>\n",
       "    </tr>\n",
       "    <tr>\n",
       "      <th>4</th>\n",
       "      <td>[1647820800000, 9.6182]</td>\n",
       "      <td>[1647820800000, 1261482818.2726943]</td>\n",
       "      <td>[1647820800000, 1381888008.2736359]</td>\n",
       "    </tr>\n",
       "    <tr>\n",
       "      <th>...</th>\n",
       "      <td>...</td>\n",
       "      <td>...</td>\n",
       "      <td>...</td>\n",
       "    </tr>\n",
       "    <tr>\n",
       "      <th>517</th>\n",
       "      <td>[1692144000000, 1.8437]</td>\n",
       "      <td>[1692144000000, 679107753.6536336]</td>\n",
       "      <td>[1692144000000, 105204639.42863622]</td>\n",
       "    </tr>\n",
       "    <tr>\n",
       "      <th>518</th>\n",
       "      <td>[1692230400000, 1.7271]</td>\n",
       "      <td>[1692230400000, 638397627.6743878]</td>\n",
       "      <td>[1692230400000, 92594422.39837572]</td>\n",
       "    </tr>\n",
       "    <tr>\n",
       "      <th>519</th>\n",
       "      <td>[1692316800000, 1.5449]</td>\n",
       "      <td>[1692316800000, 571490403.0703058]</td>\n",
       "      <td>[1692316800000, 190644872.99763328]</td>\n",
       "    </tr>\n",
       "    <tr>\n",
       "      <th>520</th>\n",
       "      <td>[1692403200000, 1.5609]</td>\n",
       "      <td>[1692403200000, 574741183.0710272]</td>\n",
       "      <td>[1692403200000, 87480739.62529887]</td>\n",
       "    </tr>\n",
       "    <tr>\n",
       "      <th>521</th>\n",
       "      <td>[1692465785000, 1.6069]</td>\n",
       "      <td>[1692465785000, 594850156.1804237]</td>\n",
       "      <td>[1692465785000, 57510322.377314374]</td>\n",
       "    </tr>\n",
       "  </tbody>\n",
       "</table>\n",
       "<p>522 rows × 3 columns</p>\n",
       "</div>"
      ],
      "text/plain": [
       "                       prices                          market_caps  \\\n",
       "0     [1647475200000, 8.5368]   [1647475200000, 946081401.9243534]   \n",
       "1     [1647561600000, 8.5368]   [1647561600000, 946081401.9243534]   \n",
       "2    [1647648000000, 12.9887]  [1647648000000, 1740629590.0400217]   \n",
       "3    [1647734400000, 11.5352]  [1647734400000, 1542254655.9177086]   \n",
       "4     [1647820800000, 9.6182]  [1647820800000, 1261482818.2726943]   \n",
       "..                        ...                                  ...   \n",
       "517   [1692144000000, 1.8437]   [1692144000000, 679107753.6536336]   \n",
       "518   [1692230400000, 1.7271]   [1692230400000, 638397627.6743878]   \n",
       "519   [1692316800000, 1.5449]   [1692316800000, 571490403.0703058]   \n",
       "520   [1692403200000, 1.5609]   [1692403200000, 574741183.0710272]   \n",
       "521   [1692465785000, 1.6069]   [1692465785000, 594850156.1804237]   \n",
       "\n",
       "                           total_volumes  \n",
       "0    [1647475200000, 1455626533.6918294]  \n",
       "1    [1647561600000, 1455626533.6918294]  \n",
       "2     [1647648000000, 5214126303.852453]  \n",
       "3    [1647734400000, 1816679748.2748725]  \n",
       "4    [1647820800000, 1381888008.2736359]  \n",
       "..                                   ...  \n",
       "517  [1692144000000, 105204639.42863622]  \n",
       "518   [1692230400000, 92594422.39837572]  \n",
       "519  [1692316800000, 190644872.99763328]  \n",
       "520   [1692403200000, 87480739.62529887]  \n",
       "521  [1692465785000, 57510322.377314374]  \n",
       "\n",
       "[522 rows x 3 columns]"
      ]
     },
     "execution_count": 22,
     "metadata": {},
     "output_type": "execute_result"
    }
   ],
   "source": [
    "market_chart_coin_df # -> Each column has its own UNIX imestamp. We ought to re shape and convert, but first, I want to check the date range the end point could throws at the most"
   ]
  },
  {
   "cell_type": "markdown",
   "metadata": {},
   "source": [
    "It seems each column has its own timestamp, this timestamp is in UNIX.. so that we have to reshape this in order to get the dataframe ready for time series visualization"
   ]
  },
  {
   "cell_type": "code",
   "execution_count": 23,
   "metadata": {},
   "outputs": [
    {
     "data": {
      "text/plain": [
       "Timestamp('2023-05-19 00:00:00')"
      ]
     },
     "execution_count": 23,
     "metadata": {},
     "output_type": "execute_result"
    }
   ],
   "source": [
    "pd.to_datetime(1684454400000, unit=\"ms\") # it worked"
   ]
  },
  {
   "cell_type": "code",
   "execution_count": 24,
   "metadata": {},
   "outputs": [
    {
     "data": {
      "text/plain": [
       "0     2022-03-17 00:00:00\n",
       "1     2022-03-18 00:00:00\n",
       "2     2022-03-19 00:00:00\n",
       "3     2022-03-20 00:00:00\n",
       "4     2022-03-21 00:00:00\n",
       "              ...        \n",
       "517   2023-08-16 00:00:00\n",
       "518   2023-08-17 00:00:00\n",
       "519   2023-08-18 00:00:00\n",
       "520   2023-08-19 00:00:00\n",
       "521   2023-08-19 17:23:05\n",
       "Name: prices, Length: 522, dtype: datetime64[ns]"
      ]
     },
     "execution_count": 24,
     "metadata": {},
     "output_type": "execute_result"
    }
   ],
   "source": [
    "# Let's try this out.. \n",
    "pd.to_datetime(market_chart_coin_df[\"prices\"].apply(lambda price: price[0]), unit=\"ms\") "
   ]
  },
  {
   "cell_type": "markdown",
   "metadata": {},
   "source": [
    "Know that it is known how to convert UNIX dates, Let's see the date range the end point could give us"
   ]
  },
  {
   "cell_type": "code",
   "execution_count": 25,
   "metadata": {},
   "outputs": [
    {
     "data": {
      "text/plain": [
       "(Timestamp('2022-03-17 00:00:00'), Timestamp('2023-08-19 17:23:05'))"
      ]
     },
     "execution_count": 25,
     "metadata": {},
     "output_type": "execute_result"
    }
   ],
   "source": [
    "pd.to_datetime(market_chart_coin_df[\"prices\"].apply(lambda prices: prices[0]), unit=\"ms\").min(), pd.to_datetime(market_chart_coin_df[\"prices\"].apply(lambda prices: prices[0]), unit=\"ms\").max()"
   ]
  },
  {
   "cell_type": "code",
   "execution_count": 26,
   "metadata": {},
   "outputs": [
    {
     "data": {
      "text/plain": [
       "Timedelta('520 days 17:23:05')"
      ]
     },
     "execution_count": 26,
     "metadata": {},
     "output_type": "execute_result"
    }
   ],
   "source": [
    "pd.to_datetime(market_chart_coin_df[\"prices\"].apply(lambda prices: prices[0]), unit=\"ms\").max() - pd.to_datetime(market_chart_coin_df[\"prices\"].apply(lambda prices: prices[0]), unit=\"ms\").min()"
   ]
  },
  {
   "cell_type": "markdown",
   "metadata": {},
   "source": [
    "The endpoint throws only 518 days and 22:27.. ok.. one option is to split into date ranges, make multiple requests, and append all the data into one dataframe.\n",
    "\n",
    "* Getting UNIX dates:\n",
    "        Translate them\n",
    "\n",
    "* Multiple request on `coins/{coin_id}/market_chart/range` end point\n",
    "\n",
    "* Stack the whole data into only single dataframe"
   ]
  },
  {
   "cell_type": "markdown",
   "metadata": {},
   "source": [
    "#### Searching for Other coins"
   ]
  },
  {
   "cell_type": "markdown",
   "metadata": {},
   "source": [
    "It is shown that it is not good idea to use the trend coins for selection of the coins to be analyzed... this throws any trending coin, regardless of its maturity."
   ]
  },
  {
   "cell_type": "code",
   "execution_count": 27,
   "metadata": {},
   "outputs": [],
   "source": [
    "import requests\n",
    "\n",
    "url = \"https://api.coingecko.com/api/v3/coins/markets\"\n",
    "params = {\n",
    "    \"vs_currency\": \"usd\",   # You can change this to your preferred currency\n",
    "    \"order\": \"market_cap_desc\",  # Order by market cap in descending order\n",
    "    \"per_page\": 100,   # Adjust the number of coins per page as needed\n",
    "    \"page\": 1  # Page number\n",
    "}\n",
    "\n",
    "response = requests.get(url, params=params)\n",
    "data_coins = response.json()"
   ]
  },
  {
   "cell_type": "code",
   "execution_count": 28,
   "metadata": {},
   "outputs": [
    {
     "data": {
      "text/plain": [
       "Index(['id', 'symbol', 'name', 'image', 'current_price', 'market_cap',\n",
       "       'market_cap_rank', 'fully_diluted_valuation', 'total_volume',\n",
       "       'high_24h', 'low_24h', 'price_change_24h',\n",
       "       'price_change_percentage_24h', 'market_cap_change_24h',\n",
       "       'market_cap_change_percentage_24h', 'circulating_supply',\n",
       "       'total_supply', 'max_supply', 'ath', 'ath_change_percentage',\n",
       "       'ath_date', 'atl', 'atl_change_percentage', 'atl_date', 'roi',\n",
       "       'last_updated'],\n",
       "      dtype='object')"
      ]
     },
     "execution_count": 28,
     "metadata": {},
     "output_type": "execute_result"
    }
   ],
   "source": [
    "# And I do not know what data is thrown in this endpoint. Let's extract columns and find its description\n",
    "pd.DataFrame(data_coins).columns"
   ]
  },
  {
   "cell_type": "code",
   "execution_count": 29,
   "metadata": {},
   "outputs": [
    {
     "data": {
      "text/html": [
       "<div>\n",
       "<style scoped>\n",
       "    .dataframe tbody tr th:only-of-type {\n",
       "        vertical-align: middle;\n",
       "    }\n",
       "\n",
       "    .dataframe tbody tr th {\n",
       "        vertical-align: top;\n",
       "    }\n",
       "\n",
       "    .dataframe thead th {\n",
       "        text-align: right;\n",
       "    }\n",
       "</style>\n",
       "<table border=\"1\" class=\"dataframe\">\n",
       "  <thead>\n",
       "    <tr style=\"text-align: right;\">\n",
       "      <th></th>\n",
       "      <th>id</th>\n",
       "      <th>symbol</th>\n",
       "      <th>name</th>\n",
       "      <th>image</th>\n",
       "      <th>current_price</th>\n",
       "      <th>market_cap</th>\n",
       "      <th>market_cap_rank</th>\n",
       "      <th>fully_diluted_valuation</th>\n",
       "      <th>total_volume</th>\n",
       "      <th>high_24h</th>\n",
       "      <th>...</th>\n",
       "      <th>total_supply</th>\n",
       "      <th>max_supply</th>\n",
       "      <th>ath</th>\n",
       "      <th>ath_change_percentage</th>\n",
       "      <th>ath_date</th>\n",
       "      <th>atl</th>\n",
       "      <th>atl_change_percentage</th>\n",
       "      <th>atl_date</th>\n",
       "      <th>roi</th>\n",
       "      <th>last_updated</th>\n",
       "    </tr>\n",
       "  </thead>\n",
       "  <tbody>\n",
       "    <tr>\n",
       "      <th>0</th>\n",
       "      <td>bitcoin</td>\n",
       "      <td>btc</td>\n",
       "      <td>Bitcoin</td>\n",
       "      <td>https://assets.coingecko.com/coins/images/1/la...</td>\n",
       "      <td>26048.000000</td>\n",
       "      <td>506876950473</td>\n",
       "      <td>1</td>\n",
       "      <td>5.469324e+11</td>\n",
       "      <td>1.227529e+10</td>\n",
       "      <td>26248.000000</td>\n",
       "      <td>...</td>\n",
       "      <td>2.100000e+07</td>\n",
       "      <td>2.100000e+07</td>\n",
       "      <td>69045.00</td>\n",
       "      <td>-62.20619</td>\n",
       "      <td>2021-11-10T14:24:11.849Z</td>\n",
       "      <td>67.810000</td>\n",
       "      <td>38382.57036</td>\n",
       "      <td>2013-07-06T00:00:00.000Z</td>\n",
       "      <td>None</td>\n",
       "      <td>2023-08-19T18:17:44.894Z</td>\n",
       "    </tr>\n",
       "    <tr>\n",
       "      <th>1</th>\n",
       "      <td>ethereum</td>\n",
       "      <td>eth</td>\n",
       "      <td>Ethereum</td>\n",
       "      <td>https://assets.coingecko.com/coins/images/279/...</td>\n",
       "      <td>1676.870000</td>\n",
       "      <td>201641322400</td>\n",
       "      <td>2</td>\n",
       "      <td>2.016413e+11</td>\n",
       "      <td>8.936643e+09</td>\n",
       "      <td>1692.840000</td>\n",
       "      <td>...</td>\n",
       "      <td>1.202113e+08</td>\n",
       "      <td>NaN</td>\n",
       "      <td>4878.26</td>\n",
       "      <td>-65.55157</td>\n",
       "      <td>2021-11-10T14:24:19.604Z</td>\n",
       "      <td>0.432979</td>\n",
       "      <td>388021.56253</td>\n",
       "      <td>2015-10-20T00:00:00.000Z</td>\n",
       "      <td>{'times': 85.06871182487073, 'currency': 'btc'...</td>\n",
       "      <td>2023-08-19T18:17:36.434Z</td>\n",
       "    </tr>\n",
       "    <tr>\n",
       "      <th>2</th>\n",
       "      <td>tether</td>\n",
       "      <td>usdt</td>\n",
       "      <td>Tether</td>\n",
       "      <td>https://assets.coingecko.com/coins/images/325/...</td>\n",
       "      <td>0.999586</td>\n",
       "      <td>82820737064</td>\n",
       "      <td>3</td>\n",
       "      <td>8.282074e+10</td>\n",
       "      <td>1.336646e+10</td>\n",
       "      <td>1.002000</td>\n",
       "      <td>...</td>\n",
       "      <td>8.284648e+10</td>\n",
       "      <td>NaN</td>\n",
       "      <td>1.32</td>\n",
       "      <td>-24.43464</td>\n",
       "      <td>2018-07-24T00:00:00.000Z</td>\n",
       "      <td>0.572521</td>\n",
       "      <td>74.63146</td>\n",
       "      <td>2015-03-02T00:00:00.000Z</td>\n",
       "      <td>None</td>\n",
       "      <td>2023-08-19T18:15:00.605Z</td>\n",
       "    </tr>\n",
       "    <tr>\n",
       "      <th>3</th>\n",
       "      <td>binancecoin</td>\n",
       "      <td>bnb</td>\n",
       "      <td>BNB</td>\n",
       "      <td>https://assets.coingecko.com/coins/images/825/...</td>\n",
       "      <td>217.280000</td>\n",
       "      <td>33437400409</td>\n",
       "      <td>4</td>\n",
       "      <td>4.346580e+10</td>\n",
       "      <td>3.846592e+08</td>\n",
       "      <td>219.210000</td>\n",
       "      <td>...</td>\n",
       "      <td>1.538562e+08</td>\n",
       "      <td>2.000000e+08</td>\n",
       "      <td>686.31</td>\n",
       "      <td>-68.28024</td>\n",
       "      <td>2021-05-10T07:24:17.097Z</td>\n",
       "      <td>0.039818</td>\n",
       "      <td>546628.72880</td>\n",
       "      <td>2017-10-19T00:00:00.000Z</td>\n",
       "      <td>None</td>\n",
       "      <td>2023-08-19T18:17:43.783Z</td>\n",
       "    </tr>\n",
       "    <tr>\n",
       "      <th>4</th>\n",
       "      <td>ripple</td>\n",
       "      <td>xrp</td>\n",
       "      <td>XRP</td>\n",
       "      <td>https://assets.coingecko.com/coins/images/44/l...</td>\n",
       "      <td>0.517986</td>\n",
       "      <td>27431611049</td>\n",
       "      <td>5</td>\n",
       "      <td>5.191264e+10</td>\n",
       "      <td>1.005150e+09</td>\n",
       "      <td>0.522982</td>\n",
       "      <td>...</td>\n",
       "      <td>9.998850e+10</td>\n",
       "      <td>1.000000e+11</td>\n",
       "      <td>3.40</td>\n",
       "      <td>-84.70500</td>\n",
       "      <td>2018-01-07T00:00:00.000Z</td>\n",
       "      <td>0.002686</td>\n",
       "      <td>19250.44993</td>\n",
       "      <td>2014-05-22T00:00:00.000Z</td>\n",
       "      <td>None</td>\n",
       "      <td>2023-08-19T18:17:38.932Z</td>\n",
       "    </tr>\n",
       "  </tbody>\n",
       "</table>\n",
       "<p>5 rows × 26 columns</p>\n",
       "</div>"
      ],
      "text/plain": [
       "            id symbol      name  \\\n",
       "0      bitcoin    btc   Bitcoin   \n",
       "1     ethereum    eth  Ethereum   \n",
       "2       tether   usdt    Tether   \n",
       "3  binancecoin    bnb       BNB   \n",
       "4       ripple    xrp       XRP   \n",
       "\n",
       "                                               image  current_price  \\\n",
       "0  https://assets.coingecko.com/coins/images/1/la...   26048.000000   \n",
       "1  https://assets.coingecko.com/coins/images/279/...    1676.870000   \n",
       "2  https://assets.coingecko.com/coins/images/325/...       0.999586   \n",
       "3  https://assets.coingecko.com/coins/images/825/...     217.280000   \n",
       "4  https://assets.coingecko.com/coins/images/44/l...       0.517986   \n",
       "\n",
       "     market_cap  market_cap_rank  fully_diluted_valuation  total_volume  \\\n",
       "0  506876950473                1             5.469324e+11  1.227529e+10   \n",
       "1  201641322400                2             2.016413e+11  8.936643e+09   \n",
       "2   82820737064                3             8.282074e+10  1.336646e+10   \n",
       "3   33437400409                4             4.346580e+10  3.846592e+08   \n",
       "4   27431611049                5             5.191264e+10  1.005150e+09   \n",
       "\n",
       "       high_24h  ...  total_supply    max_supply       ath  \\\n",
       "0  26248.000000  ...  2.100000e+07  2.100000e+07  69045.00   \n",
       "1   1692.840000  ...  1.202113e+08           NaN   4878.26   \n",
       "2      1.002000  ...  8.284648e+10           NaN      1.32   \n",
       "3    219.210000  ...  1.538562e+08  2.000000e+08    686.31   \n",
       "4      0.522982  ...  9.998850e+10  1.000000e+11      3.40   \n",
       "\n",
       "   ath_change_percentage                  ath_date        atl  \\\n",
       "0              -62.20619  2021-11-10T14:24:11.849Z  67.810000   \n",
       "1              -65.55157  2021-11-10T14:24:19.604Z   0.432979   \n",
       "2              -24.43464  2018-07-24T00:00:00.000Z   0.572521   \n",
       "3              -68.28024  2021-05-10T07:24:17.097Z   0.039818   \n",
       "4              -84.70500  2018-01-07T00:00:00.000Z   0.002686   \n",
       "\n",
       "   atl_change_percentage                  atl_date  \\\n",
       "0            38382.57036  2013-07-06T00:00:00.000Z   \n",
       "1           388021.56253  2015-10-20T00:00:00.000Z   \n",
       "2               74.63146  2015-03-02T00:00:00.000Z   \n",
       "3           546628.72880  2017-10-19T00:00:00.000Z   \n",
       "4            19250.44993  2014-05-22T00:00:00.000Z   \n",
       "\n",
       "                                                 roi              last_updated  \n",
       "0                                               None  2023-08-19T18:17:44.894Z  \n",
       "1  {'times': 85.06871182487073, 'currency': 'btc'...  2023-08-19T18:17:36.434Z  \n",
       "2                                               None  2023-08-19T18:15:00.605Z  \n",
       "3                                               None  2023-08-19T18:17:43.783Z  \n",
       "4                                               None  2023-08-19T18:17:38.932Z  \n",
       "\n",
       "[5 rows x 26 columns]"
      ]
     },
     "execution_count": 29,
     "metadata": {},
     "output_type": "execute_result"
    }
   ],
   "source": [
    "pd.DataFrame(data_coins).head()"
   ]
  },
  {
   "cell_type": "markdown",
   "metadata": {},
   "source": [
    "#### Columns Description of `coins/markets` endpoint\n",
    "\n",
    "1. `id`: The unique identifier of the cryptocurrency.\n",
    "2. `symbol`: The symbol or ticker of the cryptocurrency.\n",
    "3. `name`: The name of the cryptocurrency.\n",
    "4. `image`: The URL of an image representing the cryptocurrency.\n",
    "5. `current_price`: The current price of the cryptocurrency.\n",
    "6. `market_cap`: The market capitalization of the cryptocurrency.\n",
    "7. `market_cap_rank`: The ranking of the cryptocurrency based on its market capitalization.\n",
    "8. `fully_diluted_valuation`: The valuation of the cryptocurrency if all coins are in circulation.\n",
    "9. `total_volume`: The total trading volume of the cryptocurrency.\n",
    "10. `high_24h`: The highest price recorded in the last 24 hours.\n",
    "11. `low_24h`: The lowest price recorded in the last 24 hours.\n",
    "12. `price_change_24h`: The price change of the cryptocurrency in the last 24 hours.\n",
    "13. `price_change_percentage_24h`: The percentage price change of the cryptocurrency in the last 24 hours.\n",
    "14. `market_cap_change_24h`: The market capitalization change of the cryptocurrency in the last 24 hours.\n",
    "15. `market_cap_change_percentage_24h`: The percentage market capitalization change of the cryptocurrency in the last 24 hours.\n",
    "16. `circulating_supply`: The amount of cryptocurrency currently in circulation.\n",
    "17. `total_supply`: The total supply of the cryptocurrency.\n",
    "18. `max_supply`: The maximum supply of the cryptocurrency.\n",
    "19. `ath`: The all-time high price of the cryptocurrency.\n",
    "20. `ath_change_percentage`: The percentage change from the all-time high price.\n",
    "21. `ath_date`: The date when the all-time high price was reached.\n",
    "22. `atl`: The all-time low price of the cryptocurrency.\n",
    "23. `atl_change_percentage`: The percentage change from the all-time low price.\n",
    "24. `atl_date`: The date when the all-time low price was reached.\n",
    "25. `roi`: Return on investment data for the cryptocurrency.\n",
    "26. `last_updated`: The timestamp of when the data was last updated.\n",
    "\n",
    "\n",
    "The search and chose of coins it will be kind of tricky and drainfull.\n",
    "\n",
    "So in order to perform testing I will google some coin in order to search in an \"old\" crypto coin\n",
    "\n",
    "\"tether\" is a good choice\n"
   ]
  },
  {
   "cell_type": "markdown",
   "metadata": {},
   "source": [
    "### Getting years ranges"
   ]
  },
  {
   "cell_type": "code",
   "execution_count": 30,
   "metadata": {},
   "outputs": [
    {
     "name": "stdout",
     "output_type": "stream",
     "text": [
      "Year 2018: First Day UNIX Timestamp: 1514786400, Last Day UNIX Timestamp: 1546322399\n",
      "Year 2019: First Day UNIX Timestamp: 1546322400, Last Day UNIX Timestamp: 1577858399\n",
      "Year 2020: First Day UNIX Timestamp: 1577858400, Last Day UNIX Timestamp: 1609480799\n",
      "Year 2021: First Day UNIX Timestamp: 1609480800, Last Day UNIX Timestamp: 1641016799\n",
      "Year 2022: First Day UNIX Timestamp: 1641016800, Last Day UNIX Timestamp: 1672552799\n",
      "Year 2023: First Day UNIX Timestamp: 1672552800, Last Day UNIX Timestamp: 1692469067\n"
     ]
    }
   ],
   "source": [
    "import time\n",
    "from datetime import datetime\n",
    "\n",
    "current_year = datetime.now().year\n",
    "start_year = 2018\n",
    "\n",
    "years_ranges = []\n",
    "\n",
    "for year in range(start_year, current_year + 1):\n",
    "    first_day = datetime(year, 1, 1)\n",
    "    last_day = datetime.now() if year == current_year else datetime(year, 12, 31, 23, 59, 59)\n",
    "    \n",
    "    first_day_unix = int(time.mktime(first_day.timetuple()))\n",
    "    last_day_unix = int(time.mktime(last_day.timetuple()))\n",
    "\n",
    "    years_ranges.append((first_day_unix, last_day_unix))\n",
    "    \n",
    "    print(f\"Year {year}: First Day UNIX Timestamp: {first_day_unix}, Last Day UNIX Timestamp: {last_day_unix}\")\n",
    "\n"
   ]
  },
  {
   "cell_type": "code",
   "execution_count": 31,
   "metadata": {},
   "outputs": [
    {
     "data": {
      "text/plain": [
       "[(1514786400, 1546322399),\n",
       " (1546322400, 1577858399),\n",
       " (1577858400, 1609480799),\n",
       " (1609480800, 1641016799),\n",
       " (1641016800, 1672552799),\n",
       " (1672552800, 1692469067)]"
      ]
     },
     "execution_count": 31,
     "metadata": {},
     "output_type": "execute_result"
    }
   ],
   "source": [
    "years_ranges"
   ]
  },
  {
   "cell_type": "code",
   "execution_count": 32,
   "metadata": {},
   "outputs": [
    {
     "data": {
      "text/plain": [
       "(Timestamp('2022-01-01 06:00:00'), Timestamp('2022-01-01 05:59:59'))"
      ]
     },
     "execution_count": 32,
     "metadata": {},
     "output_type": "execute_result"
    }
   ],
   "source": [
    "pd.to_datetime(1641016800, unit=\"s\"), pd.to_datetime(1641016799, unit=\"s\") "
   ]
  },
  {
   "cell_type": "code",
   "execution_count": 33,
   "metadata": {},
   "outputs": [
    {
     "data": {
      "text/plain": [
       "(1641016800, 1672552799)"
      ]
     },
     "execution_count": 33,
     "metadata": {},
     "output_type": "execute_result"
    }
   ],
   "source": [
    "years_ranges[4]"
   ]
  },
  {
   "cell_type": "code",
   "execution_count": 34,
   "metadata": {},
   "outputs": [
    {
     "data": {
      "text/html": [
       "<div>\n",
       "<style scoped>\n",
       "    .dataframe tbody tr th:only-of-type {\n",
       "        vertical-align: middle;\n",
       "    }\n",
       "\n",
       "    .dataframe tbody tr th {\n",
       "        vertical-align: top;\n",
       "    }\n",
       "\n",
       "    .dataframe thead th {\n",
       "        text-align: right;\n",
       "    }\n",
       "</style>\n",
       "<table border=\"1\" class=\"dataframe\">\n",
       "  <thead>\n",
       "    <tr style=\"text-align: right;\">\n",
       "      <th></th>\n",
       "      <th>prices</th>\n",
       "      <th>market_caps</th>\n",
       "      <th>total_volumes</th>\n",
       "    </tr>\n",
       "  </thead>\n",
       "  <tbody>\n",
       "    <tr>\n",
       "      <th>0</th>\n",
       "      <td>[1514851200000, 1.00392]</td>\n",
       "      <td>[1514851200000, 1373452749.16104]</td>\n",
       "      <td>[1514851200000, 2632020000.0]</td>\n",
       "    </tr>\n",
       "    <tr>\n",
       "      <th>1</th>\n",
       "      <td>[1514937600000, 1.01578]</td>\n",
       "      <td>[1514937600000, 1389678294.62786]</td>\n",
       "      <td>[1514937600000, 2461680000.0]</td>\n",
       "    </tr>\n",
       "    <tr>\n",
       "      <th>2</th>\n",
       "      <td>[1515024000000, 1.00274]</td>\n",
       "      <td>[1515024000000, 1472112403.15338]</td>\n",
       "      <td>[1515024000000, 3203460000.0]</td>\n",
       "    </tr>\n",
       "    <tr>\n",
       "      <th>3</th>\n",
       "      <td>[1515110400000, 0.999695]</td>\n",
       "      <td>[1515110400000, 1467642069.599715]</td>\n",
       "      <td>[1515110400000, 3096040000.0]</td>\n",
       "    </tr>\n",
       "    <tr>\n",
       "      <th>4</th>\n",
       "      <td>[1515196800000, 1.00853]</td>\n",
       "      <td>[1515196800000, 1480612643.30961]</td>\n",
       "      <td>[1515196800000, 2622980000.0]</td>\n",
       "    </tr>\n",
       "    <tr>\n",
       "      <th>...</th>\n",
       "      <td>...</td>\n",
       "      <td>...</td>\n",
       "      <td>...</td>\n",
       "    </tr>\n",
       "    <tr>\n",
       "      <th>360</th>\n",
       "      <td>[1545955200000, 0.9960712758722144]</td>\n",
       "      <td>[1545955200000, 2056263837.5365794]</td>\n",
       "      <td>[1545955200000, 119495547.69858119]</td>\n",
       "    </tr>\n",
       "    <tr>\n",
       "      <th>361</th>\n",
       "      <td>[1546041600000, 1.0035451583660302]</td>\n",
       "      <td>[1546041600000, 2064938691.1037617]</td>\n",
       "      <td>[1546041600000, 134285162.42261878]</td>\n",
       "    </tr>\n",
       "    <tr>\n",
       "      <th>362</th>\n",
       "      <td>[1546128000000, 0.9940035724621251]</td>\n",
       "      <td>[1546128000000, 2048421031.6895096]</td>\n",
       "      <td>[1546128000000, 73987954.84032907]</td>\n",
       "    </tr>\n",
       "    <tr>\n",
       "      <th>363</th>\n",
       "      <td>[1546214400000, 1.0060620406920209]</td>\n",
       "      <td>[1546214400000, 2071214917.0616748]</td>\n",
       "      <td>[1546214400000, 88135480.17617014]</td>\n",
       "    </tr>\n",
       "    <tr>\n",
       "      <th>364</th>\n",
       "      <td>[1546300800000, 1.0040016343064047]</td>\n",
       "      <td>[1546300800000, 2064549306.778545]</td>\n",
       "      <td>[1546300800000, 107660509.90219206]</td>\n",
       "    </tr>\n",
       "  </tbody>\n",
       "</table>\n",
       "<p>365 rows × 3 columns</p>\n",
       "</div>"
      ],
      "text/plain": [
       "                                  prices                          market_caps  \\\n",
       "0               [1514851200000, 1.00392]    [1514851200000, 1373452749.16104]   \n",
       "1               [1514937600000, 1.01578]    [1514937600000, 1389678294.62786]   \n",
       "2               [1515024000000, 1.00274]    [1515024000000, 1472112403.15338]   \n",
       "3              [1515110400000, 0.999695]   [1515110400000, 1467642069.599715]   \n",
       "4               [1515196800000, 1.00853]    [1515196800000, 1480612643.30961]   \n",
       "..                                   ...                                  ...   \n",
       "360  [1545955200000, 0.9960712758722144]  [1545955200000, 2056263837.5365794]   \n",
       "361  [1546041600000, 1.0035451583660302]  [1546041600000, 2064938691.1037617]   \n",
       "362  [1546128000000, 0.9940035724621251]  [1546128000000, 2048421031.6895096]   \n",
       "363  [1546214400000, 1.0060620406920209]  [1546214400000, 2071214917.0616748]   \n",
       "364  [1546300800000, 1.0040016343064047]   [1546300800000, 2064549306.778545]   \n",
       "\n",
       "                           total_volumes  \n",
       "0          [1514851200000, 2632020000.0]  \n",
       "1          [1514937600000, 2461680000.0]  \n",
       "2          [1515024000000, 3203460000.0]  \n",
       "3          [1515110400000, 3096040000.0]  \n",
       "4          [1515196800000, 2622980000.0]  \n",
       "..                                   ...  \n",
       "360  [1545955200000, 119495547.69858119]  \n",
       "361  [1546041600000, 134285162.42261878]  \n",
       "362   [1546128000000, 73987954.84032907]  \n",
       "363   [1546214400000, 88135480.17617014]  \n",
       "364  [1546300800000, 107660509.90219206]  \n",
       "\n",
       "[365 rows x 3 columns]"
      ]
     },
     "execution_count": 34,
     "metadata": {},
     "output_type": "execute_result"
    }
   ],
   "source": [
    "# Trying out the range end point\n",
    "# From list of years, grabbing manually each tuple and pass them into the arguments of the parameters dictionary will allow to check data thrown from the end point\n",
    "\n",
    "coin_id = \"tether\"\n",
    "\n",
    "market_chart_coin_range = f\"coins/{coin_id}/market_chart/range\"\n",
    "\n",
    "market_chart_coin_range_parameters = {\n",
    "    \"vs_currency\": \"usd\",\n",
    "    \"from\": str(years_ranges[0][0]),\n",
    "    \"to\": str(years_ranges[0][1])\n",
    "}\n",
    "\n",
    "pd.DataFrame(requests.get(coingecko + market_chart_coin_range, params=market_chart_coin_range_parameters).json()) # -> ok.. only data thrown since 2022 for ape coin."
   ]
  },
  {
   "cell_type": "markdown",
   "metadata": {},
   "source": [
    "The above code would be good to be encapsulate into a function in order to request by year range"
   ]
  },
  {
   "cell_type": "code",
   "execution_count": 35,
   "metadata": {},
   "outputs": [],
   "source": [
    "def df_from_market_chart_range(coin_id:str, from_year:int, to_year:int):\n",
    "\n",
    "    market_chart_coin_range = f\"coins/{coin_id}/market_chart/range\"\n",
    "\n",
    "    market_chart_coin_range_parameters = {\n",
    "        \"vs_currency\": \"usd\",\n",
    "        \"from\": str(from_year),\n",
    "        \"to\": str(to_year)\n",
    "    }\n",
    "\n",
    "    return pd.DataFrame(requests.get(coingecko + market_chart_coin_range, params=market_chart_coin_range_parameters).json())"
   ]
  },
  {
   "cell_type": "code",
   "execution_count": 36,
   "metadata": {},
   "outputs": [],
   "source": [
    "data_frames = []\n",
    "\n",
    "for year_range in years_ranges:\n",
    "\n",
    "    data_frames.append(df_from_market_chart_range(coin_id=\"tether\", from_year=year_range[0], to_year=year_range[1]))\n",
    "\n",
    "coin_market_chart = pd.concat(data_frames, axis=0, ignore_index=True)"
   ]
  },
  {
   "cell_type": "code",
   "execution_count": 37,
   "metadata": {},
   "outputs": [
    {
     "data": {
      "text/plain": [
       "(Timestamp('2018-01-02 00:00:00'), Timestamp('2023-08-19 00:00:00'))"
      ]
     },
     "execution_count": 37,
     "metadata": {},
     "output_type": "execute_result"
    }
   ],
   "source": [
    "pd.to_datetime(coin_market_chart[\"prices\"].apply(lambda prices: prices[0]), unit=\"ms\").min(), pd.to_datetime(coin_market_chart[\"prices\"].apply(lambda prices: prices[0]), unit=\"ms\").max()"
   ]
  },
  {
   "cell_type": "code",
   "execution_count": 38,
   "metadata": {},
   "outputs": [],
   "source": [
    "def year_paging(coin_id:str, years_ranges_list:list):\n",
    "\n",
    "    data_frames = []\n",
    "\n",
    "    for year_range in years_ranges_list:\n",
    "\n",
    "        data_frames.append(df_from_market_chart_range(coin_id=coin_id, from_year=year_range[0], to_year=year_range[1]))\n",
    "\n",
    "    return pd.concat(data_frames, axis=0, ignore_index=True)"
   ]
  },
  {
   "cell_type": "code",
   "execution_count": null,
   "metadata": {},
   "outputs": [],
   "source": []
  },
  {
   "cell_type": "markdown",
   "metadata": {},
   "source": [
    "Awesome! Finally a dataframe is gotten"
   ]
  },
  {
   "cell_type": "code",
   "execution_count": 39,
   "metadata": {},
   "outputs": [
    {
     "data": {
      "text/html": [
       "<div>\n",
       "<style scoped>\n",
       "    .dataframe tbody tr th:only-of-type {\n",
       "        vertical-align: middle;\n",
       "    }\n",
       "\n",
       "    .dataframe tbody tr th {\n",
       "        vertical-align: top;\n",
       "    }\n",
       "\n",
       "    .dataframe thead th {\n",
       "        text-align: right;\n",
       "    }\n",
       "</style>\n",
       "<table border=\"1\" class=\"dataframe\">\n",
       "  <thead>\n",
       "    <tr style=\"text-align: right;\">\n",
       "      <th></th>\n",
       "      <th>prices</th>\n",
       "      <th>market_caps</th>\n",
       "      <th>total_volumes</th>\n",
       "    </tr>\n",
       "  </thead>\n",
       "  <tbody>\n",
       "    <tr>\n",
       "      <th>0</th>\n",
       "      <td>[1514851200000, 1.00392]</td>\n",
       "      <td>[1514851200000, 1373452749.16104]</td>\n",
       "      <td>[1514851200000, 2632020000.0]</td>\n",
       "    </tr>\n",
       "    <tr>\n",
       "      <th>1</th>\n",
       "      <td>[1514937600000, 1.01578]</td>\n",
       "      <td>[1514937600000, 1389678294.62786]</td>\n",
       "      <td>[1514937600000, 2461680000.0]</td>\n",
       "    </tr>\n",
       "    <tr>\n",
       "      <th>2</th>\n",
       "      <td>[1515024000000, 1.00274]</td>\n",
       "      <td>[1515024000000, 1472112403.15338]</td>\n",
       "      <td>[1515024000000, 3203460000.0]</td>\n",
       "    </tr>\n",
       "    <tr>\n",
       "      <th>3</th>\n",
       "      <td>[1515110400000, 0.999695]</td>\n",
       "      <td>[1515110400000, 1467642069.599715]</td>\n",
       "      <td>[1515110400000, 3096040000.0]</td>\n",
       "    </tr>\n",
       "    <tr>\n",
       "      <th>4</th>\n",
       "      <td>[1515196800000, 1.00853]</td>\n",
       "      <td>[1515196800000, 1480612643.30961]</td>\n",
       "      <td>[1515196800000, 2622980000.0]</td>\n",
       "    </tr>\n",
       "    <tr>\n",
       "      <th>...</th>\n",
       "      <td>...</td>\n",
       "      <td>...</td>\n",
       "      <td>...</td>\n",
       "    </tr>\n",
       "    <tr>\n",
       "      <th>2050</th>\n",
       "      <td>[1692057600000, 0.998712649259746]</td>\n",
       "      <td>[1692057600000, 83323482665.83325]</td>\n",
       "      <td>[1692057600000, 12792365654.7868]</td>\n",
       "    </tr>\n",
       "    <tr>\n",
       "      <th>2051</th>\n",
       "      <td>[1692144000000, 0.9988934302939576]</td>\n",
       "      <td>[1692144000000, 83089141821.30199]</td>\n",
       "      <td>[1692144000000, 18746693270.259033]</td>\n",
       "    </tr>\n",
       "    <tr>\n",
       "      <th>2052</th>\n",
       "      <td>[1692230400000, 0.9997501195088656]</td>\n",
       "      <td>[1692230400000, 83061154615.96309]</td>\n",
       "      <td>[1692230400000, 23160234770.298016]</td>\n",
       "    </tr>\n",
       "    <tr>\n",
       "      <th>2053</th>\n",
       "      <td>[1692316800000, 0.9961744307155989]</td>\n",
       "      <td>[1692316800000, 82404783281.48492]</td>\n",
       "      <td>[1692316800000, 39019292538.43321]</td>\n",
       "    </tr>\n",
       "    <tr>\n",
       "      <th>2054</th>\n",
       "      <td>[1692403200000, 0.999380820968805]</td>\n",
       "      <td>[1692403200000, 82846348503.31053]</td>\n",
       "      <td>[1692403200000, 28473299901.716236]</td>\n",
       "    </tr>\n",
       "  </tbody>\n",
       "</table>\n",
       "<p>2055 rows × 3 columns</p>\n",
       "</div>"
      ],
      "text/plain": [
       "                                   prices                         market_caps  \\\n",
       "0                [1514851200000, 1.00392]   [1514851200000, 1373452749.16104]   \n",
       "1                [1514937600000, 1.01578]   [1514937600000, 1389678294.62786]   \n",
       "2                [1515024000000, 1.00274]   [1515024000000, 1472112403.15338]   \n",
       "3               [1515110400000, 0.999695]  [1515110400000, 1467642069.599715]   \n",
       "4                [1515196800000, 1.00853]   [1515196800000, 1480612643.30961]   \n",
       "...                                   ...                                 ...   \n",
       "2050   [1692057600000, 0.998712649259746]  [1692057600000, 83323482665.83325]   \n",
       "2051  [1692144000000, 0.9988934302939576]  [1692144000000, 83089141821.30199]   \n",
       "2052  [1692230400000, 0.9997501195088656]  [1692230400000, 83061154615.96309]   \n",
       "2053  [1692316800000, 0.9961744307155989]  [1692316800000, 82404783281.48492]   \n",
       "2054   [1692403200000, 0.999380820968805]  [1692403200000, 82846348503.31053]   \n",
       "\n",
       "                            total_volumes  \n",
       "0           [1514851200000, 2632020000.0]  \n",
       "1           [1514937600000, 2461680000.0]  \n",
       "2           [1515024000000, 3203460000.0]  \n",
       "3           [1515110400000, 3096040000.0]  \n",
       "4           [1515196800000, 2622980000.0]  \n",
       "...                                   ...  \n",
       "2050    [1692057600000, 12792365654.7868]  \n",
       "2051  [1692144000000, 18746693270.259033]  \n",
       "2052  [1692230400000, 23160234770.298016]  \n",
       "2053   [1692316800000, 39019292538.43321]  \n",
       "2054  [1692403200000, 28473299901.716236]  \n",
       "\n",
       "[2055 rows x 3 columns]"
      ]
     },
     "execution_count": 39,
     "metadata": {},
     "output_type": "execute_result"
    }
   ],
   "source": [
    "coin_market_chart"
   ]
  },
  {
   "cell_type": "code",
   "execution_count": 40,
   "metadata": {},
   "outputs": [],
   "source": [
    "coin_market_chart[\"dates\"] = pd.to_datetime(coin_market_chart[\"prices\"].apply(lambda price: price[0]), unit=\"ms\")"
   ]
  },
  {
   "cell_type": "code",
   "execution_count": 41,
   "metadata": {},
   "outputs": [],
   "source": [
    "coin_market_chart[\"prices\"] = coin_market_chart[\"prices\"].apply(lambda price: price[1])\n",
    "coin_market_chart[\"market_caps\"] = coin_market_chart[\"market_caps\"].apply(lambda market: market[1])\n",
    "coin_market_chart[\"total_volumes\"] = coin_market_chart[\"total_volumes\"].apply(lambda vol: vol[1])"
   ]
  },
  {
   "cell_type": "code",
   "execution_count": 42,
   "metadata": {},
   "outputs": [
    {
     "data": {
      "text/html": [
       "<div>\n",
       "<style scoped>\n",
       "    .dataframe tbody tr th:only-of-type {\n",
       "        vertical-align: middle;\n",
       "    }\n",
       "\n",
       "    .dataframe tbody tr th {\n",
       "        vertical-align: top;\n",
       "    }\n",
       "\n",
       "    .dataframe thead th {\n",
       "        text-align: right;\n",
       "    }\n",
       "</style>\n",
       "<table border=\"1\" class=\"dataframe\">\n",
       "  <thead>\n",
       "    <tr style=\"text-align: right;\">\n",
       "      <th></th>\n",
       "      <th>prices</th>\n",
       "      <th>market_caps</th>\n",
       "      <th>total_volumes</th>\n",
       "      <th>dates</th>\n",
       "    </tr>\n",
       "  </thead>\n",
       "  <tbody>\n",
       "    <tr>\n",
       "      <th>0</th>\n",
       "      <td>1.003920</td>\n",
       "      <td>1.373453e+09</td>\n",
       "      <td>2.632020e+09</td>\n",
       "      <td>2018-01-02</td>\n",
       "    </tr>\n",
       "    <tr>\n",
       "      <th>1</th>\n",
       "      <td>1.015780</td>\n",
       "      <td>1.389678e+09</td>\n",
       "      <td>2.461680e+09</td>\n",
       "      <td>2018-01-03</td>\n",
       "    </tr>\n",
       "    <tr>\n",
       "      <th>2</th>\n",
       "      <td>1.002740</td>\n",
       "      <td>1.472112e+09</td>\n",
       "      <td>3.203460e+09</td>\n",
       "      <td>2018-01-04</td>\n",
       "    </tr>\n",
       "    <tr>\n",
       "      <th>3</th>\n",
       "      <td>0.999695</td>\n",
       "      <td>1.467642e+09</td>\n",
       "      <td>3.096040e+09</td>\n",
       "      <td>2018-01-05</td>\n",
       "    </tr>\n",
       "    <tr>\n",
       "      <th>4</th>\n",
       "      <td>1.008530</td>\n",
       "      <td>1.480613e+09</td>\n",
       "      <td>2.622980e+09</td>\n",
       "      <td>2018-01-06</td>\n",
       "    </tr>\n",
       "    <tr>\n",
       "      <th>...</th>\n",
       "      <td>...</td>\n",
       "      <td>...</td>\n",
       "      <td>...</td>\n",
       "      <td>...</td>\n",
       "    </tr>\n",
       "    <tr>\n",
       "      <th>2050</th>\n",
       "      <td>0.998713</td>\n",
       "      <td>8.332348e+10</td>\n",
       "      <td>1.279237e+10</td>\n",
       "      <td>2023-08-15</td>\n",
       "    </tr>\n",
       "    <tr>\n",
       "      <th>2051</th>\n",
       "      <td>0.998893</td>\n",
       "      <td>8.308914e+10</td>\n",
       "      <td>1.874669e+10</td>\n",
       "      <td>2023-08-16</td>\n",
       "    </tr>\n",
       "    <tr>\n",
       "      <th>2052</th>\n",
       "      <td>0.999750</td>\n",
       "      <td>8.306115e+10</td>\n",
       "      <td>2.316023e+10</td>\n",
       "      <td>2023-08-17</td>\n",
       "    </tr>\n",
       "    <tr>\n",
       "      <th>2053</th>\n",
       "      <td>0.996174</td>\n",
       "      <td>8.240478e+10</td>\n",
       "      <td>3.901929e+10</td>\n",
       "      <td>2023-08-18</td>\n",
       "    </tr>\n",
       "    <tr>\n",
       "      <th>2054</th>\n",
       "      <td>0.999381</td>\n",
       "      <td>8.284635e+10</td>\n",
       "      <td>2.847330e+10</td>\n",
       "      <td>2023-08-19</td>\n",
       "    </tr>\n",
       "  </tbody>\n",
       "</table>\n",
       "<p>2055 rows × 4 columns</p>\n",
       "</div>"
      ],
      "text/plain": [
       "        prices   market_caps  total_volumes      dates\n",
       "0     1.003920  1.373453e+09   2.632020e+09 2018-01-02\n",
       "1     1.015780  1.389678e+09   2.461680e+09 2018-01-03\n",
       "2     1.002740  1.472112e+09   3.203460e+09 2018-01-04\n",
       "3     0.999695  1.467642e+09   3.096040e+09 2018-01-05\n",
       "4     1.008530  1.480613e+09   2.622980e+09 2018-01-06\n",
       "...        ...           ...            ...        ...\n",
       "2050  0.998713  8.332348e+10   1.279237e+10 2023-08-15\n",
       "2051  0.998893  8.308914e+10   1.874669e+10 2023-08-16\n",
       "2052  0.999750  8.306115e+10   2.316023e+10 2023-08-17\n",
       "2053  0.996174  8.240478e+10   3.901929e+10 2023-08-18\n",
       "2054  0.999381  8.284635e+10   2.847330e+10 2023-08-19\n",
       "\n",
       "[2055 rows x 4 columns]"
      ]
     },
     "execution_count": 42,
     "metadata": {},
     "output_type": "execute_result"
    }
   ],
   "source": [
    "coin_market_chart"
   ]
  },
  {
   "cell_type": "code",
   "execution_count": 43,
   "metadata": {},
   "outputs": [],
   "source": [
    "coin_market_chart.set_index(\"dates\", drop=True, inplace=True)"
   ]
  },
  {
   "cell_type": "code",
   "execution_count": 44,
   "metadata": {},
   "outputs": [
    {
     "data": {
      "text/html": [
       "<div>\n",
       "<style scoped>\n",
       "    .dataframe tbody tr th:only-of-type {\n",
       "        vertical-align: middle;\n",
       "    }\n",
       "\n",
       "    .dataframe tbody tr th {\n",
       "        vertical-align: top;\n",
       "    }\n",
       "\n",
       "    .dataframe thead th {\n",
       "        text-align: right;\n",
       "    }\n",
       "</style>\n",
       "<table border=\"1\" class=\"dataframe\">\n",
       "  <thead>\n",
       "    <tr style=\"text-align: right;\">\n",
       "      <th></th>\n",
       "      <th>prices</th>\n",
       "      <th>market_caps</th>\n",
       "      <th>total_volumes</th>\n",
       "    </tr>\n",
       "    <tr>\n",
       "      <th>dates</th>\n",
       "      <th></th>\n",
       "      <th></th>\n",
       "      <th></th>\n",
       "    </tr>\n",
       "  </thead>\n",
       "  <tbody>\n",
       "    <tr>\n",
       "      <th>2018-01-02</th>\n",
       "      <td>1.003920</td>\n",
       "      <td>1.373453e+09</td>\n",
       "      <td>2.632020e+09</td>\n",
       "    </tr>\n",
       "    <tr>\n",
       "      <th>2018-01-03</th>\n",
       "      <td>1.015780</td>\n",
       "      <td>1.389678e+09</td>\n",
       "      <td>2.461680e+09</td>\n",
       "    </tr>\n",
       "    <tr>\n",
       "      <th>2018-01-04</th>\n",
       "      <td>1.002740</td>\n",
       "      <td>1.472112e+09</td>\n",
       "      <td>3.203460e+09</td>\n",
       "    </tr>\n",
       "    <tr>\n",
       "      <th>2018-01-05</th>\n",
       "      <td>0.999695</td>\n",
       "      <td>1.467642e+09</td>\n",
       "      <td>3.096040e+09</td>\n",
       "    </tr>\n",
       "    <tr>\n",
       "      <th>2018-01-06</th>\n",
       "      <td>1.008530</td>\n",
       "      <td>1.480613e+09</td>\n",
       "      <td>2.622980e+09</td>\n",
       "    </tr>\n",
       "    <tr>\n",
       "      <th>...</th>\n",
       "      <td>...</td>\n",
       "      <td>...</td>\n",
       "      <td>...</td>\n",
       "    </tr>\n",
       "    <tr>\n",
       "      <th>2023-08-15</th>\n",
       "      <td>0.998713</td>\n",
       "      <td>8.332348e+10</td>\n",
       "      <td>1.279237e+10</td>\n",
       "    </tr>\n",
       "    <tr>\n",
       "      <th>2023-08-16</th>\n",
       "      <td>0.998893</td>\n",
       "      <td>8.308914e+10</td>\n",
       "      <td>1.874669e+10</td>\n",
       "    </tr>\n",
       "    <tr>\n",
       "      <th>2023-08-17</th>\n",
       "      <td>0.999750</td>\n",
       "      <td>8.306115e+10</td>\n",
       "      <td>2.316023e+10</td>\n",
       "    </tr>\n",
       "    <tr>\n",
       "      <th>2023-08-18</th>\n",
       "      <td>0.996174</td>\n",
       "      <td>8.240478e+10</td>\n",
       "      <td>3.901929e+10</td>\n",
       "    </tr>\n",
       "    <tr>\n",
       "      <th>2023-08-19</th>\n",
       "      <td>0.999381</td>\n",
       "      <td>8.284635e+10</td>\n",
       "      <td>2.847330e+10</td>\n",
       "    </tr>\n",
       "  </tbody>\n",
       "</table>\n",
       "<p>2055 rows × 3 columns</p>\n",
       "</div>"
      ],
      "text/plain": [
       "              prices   market_caps  total_volumes\n",
       "dates                                            \n",
       "2018-01-02  1.003920  1.373453e+09   2.632020e+09\n",
       "2018-01-03  1.015780  1.389678e+09   2.461680e+09\n",
       "2018-01-04  1.002740  1.472112e+09   3.203460e+09\n",
       "2018-01-05  0.999695  1.467642e+09   3.096040e+09\n",
       "2018-01-06  1.008530  1.480613e+09   2.622980e+09\n",
       "...              ...           ...            ...\n",
       "2023-08-15  0.998713  8.332348e+10   1.279237e+10\n",
       "2023-08-16  0.998893  8.308914e+10   1.874669e+10\n",
       "2023-08-17  0.999750  8.306115e+10   2.316023e+10\n",
       "2023-08-18  0.996174  8.240478e+10   3.901929e+10\n",
       "2023-08-19  0.999381  8.284635e+10   2.847330e+10\n",
       "\n",
       "[2055 rows x 3 columns]"
      ]
     },
     "execution_count": 44,
     "metadata": {},
     "output_type": "execute_result"
    }
   ],
   "source": [
    "coin_market_chart"
   ]
  },
  {
   "cell_type": "code",
   "execution_count": 45,
   "metadata": {},
   "outputs": [
    {
     "data": {
      "image/png": "[encoded data removed]",
      "text/plain": [
       "<Figure size 1000x600 with 1 Axes>"
      ]
     },
     "metadata": {},
     "output_type": "display_data"
    }
   ],
   "source": [
    "\n",
    "\n",
    "plt.figure(figsize=(10, 6), )\n",
    "plt.plot(coin_market_chart.index, coin_market_chart[\"prices\"], label=\"Prices\")\n",
    "# plt.plot(market_chart_coin_df.index, market_chart_coin_df[\"market_caps\"], label=\"Market Caps\")\n",
    "# plt.plot(market_chart_coin_df.index, market_chart_coin_df[\"total_volumes\"], label=\"Total Volumes\")\n",
    "\n",
    "plt.xlabel('Date')\n",
    "plt.ylabel('Price')\n",
    "plt.title('Time Series Plot')\n",
    "plt.legend()\n",
    "plt.show()\n",
    "\n"
   ]
  },
  {
   "cell_type": "code",
   "execution_count": 46,
   "metadata": {},
   "outputs": [
    {
     "data": {
      "image/png": "[encoded data removed]",
      "text/plain": [
       "<Figure size 1000x600 with 1 Axes>"
      ]
     },
     "metadata": {},
     "output_type": "display_data"
    }
   ],
   "source": [
    "plt.figure(figsize=(10, 6))\n",
    "#plt.plot(market_chart_coin_df.index, market_chart_coin_df[\"prices\"], label=\"Prices\")\n",
    "plt.plot(coin_market_chart.index, coin_market_chart[\"market_caps\"], label=\"Market Caps\")\n",
    "plt.plot(coin_market_chart.index, coin_market_chart[\"total_volumes\"], label=\"Total Volumes\")\n",
    "\n",
    "plt.xlabel('Date')\n",
    "plt.ylabel('Values')\n",
    "plt.title('Time Series Plot')\n",
    "plt.legend()\n",
    "plt.show()"
   ]
  },
  {
   "cell_type": "markdown",
   "metadata": {},
   "source": [
    "#### Getting more coins\n",
    "\n",
    "The above code was for testing a the pipeline for a single coin. Now let's find more coins with data since 2018 by the usage of `df_from_market_chart_range()` function and the response of data_coins from the endpoint `coins_makerts`"
   ]
  },
  {
   "cell_type": "code",
   "execution_count": 47,
   "metadata": {},
   "outputs": [],
   "source": [
    "coins_in_market = pd.DataFrame(data_coins)[\"id\"].tolist()"
   ]
  },
  {
   "cell_type": "code",
   "execution_count": 54,
   "metadata": {},
   "outputs": [
    {
     "data": {
      "text/plain": [
       "['bitcoin',\n",
       " 'ethereum',\n",
       " 'tether',\n",
       " 'binancecoin',\n",
       " 'ripple',\n",
       " 'usd-coin',\n",
       " 'staked-ether',\n",
       " 'cardano',\n",
       " 'dogecoin',\n",
       " 'solana',\n",
       " 'tron',\n",
       " 'polkadot',\n",
       " 'matic-network',\n",
       " 'shiba-inu',\n",
       " 'litecoin',\n",
       " 'the-open-network',\n",
       " 'wrapped-bitcoin',\n",
       " 'dai',\n",
       " 'uniswap',\n",
       " 'avalanche-2',\n",
       " 'bitcoin-cash',\n",
       " 'leo-token',\n",
       " 'stellar',\n",
       " 'chainlink',\n",
       " 'binance-usd',\n",
       " 'true-usd',\n",
       " 'monero',\n",
       " 'okb',\n",
       " 'cosmos',\n",
       " 'ethereum-classic',\n",
       " 'hedera-hashgraph',\n",
       " 'filecoin',\n",
       " 'internet-computer',\n",
       " 'quant-network',\n",
       " 'lido-dao',\n",
       " 'mantle',\n",
       " 'crypto-com-chain',\n",
       " 'aptos',\n",
       " 'arbitrum',\n",
       " 'vechain',\n",
       " 'near',\n",
       " 'optimism',\n",
       " 'maker',\n",
       " 'rocket-pool-eth',\n",
       " 'the-graph',\n",
       " 'kaspa',\n",
       " 'aave',\n",
       " 'frax',\n",
       " 'whitebit',\n",
       " 'xdce-crowd-sale',\n",
       " 'algorand',\n",
       " 'usdd',\n",
       " 'havven',\n",
       " 'elrond-erd-2',\n",
       " 'immutable-x',\n",
       " 'the-sandbox',\n",
       " 'blockstack',\n",
       " 'tezos',\n",
       " 'injective-protocol',\n",
       " 'axie-infinity',\n",
       " 'eos',\n",
       " 'theta-token',\n",
       " 'flex-coin',\n",
       " 'bitget-token',\n",
       " 'apecoin',\n",
       " 'bitcoin-cash-sv',\n",
       " 'fantom',\n",
       " 'radix',\n",
       " 'decentraland',\n",
       " 'gatechain-token',\n",
       " 'render-token',\n",
       " 'thorchain',\n",
       " 'gala',\n",
       " 'paxos-standard',\n",
       " 'rollbit-coin',\n",
       " 'neo',\n",
       " 'kava',\n",
       " 'rocket-pool',\n",
       " 'flow',\n",
       " 'compound-ether',\n",
       " 'pepe',\n",
       " 'ecash',\n",
       " 'kucoin-shares',\n",
       " 'pax-gold',\n",
       " 'tether-gold',\n",
       " 'frax-share',\n",
       " 'klay-token',\n",
       " 'chiliz',\n",
       " 'curve-dao-token',\n",
       " 'frax-ether',\n",
       " 'iota',\n",
       " 'casper-network',\n",
       " 'bittorrent',\n",
       " 'tokenize-xchange',\n",
       " 'mina-protocol',\n",
       " 'terra-luna',\n",
       " 'sui',\n",
       " 'huobi-token',\n",
       " 'trust-wallet-token',\n",
       " 'gemini-dollar']"
      ]
     },
     "execution_count": 54,
     "metadata": {},
     "output_type": "execute_result"
    }
   ],
   "source": [
    "coins_in_market"
   ]
  },
  {
   "cell_type": "code",
   "execution_count": 58,
   "metadata": {},
   "outputs": [
    {
     "name": "stdout",
     "output_type": "stream",
     "text": [
      "99\r"
     ]
    }
   ],
   "source": [
    "import time\n",
    "\n",
    "coin_choices = []\n",
    "\n",
    "request_counter = 0\n",
    "\n",
    "step = 0\n",
    "\n",
    "for coin in coins_in_market[:50]:\n",
    "\n",
    "    print(step, end=\"\\r\")\n",
    "    step += 1\n",
    "\n",
    "    if df_from_market_chart_range(coin_id=coin, from_year=years_ranges[0][0], to_year=years_ranges[0][1]).shape[0] > 364:\n",
    "        coin_choices.append(coin)\n",
    "\n",
    "    request_counter += 1\n",
    "\n",
    "    if request_counter == 10:\n",
    "\n",
    "        request_counter = 0\n",
    "\n",
    "        time.sleep(61)\n",
    "        \n",
    "    \n",
    "    \n"
   ]
  },
  {
   "cell_type": "code",
   "execution_count": 59,
   "metadata": {},
   "outputs": [
    {
     "data": {
      "text/plain": [
       "(18,\n",
       " ['bitcoin',\n",
       "  'ethereum',\n",
       "  'tether',\n",
       "  'binancecoin',\n",
       "  'ripple',\n",
       "  'cardano',\n",
       "  'dogecoin',\n",
       "  'tron',\n",
       "  'litecoin',\n",
       "  'bitcoin-cash',\n",
       "  'stellar',\n",
       "  'chainlink',\n",
       "  'monero',\n",
       "  'ethereum-classic',\n",
       "  'maker',\n",
       "  'eos',\n",
       "  'kucoin-shares',\n",
       "  'iota'])"
      ]
     },
     "execution_count": 59,
     "metadata": {},
     "output_type": "execute_result"
    }
   ],
   "source": [
    "len(coin_choices), coin_choices"
   ]
  },
  {
   "cell_type": "code",
   "execution_count": 60,
   "metadata": {},
   "outputs": [
    {
     "data": {
      "text/plain": [
       "[(1514786400, 1546322399),\n",
       " (1546322400, 1577858399),\n",
       " (1577858400, 1609480799),\n",
       " (1609480800, 1641016799),\n",
       " (1641016800, 1672552799),\n",
       " (1672552800, 1692469067)]"
      ]
     },
     "execution_count": 60,
     "metadata": {},
     "output_type": "execute_result"
    }
   ],
   "source": [
    "years_ranges"
   ]
  },
  {
   "cell_type": "code",
   "execution_count": 61,
   "metadata": {},
   "outputs": [
    {
     "data": {
      "text/plain": [
       "1692469067"
      ]
     },
     "execution_count": 61,
     "metadata": {},
     "output_type": "execute_result"
    }
   ],
   "source": [
    "years_ranges[-1][1]"
   ]
  },
  {
   "cell_type": "code",
   "execution_count": 238,
   "metadata": {},
   "outputs": [],
   "source": [
    "bitcoin_df = year_paging(coin_id=\"bitcoin\", years_ranges_list=years_ranges)"
   ]
  },
  {
   "cell_type": "code",
   "execution_count": 247,
   "metadata": {},
   "outputs": [
    {
     "data": {
      "text/plain": [
       "0.493344"
      ]
     },
     "execution_count": 247,
     "metadata": {},
     "output_type": "execute_result"
    }
   ],
   "source": [
    "import sys\n",
    "sys.getsizeof(bitcoin_df) / 1000000"
   ]
  },
  {
   "cell_type": "code",
   "execution_count": 62,
   "metadata": {},
   "outputs": [],
   "source": [
    "# import time\n",
    "\n",
    "# market_chart_coins = []\n",
    "\n",
    "# for coin in coin_choices:\n",
    "    \n",
    "#     coin_history_chart = {}\n",
    "\n",
    "#     coin_history_chart[coin] = year_paging(coin_id=coin, years_ranges_list=years_ranges)\n",
    "    \n",
    "#     market_chart_coins.append(coin_history_chart)\n",
    "\n",
    "#     # Pause the execution for the specified number of seconds\n",
    "#     time.sleep(61)"
   ]
  },
  {
   "cell_type": "code",
   "execution_count": 291,
   "metadata": {},
   "outputs": [],
   "source": [
    "def reshaping_market_chart(data_frame:pd.DataFrame):\n",
    "\n",
    "    data_frame[\"dates\"] = pd.to_datetime(data_frame[\"prices\"].apply(lambda price: price[0]), unit=\"ms\")\n",
    "    data_frame[\"prices\"] = data_frame[\"prices\"].apply(lambda price: price[1])\n",
    "    data_frame[\"market_caps\"] = data_frame[\"market_caps\"].apply(lambda market: market[1])\n",
    "    data_frame[\"total_volumes\"] = data_frame[\"total_volumes\"].apply(lambda vol: vol[1])"
   ]
  },
  {
   "cell_type": "code",
   "execution_count": 294,
   "metadata": {},
   "outputs": [
    {
     "data": {
      "text/html": [
       "<div>\n",
       "<style scoped>\n",
       "    .dataframe tbody tr th:only-of-type {\n",
       "        vertical-align: middle;\n",
       "    }\n",
       "\n",
       "    .dataframe tbody tr th {\n",
       "        vertical-align: top;\n",
       "    }\n",
       "\n",
       "    .dataframe thead th {\n",
       "        text-align: right;\n",
       "    }\n",
       "</style>\n",
       "<table border=\"1\" class=\"dataframe\">\n",
       "  <thead>\n",
       "    <tr style=\"text-align: right;\">\n",
       "      <th></th>\n",
       "      <th>prices</th>\n",
       "      <th>market_caps</th>\n",
       "      <th>total_volumes</th>\n",
       "      <th>dates</th>\n",
       "    </tr>\n",
       "  </thead>\n",
       "  <tbody>\n",
       "    <tr>\n",
       "      <th>0</th>\n",
       "      <td>15321.932852</td>\n",
       "      <td>2.570796e+11</td>\n",
       "      <td>4.130218e+09</td>\n",
       "      <td>2018-01-02</td>\n",
       "    </tr>\n",
       "    <tr>\n",
       "      <th>1</th>\n",
       "      <td>15583.885538</td>\n",
       "      <td>2.615052e+11</td>\n",
       "      <td>3.310356e+09</td>\n",
       "      <td>2018-01-03</td>\n",
       "    </tr>\n",
       "    <tr>\n",
       "      <th>2</th>\n",
       "      <td>15976.365194</td>\n",
       "      <td>2.681247e+11</td>\n",
       "      <td>4.217387e+09</td>\n",
       "      <td>2018-01-04</td>\n",
       "    </tr>\n",
       "    <tr>\n",
       "      <th>3</th>\n",
       "      <td>18336.922980</td>\n",
       "      <td>3.077740e+11</td>\n",
       "      <td>6.275688e+09</td>\n",
       "      <td>2018-01-05</td>\n",
       "    </tr>\n",
       "    <tr>\n",
       "      <th>4</th>\n",
       "      <td>18343.662493</td>\n",
       "      <td>3.079261e+11</td>\n",
       "      <td>4.240920e+09</td>\n",
       "      <td>2018-01-06</td>\n",
       "    </tr>\n",
       "    <tr>\n",
       "      <th>...</th>\n",
       "      <td>...</td>\n",
       "      <td>...</td>\n",
       "      <td>...</td>\n",
       "      <td>...</td>\n",
       "    </tr>\n",
       "    <tr>\n",
       "      <th>2050</th>\n",
       "      <td>29284.969714</td>\n",
       "      <td>5.696871e+11</td>\n",
       "      <td>4.755220e+09</td>\n",
       "      <td>2023-08-14</td>\n",
       "    </tr>\n",
       "    <tr>\n",
       "      <th>2051</th>\n",
       "      <td>29400.586804</td>\n",
       "      <td>5.722427e+11</td>\n",
       "      <td>1.240836e+10</td>\n",
       "      <td>2023-08-15</td>\n",
       "    </tr>\n",
       "    <tr>\n",
       "      <th>2052</th>\n",
       "      <td>29170.490397</td>\n",
       "      <td>5.674983e+11</td>\n",
       "      <td>1.152340e+10</td>\n",
       "      <td>2023-08-16</td>\n",
       "    </tr>\n",
       "    <tr>\n",
       "      <th>2053</th>\n",
       "      <td>28754.197021</td>\n",
       "      <td>5.599826e+11</td>\n",
       "      <td>1.480998e+10</td>\n",
       "      <td>2023-08-17</td>\n",
       "    </tr>\n",
       "    <tr>\n",
       "      <th>2054</th>\n",
       "      <td>26501.587270</td>\n",
       "      <td>5.160269e+11</td>\n",
       "      <td>2.996559e+10</td>\n",
       "      <td>2023-08-18</td>\n",
       "    </tr>\n",
       "  </tbody>\n",
       "</table>\n",
       "<p>2055 rows × 4 columns</p>\n",
       "</div>"
      ],
      "text/plain": [
       "            prices   market_caps  total_volumes      dates\n",
       "0     15321.932852  2.570796e+11   4.130218e+09 2018-01-02\n",
       "1     15583.885538  2.615052e+11   3.310356e+09 2018-01-03\n",
       "2     15976.365194  2.681247e+11   4.217387e+09 2018-01-04\n",
       "3     18336.922980  3.077740e+11   6.275688e+09 2018-01-05\n",
       "4     18343.662493  3.079261e+11   4.240920e+09 2018-01-06\n",
       "...            ...           ...            ...        ...\n",
       "2050  29284.969714  5.696871e+11   4.755220e+09 2023-08-14\n",
       "2051  29400.586804  5.722427e+11   1.240836e+10 2023-08-15\n",
       "2052  29170.490397  5.674983e+11   1.152340e+10 2023-08-16\n",
       "2053  28754.197021  5.599826e+11   1.480998e+10 2023-08-17\n",
       "2054  26501.587270  5.160269e+11   2.996559e+10 2023-08-18\n",
       "\n",
       "[2055 rows x 4 columns]"
      ]
     },
     "execution_count": 294,
     "metadata": {},
     "output_type": "execute_result"
    }
   ],
   "source": [
    "market_chart_coins[1][\"bitcoin\"]"
   ]
  },
  {
   "cell_type": "code",
   "execution_count": 296,
   "metadata": {},
   "outputs": [
    {
     "data": {
      "text/html": [
       "<div>\n",
       "<style scoped>\n",
       "    .dataframe tbody tr th:only-of-type {\n",
       "        vertical-align: middle;\n",
       "    }\n",
       "\n",
       "    .dataframe tbody tr th {\n",
       "        vertical-align: top;\n",
       "    }\n",
       "\n",
       "    .dataframe thead th {\n",
       "        text-align: right;\n",
       "    }\n",
       "</style>\n",
       "<table border=\"1\" class=\"dataframe\">\n",
       "  <thead>\n",
       "    <tr style=\"text-align: right;\">\n",
       "      <th></th>\n",
       "      <th>prices</th>\n",
       "      <th>market_caps</th>\n",
       "      <th>total_volumes</th>\n",
       "    </tr>\n",
       "  </thead>\n",
       "  <tbody>\n",
       "    <tr>\n",
       "      <th>0</th>\n",
       "      <td>[1514851200000, 876.890258814416]</td>\n",
       "      <td>[1514851200000, 84822222588.5437]</td>\n",
       "      <td>[1514851200000, 2720973272.07018]</td>\n",
       "    </tr>\n",
       "    <tr>\n",
       "      <th>1</th>\n",
       "      <td>[1514937600000, 963.0557506903511]</td>\n",
       "      <td>[1514937600000, 93178531120.43204]</td>\n",
       "      <td>[1514937600000, 2308657205.9772067]</td>\n",
       "    </tr>\n",
       "    <tr>\n",
       "      <th>2</th>\n",
       "      <td>[1515024000000, 978.416104183522]</td>\n",
       "      <td>[1515024000000, 94681149308.52457]</td>\n",
       "      <td>[1515024000000, 2756635496.077742]</td>\n",
       "    </tr>\n",
       "    <tr>\n",
       "      <th>3</th>\n",
       "      <td>[1515110400000, 1004.8949722625625]</td>\n",
       "      <td>[1515110400000, 97269228886.25314]</td>\n",
       "      <td>[1515110400000, 2894788528.9368753]</td>\n",
       "    </tr>\n",
       "    <tr>\n",
       "      <th>4</th>\n",
       "      <td>[1515196800000, 1052.02336010703]</td>\n",
       "      <td>[1515196800000, 101852997666.87328]</td>\n",
       "      <td>[1515196800000, 1824841952.503006]</td>\n",
       "    </tr>\n",
       "    <tr>\n",
       "      <th>...</th>\n",
       "      <td>...</td>\n",
       "      <td>...</td>\n",
       "      <td>...</td>\n",
       "    </tr>\n",
       "    <tr>\n",
       "      <th>2050</th>\n",
       "      <td>[1691971200000, 1839.5128095422053]</td>\n",
       "      <td>[1691971200000, 220948326523.33356]</td>\n",
       "      <td>[1691971200000, 3642424563.740612]</td>\n",
       "    </tr>\n",
       "    <tr>\n",
       "      <th>2051</th>\n",
       "      <td>[1692057600000, 1843.5133910053466]</td>\n",
       "      <td>[1692057600000, 221564238004.30878]</td>\n",
       "      <td>[1692057600000, 4495324729.871393]</td>\n",
       "    </tr>\n",
       "    <tr>\n",
       "      <th>2052</th>\n",
       "      <td>[1692144000000, 1826.9131281594616]</td>\n",
       "      <td>[1692144000000, 219472776850.51178]</td>\n",
       "      <td>[1692144000000, 4416612452.1140585]</td>\n",
       "    </tr>\n",
       "    <tr>\n",
       "      <th>2053</th>\n",
       "      <td>[1692230400000, 1809.4604742643007]</td>\n",
       "      <td>[1692230400000, 217444475880.3843]</td>\n",
       "      <td>[1692230400000, 6472231164.689248]</td>\n",
       "    </tr>\n",
       "    <tr>\n",
       "      <th>2054</th>\n",
       "      <td>[1692316800000, 1675.8621709457839]</td>\n",
       "      <td>[1692316800000, 201482976932.07773]</td>\n",
       "      <td>[1692316800000, 20962774898.104233]</td>\n",
       "    </tr>\n",
       "  </tbody>\n",
       "</table>\n",
       "<p>2055 rows × 3 columns</p>\n",
       "</div>"
      ],
      "text/plain": [
       "                                   prices  \\\n",
       "0       [1514851200000, 876.890258814416]   \n",
       "1      [1514937600000, 963.0557506903511]   \n",
       "2       [1515024000000, 978.416104183522]   \n",
       "3     [1515110400000, 1004.8949722625625]   \n",
       "4       [1515196800000, 1052.02336010703]   \n",
       "...                                   ...   \n",
       "2050  [1691971200000, 1839.5128095422053]   \n",
       "2051  [1692057600000, 1843.5133910053466]   \n",
       "2052  [1692144000000, 1826.9131281594616]   \n",
       "2053  [1692230400000, 1809.4604742643007]   \n",
       "2054  [1692316800000, 1675.8621709457839]   \n",
       "\n",
       "                              market_caps                        total_volumes  \n",
       "0       [1514851200000, 84822222588.5437]    [1514851200000, 2720973272.07018]  \n",
       "1      [1514937600000, 93178531120.43204]  [1514937600000, 2308657205.9772067]  \n",
       "2      [1515024000000, 94681149308.52457]   [1515024000000, 2756635496.077742]  \n",
       "3      [1515110400000, 97269228886.25314]  [1515110400000, 2894788528.9368753]  \n",
       "4     [1515196800000, 101852997666.87328]   [1515196800000, 1824841952.503006]  \n",
       "...                                   ...                                  ...  \n",
       "2050  [1691971200000, 220948326523.33356]   [1691971200000, 3642424563.740612]  \n",
       "2051  [1692057600000, 221564238004.30878]   [1692057600000, 4495324729.871393]  \n",
       "2052  [1692144000000, 219472776850.51178]  [1692144000000, 4416612452.1140585]  \n",
       "2053   [1692230400000, 217444475880.3843]   [1692230400000, 6472231164.689248]  \n",
       "2054  [1692316800000, 201482976932.07773]  [1692316800000, 20962774898.104233]  \n",
       "\n",
       "[2055 rows x 3 columns]"
      ]
     },
     "execution_count": 296,
     "metadata": {},
     "output_type": "execute_result"
    }
   ],
   "source": [
    "market_chart_coins[1][\"ethereum\"]"
   ]
  },
  {
   "cell_type": "code",
   "execution_count": 298,
   "metadata": {},
   "outputs": [
    {
     "data": {
      "text/plain": [
       "['ethereum',\n",
       " 'tether',\n",
       " 'binancecoin',\n",
       " 'ripple',\n",
       " 'usd-coin',\n",
       " 'staked-ether',\n",
       " 'cardano',\n",
       " 'solana',\n",
       " 'dogecoin']"
      ]
     },
     "execution_count": 298,
     "metadata": {},
     "output_type": "execute_result"
    }
   ],
   "source": [
    "coin_choices[1:]"
   ]
  },
  {
   "cell_type": "code",
   "execution_count": 308,
   "metadata": {},
   "outputs": [],
   "source": [
    "# for idx, val in enumerate(coin_choices):\n",
    "\n",
    "#     reshaping_market_chart(market_chart_coins[idx][val])"
   ]
  },
  {
   "cell_type": "code",
   "execution_count": 316,
   "metadata": {},
   "outputs": [],
   "source": [
    "# bitcoin_df = market_chart_coins[0][\"bitcoin\"]\n",
    "# ethereum_df = market_chart_coins[1][\"ethereum\"]\n",
    "# tether_df = market_chart_coins[2][\"tether\"]\n",
    "# binancecoin_df = market_chart_coins[3][\"binancecoin\"]\n",
    "# ripple_df = market_chart_coins[4][\"ripple\"]\n",
    "# usd_coin_df = market_chart_coins[5][\"usd-coin\"]\n",
    "# staked_ether_df = market_chart_coins[6][\"staked-ether\"]\n",
    "# cardano_df = market_chart_coins[7][\"cardano\"]\n",
    "# solana_df = market_chart_coins[8][\"solana\"]\n",
    "# dogecoin_df = market_chart_coins[9][\"dogecoin\"]\n"
   ]
  },
  {
   "cell_type": "code",
   "execution_count": 330,
   "metadata": {},
   "outputs": [],
   "source": [
    "# bitcoin_df.to_csv(\"data/bitcoin_df.csv\")\n",
    "# ethereum_df.to_csv(\"data/ethereum_df.csv\")\n",
    "# tether_df.to_csv(\"data/tether_df.csv\")\n",
    "# binancecoin_df.to_csv(\"data/binancecoin_df.csv\")\n",
    "# ripple_df.to_csv(\"data/ripple_df.csv\")\n",
    "# usd_coin_df.to_csv(\"data/usd_coin_df.csv\")\n",
    "# staked_ether_df.to_csv(\"data/staked_ether_df.csv\")\n",
    "# cardano_df.to_csv(\"data/cardano_df.csv\")\n",
    "# solana_df.to_csv(\"data/solana_df.csv\")\n",
    "# dogecoin_df.to_csv(\"data/dogecoin_df.csv\")"
   ]
  },
  {
   "cell_type": "code",
   "execution_count": 308,
   "metadata": {},
   "outputs": [],
   "source": [
    "bitcoin_df  =  pd.read_csv(\"data/bitcoin_df.csv\", index_col=0)\n",
    "ethereum_df  =  pd.read_csv(\"data/ethereum_df.csv\", index_col=0)\n",
    "tether_df  =  pd.read_csv(\"data/tether_df.csv\", index_col=0)\n",
    "binancecoin_df  =  pd.read_csv(\"data/binancecoin_df.csv\", index_col=0)\n",
    "ripple_df  =  pd.read_csv(\"data/ripple_df.csv\", index_col=0)\n",
    "usd_coin_df  =  pd.read_csv(\"data/usd_coin_df.csv\", index_col=0)\n",
    "staked_ether_df  =  pd.read_csv(\"data/staked_ether_df.csv\", index_col=0)\n",
    "cardano_df  =  pd.read_csv(\"data/cardano_df.csv\", index_col=0)\n",
    "solana_df  =  pd.read_csv(\"data/solana_df.csv\", index_col=0)\n",
    "dogecoin_df  =  pd.read_csv(\"data/dogecoin_df.csv\", index_col=0)"
   ]
  },
  {
   "cell_type": "code",
   "execution_count": 309,
   "metadata": {},
   "outputs": [
    {
     "data": {
      "image/png": "[encoded data removed]",
      "text/plain": [
       "<Figure size 640x480 with 1 Axes>"
      ]
     },
     "metadata": {},
     "output_type": "display_data"
    }
   ],
   "source": [
    "bitcoin_df.set_index(\"dates\", drop=True)[\"prices\"].plot();"
   ]
  },
  {
   "cell_type": "code",
   "execution_count": 310,
   "metadata": {},
   "outputs": [
    {
     "data": {
      "text/plain": [
       "<Axes: >"
      ]
     },
     "execution_count": 310,
     "metadata": {},
     "output_type": "execute_result"
    },
    {
     "data": {
      "image/png": "[encoded data removed]",
      "text/plain": [
       "<Figure size 640x480 with 1 Axes>"
      ]
     },
     "metadata": {},
     "output_type": "display_data"
    }
   ],
   "source": [
    "pd.concat([bitcoin_df[\"prices\"].rename(\"bitcoin_price\"), ethereum_df[\"prices\"].rename(\"ethereum_price\")], axis=1).plot()"
   ]
  },
  {
   "cell_type": "markdown",
   "metadata": {},
   "source": [
    "### Creating Price DataFrame"
   ]
  },
  {
   "cell_type": "code",
   "execution_count": 311,
   "metadata": {},
   "outputs": [],
   "source": [
    "import numpy as np\n",
    "import pandas as pd\n",
    "\n",
    "base_date = pd.to_datetime(\"2018-01-01\")  # Replace with your desired start date\n",
    "num_days = 2055  # Number of days\n",
    "step_size = np.timedelta64(1, 'D')  # 1 day\n",
    "\n",
    "date_linspace = base_date + np.arange(num_days) * step_size\n",
    "\n",
    "date_linspace = pd.DataFrame(date_linspace).rename(columns={0:\"dates\"})\n",
    "date_linspace[\"dates\"] = date_linspace[\"dates\"].dt.date"
   ]
  },
  {
   "cell_type": "code",
   "execution_count": 312,
   "metadata": {},
   "outputs": [],
   "source": [
    "bitcoin_df[\"dates\"] = pd.to_datetime(bitcoin_df[\"dates\"]).dt.date \n",
    "ethereum_df[\"dates\"] = pd.to_datetime(ethereum_df[\"dates\"]).dt.date\n",
    "tether_df[\"dates\"] = pd.to_datetime(tether_df[\"dates\"]).dt.date\n",
    "binancecoin_df[\"dates\"] = pd.to_datetime(binancecoin_df[\"dates\"]).dt.date\n",
    "ripple_df[\"dates\"] = pd.to_datetime(ripple_df[\"dates\"]).dt.date\n",
    "usd_coin_df[\"dates\"] = pd.to_datetime(usd_coin_df[\"dates\"]).dt.date\n",
    "staked_ether_df[\"dates\"] = pd.to_datetime(staked_ether_df[\"dates\"]).dt.date\n",
    "cardano_df[\"dates\"] = pd.to_datetime(cardano_df[\"dates\"]).dt.date\n",
    "solana_df[\"dates\"] = pd.to_datetime(solana_df[\"dates\"]).dt.date\n",
    "dogecoin_df[\"dates\"] = pd.to_datetime(dogecoin_df[\"dates\"]).dt.date"
   ]
  },
  {
   "cell_type": "code",
   "execution_count": 313,
   "metadata": {},
   "outputs": [],
   "source": [
    "date_linspace = date_linspace.merge(bitcoin_df[[\"dates\", \"prices\"]], on=\"dates\", how=\"left\").rename(columns={\"prices\": \"bitcoin_prices\"})\n",
    "date_linspace = date_linspace.merge(ethereum_df[[\"dates\", \"prices\"]], on=\"dates\", how=\"left\").rename(columns={\"prices\": \"ethereum_prices\"})\n",
    "date_linspace = date_linspace.merge(tether_df[[\"dates\", \"prices\"]], on=\"dates\", how=\"left\").rename(columns={\"prices\": \"tether_df_prices\"})\n",
    "date_linspace = date_linspace.merge(binancecoin_df[[\"dates\", \"prices\"]], on=\"dates\", how=\"left\").rename(columns={\"prices\": \"binancecoin_price\"})\n",
    "date_linspace = date_linspace.merge(ripple_df[[\"dates\", \"prices\"]], on=\"dates\", how=\"left\").rename(columns={\"prices\": \"ripple_prices\"})\n",
    "date_linspace = date_linspace.merge(usd_coin_df[[\"dates\", \"prices\"]], on=\"dates\", how=\"left\").rename(columns={\"prices\": \"usd_coin_prices\"})\n",
    "date_linspace = date_linspace.merge(staked_ether_df[[\"dates\", \"prices\"]], on=\"dates\", how=\"left\").rename(columns={\"prices\": \"staked_ether_prices\"})\n",
    "date_linspace = date_linspace.merge(cardano_df[[\"dates\", \"prices\"]], on=\"dates\", how=\"left\").rename(columns={\"prices\": \"cardano__prices\"})\n",
    "date_linspace = date_linspace.merge(solana_df[[\"dates\", \"prices\"]], on=\"dates\", how=\"left\").rename(columns={\"prices\": \"solana_prices\"})\n",
    "date_linspace = date_linspace.merge(dogecoin_df[[\"dates\", \"prices\"]], on=\"dates\", how=\"left\").rename(columns={\"prices\": \"dogecoin_prices\"})"
   ]
  },
  {
   "cell_type": "code",
   "execution_count": 314,
   "metadata": {},
   "outputs": [
    {
     "data": {
      "text/html": [
       "<div>\n",
       "<style scoped>\n",
       "    .dataframe tbody tr th:only-of-type {\n",
       "        vertical-align: middle;\n",
       "    }\n",
       "\n",
       "    .dataframe tbody tr th {\n",
       "        vertical-align: top;\n",
       "    }\n",
       "\n",
       "    .dataframe thead th {\n",
       "        text-align: right;\n",
       "    }\n",
       "</style>\n",
       "<table border=\"1\" class=\"dataframe\">\n",
       "  <thead>\n",
       "    <tr style=\"text-align: right;\">\n",
       "      <th></th>\n",
       "      <th>dates</th>\n",
       "      <th>bitcoin_prices</th>\n",
       "      <th>ethereum_prices</th>\n",
       "      <th>tether_df_prices</th>\n",
       "      <th>binancecoin_price</th>\n",
       "      <th>ripple_prices</th>\n",
       "      <th>usd_coin_prices</th>\n",
       "      <th>staked_ether_prices</th>\n",
       "      <th>cardano__prices</th>\n",
       "      <th>solana_prices</th>\n",
       "      <th>dogecoin_prices</th>\n",
       "    </tr>\n",
       "  </thead>\n",
       "  <tbody>\n",
       "    <tr>\n",
       "      <th>0</th>\n",
       "      <td>2018-01-01</td>\n",
       "      <td>0.000000</td>\n",
       "      <td>0.000000</td>\n",
       "      <td>0.000000</td>\n",
       "      <td>0.000000</td>\n",
       "      <td>0.000000</td>\n",
       "      <td>0.000000</td>\n",
       "      <td>0.000000</td>\n",
       "      <td>0.000000</td>\n",
       "      <td>0.000000</td>\n",
       "      <td>0.000000</td>\n",
       "    </tr>\n",
       "    <tr>\n",
       "      <th>1</th>\n",
       "      <td>2018-01-02</td>\n",
       "      <td>15321.932852</td>\n",
       "      <td>876.890259</td>\n",
       "      <td>1.003920</td>\n",
       "      <td>9.090393</td>\n",
       "      <td>2.455290</td>\n",
       "      <td>0.000000</td>\n",
       "      <td>0.000000</td>\n",
       "      <td>0.807430</td>\n",
       "      <td>0.000000</td>\n",
       "      <td>0.009335</td>\n",
       "    </tr>\n",
       "    <tr>\n",
       "      <th>2</th>\n",
       "      <td>2018-01-03</td>\n",
       "      <td>15583.885538</td>\n",
       "      <td>963.055751</td>\n",
       "      <td>1.015780</td>\n",
       "      <td>9.886323</td>\n",
       "      <td>3.125710</td>\n",
       "      <td>0.000000</td>\n",
       "      <td>0.000000</td>\n",
       "      <td>1.075401</td>\n",
       "      <td>0.000000</td>\n",
       "      <td>0.009592</td>\n",
       "    </tr>\n",
       "    <tr>\n",
       "      <th>3</th>\n",
       "      <td>2018-01-04</td>\n",
       "      <td>15976.365194</td>\n",
       "      <td>978.416104</td>\n",
       "      <td>1.002740</td>\n",
       "      <td>9.675758</td>\n",
       "      <td>3.220050</td>\n",
       "      <td>0.000000</td>\n",
       "      <td>0.000000</td>\n",
       "      <td>1.179347</td>\n",
       "      <td>0.000000</td>\n",
       "      <td>0.010098</td>\n",
       "    </tr>\n",
       "    <tr>\n",
       "      <th>4</th>\n",
       "      <td>2018-01-05</td>\n",
       "      <td>18336.922980</td>\n",
       "      <td>1004.894972</td>\n",
       "      <td>0.999695</td>\n",
       "      <td>16.488523</td>\n",
       "      <td>2.931380</td>\n",
       "      <td>0.000000</td>\n",
       "      <td>0.000000</td>\n",
       "      <td>1.077821</td>\n",
       "      <td>0.000000</td>\n",
       "      <td>0.013841</td>\n",
       "    </tr>\n",
       "    <tr>\n",
       "      <th>...</th>\n",
       "      <td>...</td>\n",
       "      <td>...</td>\n",
       "      <td>...</td>\n",
       "      <td>...</td>\n",
       "      <td>...</td>\n",
       "      <td>...</td>\n",
       "      <td>...</td>\n",
       "      <td>...</td>\n",
       "      <td>...</td>\n",
       "      <td>...</td>\n",
       "      <td>...</td>\n",
       "    </tr>\n",
       "    <tr>\n",
       "      <th>2050</th>\n",
       "      <td>2023-08-13</td>\n",
       "      <td>29412.142275</td>\n",
       "      <td>1848.505239</td>\n",
       "      <td>0.999377</td>\n",
       "      <td>240.088445</td>\n",
       "      <td>0.627081</td>\n",
       "      <td>0.999880</td>\n",
       "      <td>1846.710998</td>\n",
       "      <td>0.291666</td>\n",
       "      <td>24.891819</td>\n",
       "      <td>0.076696</td>\n",
       "    </tr>\n",
       "    <tr>\n",
       "      <th>2051</th>\n",
       "      <td>2023-08-14</td>\n",
       "      <td>29284.969714</td>\n",
       "      <td>1839.512810</td>\n",
       "      <td>0.999384</td>\n",
       "      <td>240.030792</td>\n",
       "      <td>0.625689</td>\n",
       "      <td>0.999981</td>\n",
       "      <td>1837.912572</td>\n",
       "      <td>0.289372</td>\n",
       "      <td>24.223294</td>\n",
       "      <td>0.074778</td>\n",
       "    </tr>\n",
       "    <tr>\n",
       "      <th>2052</th>\n",
       "      <td>2023-08-15</td>\n",
       "      <td>29400.586804</td>\n",
       "      <td>1843.513391</td>\n",
       "      <td>0.998713</td>\n",
       "      <td>240.358056</td>\n",
       "      <td>0.634681</td>\n",
       "      <td>0.999688</td>\n",
       "      <td>1842.552503</td>\n",
       "      <td>0.290452</td>\n",
       "      <td>25.147725</td>\n",
       "      <td>0.074764</td>\n",
       "    </tr>\n",
       "    <tr>\n",
       "      <th>2053</th>\n",
       "      <td>2023-08-16</td>\n",
       "      <td>29170.490397</td>\n",
       "      <td>1826.913128</td>\n",
       "      <td>0.998893</td>\n",
       "      <td>236.607285</td>\n",
       "      <td>0.609330</td>\n",
       "      <td>0.999975</td>\n",
       "      <td>1826.361340</td>\n",
       "      <td>0.281729</td>\n",
       "      <td>23.875641</td>\n",
       "      <td>0.070818</td>\n",
       "    </tr>\n",
       "    <tr>\n",
       "      <th>2054</th>\n",
       "      <td>2023-08-17</td>\n",
       "      <td>28754.197021</td>\n",
       "      <td>1809.460474</td>\n",
       "      <td>0.999750</td>\n",
       "      <td>232.095486</td>\n",
       "      <td>0.589253</td>\n",
       "      <td>1.000939</td>\n",
       "      <td>1807.898559</td>\n",
       "      <td>0.274852</td>\n",
       "      <td>22.846368</td>\n",
       "      <td>0.067312</td>\n",
       "    </tr>\n",
       "  </tbody>\n",
       "</table>\n",
       "<p>2055 rows × 11 columns</p>\n",
       "</div>"
      ],
      "text/plain": [
       "           dates  bitcoin_prices  ethereum_prices  tether_df_prices  \\\n",
       "0     2018-01-01        0.000000         0.000000          0.000000   \n",
       "1     2018-01-02    15321.932852       876.890259          1.003920   \n",
       "2     2018-01-03    15583.885538       963.055751          1.015780   \n",
       "3     2018-01-04    15976.365194       978.416104          1.002740   \n",
       "4     2018-01-05    18336.922980      1004.894972          0.999695   \n",
       "...          ...             ...              ...               ...   \n",
       "2050  2023-08-13    29412.142275      1848.505239          0.999377   \n",
       "2051  2023-08-14    29284.969714      1839.512810          0.999384   \n",
       "2052  2023-08-15    29400.586804      1843.513391          0.998713   \n",
       "2053  2023-08-16    29170.490397      1826.913128          0.998893   \n",
       "2054  2023-08-17    28754.197021      1809.460474          0.999750   \n",
       "\n",
       "      binancecoin_price  ripple_prices  usd_coin_prices  staked_ether_prices  \\\n",
       "0              0.000000       0.000000         0.000000             0.000000   \n",
       "1              9.090393       2.455290         0.000000             0.000000   \n",
       "2              9.886323       3.125710         0.000000             0.000000   \n",
       "3              9.675758       3.220050         0.000000             0.000000   \n",
       "4             16.488523       2.931380         0.000000             0.000000   \n",
       "...                 ...            ...              ...                  ...   \n",
       "2050         240.088445       0.627081         0.999880          1846.710998   \n",
       "2051         240.030792       0.625689         0.999981          1837.912572   \n",
       "2052         240.358056       0.634681         0.999688          1842.552503   \n",
       "2053         236.607285       0.609330         0.999975          1826.361340   \n",
       "2054         232.095486       0.589253         1.000939          1807.898559   \n",
       "\n",
       "      cardano__prices  solana_prices  dogecoin_prices  \n",
       "0            0.000000       0.000000         0.000000  \n",
       "1            0.807430       0.000000         0.009335  \n",
       "2            1.075401       0.000000         0.009592  \n",
       "3            1.179347       0.000000         0.010098  \n",
       "4            1.077821       0.000000         0.013841  \n",
       "...               ...            ...              ...  \n",
       "2050         0.291666      24.891819         0.076696  \n",
       "2051         0.289372      24.223294         0.074778  \n",
       "2052         0.290452      25.147725         0.074764  \n",
       "2053         0.281729      23.875641         0.070818  \n",
       "2054         0.274852      22.846368         0.067312  \n",
       "\n",
       "[2055 rows x 11 columns]"
      ]
     },
     "execution_count": 314,
     "metadata": {},
     "output_type": "execute_result"
    }
   ],
   "source": [
    "date_linspace.fillna(0)"
   ]
  },
  {
   "cell_type": "code",
   "execution_count": 315,
   "metadata": {},
   "outputs": [],
   "source": [
    "def percentage_null(data_frame: pd.DataFrame | pd.Series):\n",
    "    return round((data_frame.isna().sum().sort_values(ascending=False) / data_frame.shape[0] * 100),2)"
   ]
  },
  {
   "cell_type": "code",
   "execution_count": 316,
   "metadata": {},
   "outputs": [
    {
     "data": {
      "text/plain": [
       "staked_ether_prices    52.85\n",
       "solana_prices          40.44\n",
       "usd_coin_prices        13.48\n",
       "tether_df_prices        0.10\n",
       "bitcoin_prices          0.05\n",
       "ethereum_prices         0.05\n",
       "binancecoin_price       0.05\n",
       "ripple_prices           0.05\n",
       "cardano__prices         0.05\n",
       "dogecoin_prices         0.05\n",
       "dates                   0.00\n",
       "dtype: float64"
      ]
     },
     "execution_count": 316,
     "metadata": {},
     "output_type": "execute_result"
    }
   ],
   "source": [
    "percentage_null(date_linspace)"
   ]
  },
  {
   "cell_type": "code",
   "execution_count": 323,
   "metadata": {},
   "outputs": [],
   "source": [
    "def plot_range_price(columns:list, start_date:str, periods:int):\n",
    "\n",
    "    return (date_linspace.set_index(\"dates\")\n",
    "                        # Filtering settings\n",
    "                    .loc[pd.date_range(start=start_date, periods=periods, freq='D'),\n",
    "                            columns\n",
    "                            ]\n",
    "                        # Plotting settings\n",
    "                    .plot(\n",
    "                        figsize=(25, 10),\n",
    "                        linewidth=3\n",
    "                    ));"
   ]
  },
  {
   "cell_type": "code",
   "execution_count": 325,
   "metadata": {},
   "outputs": [
    {
     "data": {
      "text/plain": [
       "Index(['dates', 'bitcoin_prices', 'ethereum_prices', 'tether_df_prices',\n",
       "       'binancecoin_price', 'ripple_prices', 'usd_coin_prices',\n",
       "       'staked_ether_prices', 'cardano__prices', 'solana_prices',\n",
       "       'dogecoin_prices'],\n",
       "      dtype='object')"
      ]
     },
     "execution_count": 325,
     "metadata": {},
     "output_type": "execute_result"
    }
   ],
   "source": [
    "date_linspace.columns"
   ]
  },
  {
   "cell_type": "markdown",
   "metadata": {},
   "source": [
    "# Filling date for continuity\n",
    "\n",
    "\n",
    "If we were to attempt to filter through dates.. maybe there will some missing dates in the linspace.. for example the crupto currency solana has some dates missing.."
   ]
  },
  {
   "cell_type": "code",
   "execution_count": 336,
   "metadata": {},
   "outputs": [
    {
     "data": {
      "image/png": "[encoded data removed]",
      "text/plain": [
       "<Figure size 2500x1000 with 1 Axes>"
      ]
     },
     "metadata": {},
     "output_type": "display_data"
    }
   ],
   "source": [
    "plot_range_price(columns=['ethereum_prices', 'tether_df_prices',\n",
    "       'binancecoin_price', 'ripple_prices', 'usd_coin_prices',\n",
    "       'staked_ether_prices', 'cardano__prices', 'solana_prices',\n",
    "       'dogecoin_prices'], start_date=\"2018-01-02\", periods=1500);"
   ]
  },
  {
   "cell_type": "markdown",
   "metadata": {},
   "source": [
    "this worked accordingly well.. but now all coins survive in 2019 and if ranging from those years will throw an error (out of index range)"
   ]
  },
  {
   "cell_type": "code",
   "execution_count": 224,
   "metadata": {},
   "outputs": [
    {
     "data": {
      "text/plain": [
       "('2020-04-11', '2023-08-18')"
      ]
     },
     "execution_count": 224,
     "metadata": {},
     "output_type": "execute_result"
    }
   ],
   "source": [
    "solana_df[\"dates\"].min(), solana_df[\"dates\"].max()"
   ]
  },
  {
   "cell_type": "code",
   "execution_count": 229,
   "metadata": {},
   "outputs": [
    {
     "data": {
      "text/html": [
       "<div>\n",
       "<style scoped>\n",
       "    .dataframe tbody tr th:only-of-type {\n",
       "        vertical-align: middle;\n",
       "    }\n",
       "\n",
       "    .dataframe tbody tr th {\n",
       "        vertical-align: top;\n",
       "    }\n",
       "\n",
       "    .dataframe thead th {\n",
       "        text-align: right;\n",
       "    }\n",
       "</style>\n",
       "<table border=\"1\" class=\"dataframe\">\n",
       "  <thead>\n",
       "    <tr style=\"text-align: right;\">\n",
       "      <th></th>\n",
       "      <th>dates</th>\n",
       "      <th>bitcoin</th>\n",
       "      <th>ethereum</th>\n",
       "      <th>tether</th>\n",
       "      <th>binancecoin</th>\n",
       "      <th>ripple</th>\n",
       "      <th>usd_coin_df</th>\n",
       "      <th>staked_ether</th>\n",
       "      <th>cardano</th>\n",
       "      <th>solana</th>\n",
       "      <th>dogecoin</th>\n",
       "    </tr>\n",
       "  </thead>\n",
       "  <tbody>\n",
       "    <tr>\n",
       "      <th>0</th>\n",
       "      <td>2018-01-02</td>\n",
       "      <td>15321.932852</td>\n",
       "      <td>876.890259</td>\n",
       "      <td>1.003920</td>\n",
       "      <td>9.090393</td>\n",
       "      <td>2.455290</td>\n",
       "      <td>1.006242</td>\n",
       "      <td>617.164997</td>\n",
       "      <td>0.807430</td>\n",
       "      <td>0.957606</td>\n",
       "      <td>0.009335</td>\n",
       "    </tr>\n",
       "    <tr>\n",
       "      <th>1</th>\n",
       "      <td>2018-01-03</td>\n",
       "      <td>15583.885538</td>\n",
       "      <td>963.055751</td>\n",
       "      <td>1.015780</td>\n",
       "      <td>9.886323</td>\n",
       "      <td>3.125710</td>\n",
       "      <td>1.001530</td>\n",
       "      <td>617.164997</td>\n",
       "      <td>1.075401</td>\n",
       "      <td>0.784711</td>\n",
       "      <td>0.009592</td>\n",
       "    </tr>\n",
       "    <tr>\n",
       "      <th>2</th>\n",
       "      <td>2018-01-04</td>\n",
       "      <td>15976.365194</td>\n",
       "      <td>978.416104</td>\n",
       "      <td>1.002740</td>\n",
       "      <td>9.675758</td>\n",
       "      <td>3.220050</td>\n",
       "      <td>1.001177</td>\n",
       "      <td>596.767711</td>\n",
       "      <td>1.179347</td>\n",
       "      <td>0.875994</td>\n",
       "      <td>0.010098</td>\n",
       "    </tr>\n",
       "    <tr>\n",
       "      <th>3</th>\n",
       "      <td>2018-01-05</td>\n",
       "      <td>18336.922980</td>\n",
       "      <td>1004.894972</td>\n",
       "      <td>0.999695</td>\n",
       "      <td>16.488523</td>\n",
       "      <td>2.931380</td>\n",
       "      <td>1.001906</td>\n",
       "      <td>611.504712</td>\n",
       "      <td>1.077821</td>\n",
       "      <td>0.786712</td>\n",
       "      <td>0.013841</td>\n",
       "    </tr>\n",
       "    <tr>\n",
       "      <th>4</th>\n",
       "      <td>2018-01-06</td>\n",
       "      <td>18343.662493</td>\n",
       "      <td>1052.023360</td>\n",
       "      <td>1.008530</td>\n",
       "      <td>24.369905</td>\n",
       "      <td>3.091630</td>\n",
       "      <td>1.001983</td>\n",
       "      <td>624.800420</td>\n",
       "      <td>1.093780</td>\n",
       "      <td>0.666673</td>\n",
       "      <td>0.015865</td>\n",
       "    </tr>\n",
       "    <tr>\n",
       "      <th>...</th>\n",
       "      <td>...</td>\n",
       "      <td>...</td>\n",
       "      <td>...</td>\n",
       "      <td>...</td>\n",
       "      <td>...</td>\n",
       "      <td>...</td>\n",
       "      <td>...</td>\n",
       "      <td>...</td>\n",
       "      <td>...</td>\n",
       "      <td>...</td>\n",
       "      <td>...</td>\n",
       "    </tr>\n",
       "    <tr>\n",
       "      <th>2050</th>\n",
       "      <td>2023-08-15</td>\n",
       "      <td>29284.969714</td>\n",
       "      <td>1839.512810</td>\n",
       "      <td>0.998713</td>\n",
       "      <td>240.030792</td>\n",
       "      <td>0.625689</td>\n",
       "      <td>NaN</td>\n",
       "      <td>NaN</td>\n",
       "      <td>0.289372</td>\n",
       "      <td>NaN</td>\n",
       "      <td>0.074778</td>\n",
       "    </tr>\n",
       "    <tr>\n",
       "      <th>2051</th>\n",
       "      <td>2023-08-16</td>\n",
       "      <td>29400.586804</td>\n",
       "      <td>1843.513391</td>\n",
       "      <td>0.998893</td>\n",
       "      <td>240.358056</td>\n",
       "      <td>0.634681</td>\n",
       "      <td>NaN</td>\n",
       "      <td>NaN</td>\n",
       "      <td>0.290452</td>\n",
       "      <td>NaN</td>\n",
       "      <td>0.074764</td>\n",
       "    </tr>\n",
       "    <tr>\n",
       "      <th>2052</th>\n",
       "      <td>2023-08-17</td>\n",
       "      <td>29170.490397</td>\n",
       "      <td>1826.913128</td>\n",
       "      <td>0.999750</td>\n",
       "      <td>236.607285</td>\n",
       "      <td>0.609330</td>\n",
       "      <td>NaN</td>\n",
       "      <td>NaN</td>\n",
       "      <td>0.281729</td>\n",
       "      <td>NaN</td>\n",
       "      <td>0.070818</td>\n",
       "    </tr>\n",
       "    <tr>\n",
       "      <th>2053</th>\n",
       "      <td>2023-08-18</td>\n",
       "      <td>28754.197021</td>\n",
       "      <td>1809.460474</td>\n",
       "      <td>0.996174</td>\n",
       "      <td>232.095486</td>\n",
       "      <td>0.589253</td>\n",
       "      <td>NaN</td>\n",
       "      <td>NaN</td>\n",
       "      <td>0.274852</td>\n",
       "      <td>NaN</td>\n",
       "      <td>0.067312</td>\n",
       "    </tr>\n",
       "    <tr>\n",
       "      <th>2054</th>\n",
       "      <td>NaT</td>\n",
       "      <td>26501.587270</td>\n",
       "      <td>1675.862171</td>\n",
       "      <td>NaN</td>\n",
       "      <td>217.795538</td>\n",
       "      <td>0.504536</td>\n",
       "      <td>NaN</td>\n",
       "      <td>NaN</td>\n",
       "      <td>0.254361</td>\n",
       "      <td>NaN</td>\n",
       "      <td>0.061057</td>\n",
       "    </tr>\n",
       "  </tbody>\n",
       "</table>\n",
       "<p>2055 rows × 11 columns</p>\n",
       "</div>"
      ],
      "text/plain": [
       "           dates       bitcoin     ethereum    tether  binancecoin    ripple  \\\n",
       "0     2018-01-02  15321.932852   876.890259  1.003920     9.090393  2.455290   \n",
       "1     2018-01-03  15583.885538   963.055751  1.015780     9.886323  3.125710   \n",
       "2     2018-01-04  15976.365194   978.416104  1.002740     9.675758  3.220050   \n",
       "3     2018-01-05  18336.922980  1004.894972  0.999695    16.488523  2.931380   \n",
       "4     2018-01-06  18343.662493  1052.023360  1.008530    24.369905  3.091630   \n",
       "...          ...           ...          ...       ...          ...       ...   \n",
       "2050  2023-08-15  29284.969714  1839.512810  0.998713   240.030792  0.625689   \n",
       "2051  2023-08-16  29400.586804  1843.513391  0.998893   240.358056  0.634681   \n",
       "2052  2023-08-17  29170.490397  1826.913128  0.999750   236.607285  0.609330   \n",
       "2053  2023-08-18  28754.197021  1809.460474  0.996174   232.095486  0.589253   \n",
       "2054         NaT  26501.587270  1675.862171       NaN   217.795538  0.504536   \n",
       "\n",
       "      usd_coin_df  staked_ether   cardano    solana  dogecoin  \n",
       "0        1.006242    617.164997  0.807430  0.957606  0.009335  \n",
       "1        1.001530    617.164997  1.075401  0.784711  0.009592  \n",
       "2        1.001177    596.767711  1.179347  0.875994  0.010098  \n",
       "3        1.001906    611.504712  1.077821  0.786712  0.013841  \n",
       "4        1.001983    624.800420  1.093780  0.666673  0.015865  \n",
       "...           ...           ...       ...       ...       ...  \n",
       "2050          NaN           NaN  0.289372       NaN  0.074778  \n",
       "2051          NaN           NaN  0.290452       NaN  0.074764  \n",
       "2052          NaN           NaN  0.281729       NaN  0.070818  \n",
       "2053          NaN           NaN  0.274852       NaN  0.067312  \n",
       "2054          NaN           NaN  0.254361       NaN  0.061057  \n",
       "\n",
       "[2055 rows x 11 columns]"
      ]
     },
     "execution_count": 229,
     "metadata": {},
     "output_type": "execute_result"
    }
   ],
   "source": [
    "prices_df"
   ]
  },
  {
   "cell_type": "code",
   "execution_count": 228,
   "metadata": {},
   "outputs": [
    {
     "data": {
      "text/html": [
       "<div>\n",
       "<style scoped>\n",
       "    .dataframe tbody tr th:only-of-type {\n",
       "        vertical-align: middle;\n",
       "    }\n",
       "\n",
       "    .dataframe tbody tr th {\n",
       "        vertical-align: top;\n",
       "    }\n",
       "\n",
       "    .dataframe thead th {\n",
       "        text-align: right;\n",
       "    }\n",
       "</style>\n",
       "<table border=\"1\" class=\"dataframe\">\n",
       "  <thead>\n",
       "    <tr style=\"text-align: right;\">\n",
       "      <th></th>\n",
       "      <th>prices</th>\n",
       "      <th>market_caps</th>\n",
       "      <th>total_volumes</th>\n",
       "      <th>dates</th>\n",
       "    </tr>\n",
       "  </thead>\n",
       "  <tbody>\n",
       "    <tr>\n",
       "      <th>0</th>\n",
       "      <td>0.957606</td>\n",
       "      <td>7.827652e+06</td>\n",
       "      <td>9.267267e+07</td>\n",
       "      <td>2020-04-11</td>\n",
       "    </tr>\n",
       "    <tr>\n",
       "      <th>1</th>\n",
       "      <td>0.784711</td>\n",
       "      <td>6.173608e+06</td>\n",
       "      <td>4.945869e+07</td>\n",
       "      <td>2020-04-12</td>\n",
       "    </tr>\n",
       "    <tr>\n",
       "      <th>2</th>\n",
       "      <td>0.875994</td>\n",
       "      <td>7.269680e+06</td>\n",
       "      <td>3.782101e+07</td>\n",
       "      <td>2020-04-13</td>\n",
       "    </tr>\n",
       "    <tr>\n",
       "      <th>3</th>\n",
       "      <td>0.786712</td>\n",
       "      <td>6.302364e+06</td>\n",
       "      <td>1.957921e+07</td>\n",
       "      <td>2020-04-14</td>\n",
       "    </tr>\n",
       "    <tr>\n",
       "      <th>4</th>\n",
       "      <td>0.666673</td>\n",
       "      <td>5.306221e+06</td>\n",
       "      <td>1.752353e+07</td>\n",
       "      <td>2020-04-15</td>\n",
       "    </tr>\n",
       "    <tr>\n",
       "      <th>...</th>\n",
       "      <td>...</td>\n",
       "      <td>...</td>\n",
       "      <td>...</td>\n",
       "      <td>...</td>\n",
       "    </tr>\n",
       "    <tr>\n",
       "      <th>1220</th>\n",
       "      <td>24.223294</td>\n",
       "      <td>9.839555e+09</td>\n",
       "      <td>2.781821e+08</td>\n",
       "      <td>2023-08-14</td>\n",
       "    </tr>\n",
       "    <tr>\n",
       "      <th>1221</th>\n",
       "      <td>25.147725</td>\n",
       "      <td>1.021132e+10</td>\n",
       "      <td>3.880259e+08</td>\n",
       "      <td>2023-08-15</td>\n",
       "    </tr>\n",
       "    <tr>\n",
       "      <th>1222</th>\n",
       "      <td>23.875641</td>\n",
       "      <td>9.697572e+09</td>\n",
       "      <td>4.525215e+08</td>\n",
       "      <td>2023-08-16</td>\n",
       "    </tr>\n",
       "    <tr>\n",
       "      <th>1223</th>\n",
       "      <td>22.846368</td>\n",
       "      <td>9.300306e+09</td>\n",
       "      <td>4.952949e+08</td>\n",
       "      <td>2023-08-17</td>\n",
       "    </tr>\n",
       "    <tr>\n",
       "      <th>1224</th>\n",
       "      <td>21.646962</td>\n",
       "      <td>8.833376e+09</td>\n",
       "      <td>6.564125e+08</td>\n",
       "      <td>2023-08-18</td>\n",
       "    </tr>\n",
       "  </tbody>\n",
       "</table>\n",
       "<p>1225 rows × 4 columns</p>\n",
       "</div>"
      ],
      "text/plain": [
       "         prices   market_caps  total_volumes       dates\n",
       "0      0.957606  7.827652e+06   9.267267e+07  2020-04-11\n",
       "1      0.784711  6.173608e+06   4.945869e+07  2020-04-12\n",
       "2      0.875994  7.269680e+06   3.782101e+07  2020-04-13\n",
       "3      0.786712  6.302364e+06   1.957921e+07  2020-04-14\n",
       "4      0.666673  5.306221e+06   1.752353e+07  2020-04-15\n",
       "...         ...           ...            ...         ...\n",
       "1220  24.223294  9.839555e+09   2.781821e+08  2023-08-14\n",
       "1221  25.147725  1.021132e+10   3.880259e+08  2023-08-15\n",
       "1222  23.875641  9.697572e+09   4.525215e+08  2023-08-16\n",
       "1223  22.846368  9.300306e+09   4.952949e+08  2023-08-17\n",
       "1224  21.646962  8.833376e+09   6.564125e+08  2023-08-18\n",
       "\n",
       "[1225 rows x 4 columns]"
      ]
     },
     "execution_count": 228,
     "metadata": {},
     "output_type": "execute_result"
    }
   ],
   "source": [
    "solana_df.sort_values(\"dates\")"
   ]
  },
  {
   "cell_type": "code",
   "execution_count": 220,
   "metadata": {},
   "outputs": [
    {
     "data": {
      "text/plain": [
       "2055"
      ]
     },
     "execution_count": 220,
     "metadata": {},
     "output_type": "execute_result"
    }
   ],
   "source": [
    "bitcoin_df.shape[0]"
   ]
  },
  {
   "cell_type": "code",
   "execution_count": null,
   "metadata": {},
   "outputs": [],
   "source": []
  }
 ],
 "metadata": {
  "kernelspec": {
   "display_name": ".pida_venv",
   "language": "python",
   "name": "python3"
  },
  "language_info": {
   "codemirror_mode": {
    "name": "ipython",
    "version": 3
   },
   "file_extension": ".py",
   "mimetype": "text/x-python",
   "name": "python",
   "nbconvert_exporter": "python",
   "pygments_lexer": "ipython3",
   "version": "3.10.11"
  },
  "orig_nbformat": 4
 },
 "nbformat": 4,
 "nbformat_minor": 2
}
